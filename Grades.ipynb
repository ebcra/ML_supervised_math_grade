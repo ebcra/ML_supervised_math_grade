{
 "cells": [
  {
   "cell_type": "markdown",
   "metadata": {},
   "source": [
    "# Predicting students' grades (group, classifications - low, middle, high)\n",
    "\n",
    "The task is to find the students that will get low grades so that actions can be taken to help them improve. When predicting class/group making sure as many of the actual low-group students as possible are classified as low-group is of importance. Therefore recall will be of significance since we want as few false negatives as possible. Accidentally classifying some students from groups 'middle' or 'high' (grades) does not do any harm. Precision is thus of less significance.  "
   ]
  },
  {
   "cell_type": "code",
   "execution_count": 666,
   "metadata": {},
   "outputs": [],
   "source": [
    "import pandas as pd\n",
    "import matplotlib.pyplot as plt\n",
    "import numpy as np\n",
    "import seaborn as sns\n",
    "pd.options.display.max_columns = 50"
   ]
  },
  {
   "cell_type": "code",
   "execution_count": 667,
   "metadata": {},
   "outputs": [],
   "source": [
    "df = pd.read_csv('student-mat.csv')"
   ]
  },
  {
   "cell_type": "code",
   "execution_count": 566,
   "metadata": {},
   "outputs": [
    {
     "data": {
      "text/html": [
       "<div>\n",
       "<style scoped>\n",
       "    .dataframe tbody tr th:only-of-type {\n",
       "        vertical-align: middle;\n",
       "    }\n",
       "\n",
       "    .dataframe tbody tr th {\n",
       "        vertical-align: top;\n",
       "    }\n",
       "\n",
       "    .dataframe thead th {\n",
       "        text-align: right;\n",
       "    }\n",
       "</style>\n",
       "<table border=\"1\" class=\"dataframe\">\n",
       "  <thead>\n",
       "    <tr style=\"text-align: right;\">\n",
       "      <th></th>\n",
       "      <th>school</th>\n",
       "      <th>sex</th>\n",
       "      <th>age</th>\n",
       "      <th>address</th>\n",
       "      <th>famsize</th>\n",
       "      <th>Pstatus</th>\n",
       "      <th>Medu</th>\n",
       "      <th>Fedu</th>\n",
       "      <th>Mjob</th>\n",
       "      <th>Fjob</th>\n",
       "      <th>reason</th>\n",
       "      <th>guardian</th>\n",
       "      <th>traveltime</th>\n",
       "      <th>studytime</th>\n",
       "      <th>failures</th>\n",
       "      <th>schoolsup</th>\n",
       "      <th>famsup</th>\n",
       "      <th>paid</th>\n",
       "      <th>activities</th>\n",
       "      <th>nursery</th>\n",
       "      <th>higher</th>\n",
       "      <th>internet</th>\n",
       "      <th>romantic</th>\n",
       "      <th>famrel</th>\n",
       "      <th>freetime</th>\n",
       "      <th>goout</th>\n",
       "      <th>Dalc</th>\n",
       "      <th>Walc</th>\n",
       "      <th>health</th>\n",
       "      <th>absences</th>\n",
       "      <th>G1</th>\n",
       "      <th>G2</th>\n",
       "      <th>G3</th>\n",
       "    </tr>\n",
       "  </thead>\n",
       "  <tbody>\n",
       "    <tr>\n",
       "      <th>0</th>\n",
       "      <td>GP</td>\n",
       "      <td>F</td>\n",
       "      <td>18</td>\n",
       "      <td>U</td>\n",
       "      <td>GT3</td>\n",
       "      <td>A</td>\n",
       "      <td>4</td>\n",
       "      <td>4</td>\n",
       "      <td>at_home</td>\n",
       "      <td>teacher</td>\n",
       "      <td>course</td>\n",
       "      <td>mother</td>\n",
       "      <td>2</td>\n",
       "      <td>2</td>\n",
       "      <td>0</td>\n",
       "      <td>yes</td>\n",
       "      <td>no</td>\n",
       "      <td>no</td>\n",
       "      <td>no</td>\n",
       "      <td>yes</td>\n",
       "      <td>yes</td>\n",
       "      <td>no</td>\n",
       "      <td>no</td>\n",
       "      <td>4</td>\n",
       "      <td>3</td>\n",
       "      <td>4</td>\n",
       "      <td>1</td>\n",
       "      <td>1</td>\n",
       "      <td>3</td>\n",
       "      <td>6</td>\n",
       "      <td>5</td>\n",
       "      <td>6</td>\n",
       "      <td>6</td>\n",
       "    </tr>\n",
       "    <tr>\n",
       "      <th>1</th>\n",
       "      <td>GP</td>\n",
       "      <td>F</td>\n",
       "      <td>17</td>\n",
       "      <td>U</td>\n",
       "      <td>GT3</td>\n",
       "      <td>T</td>\n",
       "      <td>1</td>\n",
       "      <td>1</td>\n",
       "      <td>at_home</td>\n",
       "      <td>other</td>\n",
       "      <td>course</td>\n",
       "      <td>father</td>\n",
       "      <td>1</td>\n",
       "      <td>2</td>\n",
       "      <td>0</td>\n",
       "      <td>no</td>\n",
       "      <td>yes</td>\n",
       "      <td>no</td>\n",
       "      <td>no</td>\n",
       "      <td>no</td>\n",
       "      <td>yes</td>\n",
       "      <td>yes</td>\n",
       "      <td>no</td>\n",
       "      <td>5</td>\n",
       "      <td>3</td>\n",
       "      <td>3</td>\n",
       "      <td>1</td>\n",
       "      <td>1</td>\n",
       "      <td>3</td>\n",
       "      <td>4</td>\n",
       "      <td>5</td>\n",
       "      <td>5</td>\n",
       "      <td>6</td>\n",
       "    </tr>\n",
       "    <tr>\n",
       "      <th>2</th>\n",
       "      <td>GP</td>\n",
       "      <td>F</td>\n",
       "      <td>15</td>\n",
       "      <td>U</td>\n",
       "      <td>LE3</td>\n",
       "      <td>T</td>\n",
       "      <td>1</td>\n",
       "      <td>1</td>\n",
       "      <td>at_home</td>\n",
       "      <td>other</td>\n",
       "      <td>other</td>\n",
       "      <td>mother</td>\n",
       "      <td>1</td>\n",
       "      <td>2</td>\n",
       "      <td>3</td>\n",
       "      <td>yes</td>\n",
       "      <td>no</td>\n",
       "      <td>yes</td>\n",
       "      <td>no</td>\n",
       "      <td>yes</td>\n",
       "      <td>yes</td>\n",
       "      <td>yes</td>\n",
       "      <td>no</td>\n",
       "      <td>4</td>\n",
       "      <td>3</td>\n",
       "      <td>2</td>\n",
       "      <td>2</td>\n",
       "      <td>3</td>\n",
       "      <td>3</td>\n",
       "      <td>10</td>\n",
       "      <td>7</td>\n",
       "      <td>8</td>\n",
       "      <td>10</td>\n",
       "    </tr>\n",
       "    <tr>\n",
       "      <th>3</th>\n",
       "      <td>GP</td>\n",
       "      <td>F</td>\n",
       "      <td>15</td>\n",
       "      <td>U</td>\n",
       "      <td>GT3</td>\n",
       "      <td>T</td>\n",
       "      <td>4</td>\n",
       "      <td>2</td>\n",
       "      <td>health</td>\n",
       "      <td>services</td>\n",
       "      <td>home</td>\n",
       "      <td>mother</td>\n",
       "      <td>1</td>\n",
       "      <td>3</td>\n",
       "      <td>0</td>\n",
       "      <td>no</td>\n",
       "      <td>yes</td>\n",
       "      <td>yes</td>\n",
       "      <td>yes</td>\n",
       "      <td>yes</td>\n",
       "      <td>yes</td>\n",
       "      <td>yes</td>\n",
       "      <td>yes</td>\n",
       "      <td>3</td>\n",
       "      <td>2</td>\n",
       "      <td>2</td>\n",
       "      <td>1</td>\n",
       "      <td>1</td>\n",
       "      <td>5</td>\n",
       "      <td>2</td>\n",
       "      <td>15</td>\n",
       "      <td>14</td>\n",
       "      <td>15</td>\n",
       "    </tr>\n",
       "    <tr>\n",
       "      <th>4</th>\n",
       "      <td>GP</td>\n",
       "      <td>F</td>\n",
       "      <td>16</td>\n",
       "      <td>U</td>\n",
       "      <td>GT3</td>\n",
       "      <td>T</td>\n",
       "      <td>3</td>\n",
       "      <td>3</td>\n",
       "      <td>other</td>\n",
       "      <td>other</td>\n",
       "      <td>home</td>\n",
       "      <td>father</td>\n",
       "      <td>1</td>\n",
       "      <td>2</td>\n",
       "      <td>0</td>\n",
       "      <td>no</td>\n",
       "      <td>yes</td>\n",
       "      <td>yes</td>\n",
       "      <td>no</td>\n",
       "      <td>yes</td>\n",
       "      <td>yes</td>\n",
       "      <td>no</td>\n",
       "      <td>no</td>\n",
       "      <td>4</td>\n",
       "      <td>3</td>\n",
       "      <td>2</td>\n",
       "      <td>1</td>\n",
       "      <td>2</td>\n",
       "      <td>5</td>\n",
       "      <td>4</td>\n",
       "      <td>6</td>\n",
       "      <td>10</td>\n",
       "      <td>10</td>\n",
       "    </tr>\n",
       "  </tbody>\n",
       "</table>\n",
       "</div>"
      ],
      "text/plain": [
       "  school sex  age address famsize Pstatus  Medu  Fedu     Mjob      Fjob  \\\n",
       "0     GP   F   18       U     GT3       A     4     4  at_home   teacher   \n",
       "1     GP   F   17       U     GT3       T     1     1  at_home     other   \n",
       "2     GP   F   15       U     LE3       T     1     1  at_home     other   \n",
       "3     GP   F   15       U     GT3       T     4     2   health  services   \n",
       "4     GP   F   16       U     GT3       T     3     3    other     other   \n",
       "\n",
       "   reason guardian  traveltime  studytime  failures schoolsup famsup paid  \\\n",
       "0  course   mother           2          2         0       yes     no   no   \n",
       "1  course   father           1          2         0        no    yes   no   \n",
       "2   other   mother           1          2         3       yes     no  yes   \n",
       "3    home   mother           1          3         0        no    yes  yes   \n",
       "4    home   father           1          2         0        no    yes  yes   \n",
       "\n",
       "  activities nursery higher internet romantic  famrel  freetime  goout  Dalc  \\\n",
       "0         no     yes    yes       no       no       4         3      4     1   \n",
       "1         no      no    yes      yes       no       5         3      3     1   \n",
       "2         no     yes    yes      yes       no       4         3      2     2   \n",
       "3        yes     yes    yes      yes      yes       3         2      2     1   \n",
       "4         no     yes    yes       no       no       4         3      2     1   \n",
       "\n",
       "   Walc  health  absences  G1  G2  G3  \n",
       "0     1       3         6   5   6   6  \n",
       "1     1       3         4   5   5   6  \n",
       "2     3       3        10   7   8  10  \n",
       "3     1       5         2  15  14  15  \n",
       "4     2       5         4   6  10  10  "
      ]
     },
     "execution_count": 566,
     "metadata": {},
     "output_type": "execute_result"
    }
   ],
   "source": [
    "df.head()"
   ]
  },
  {
   "cell_type": "markdown",
   "metadata": {},
   "source": [
    "# Column explanation\n",
    "\n",
    "school - student's school (binary: 'GP' - Gabriel Pereira or 'MS' - Mousinho da Silveira)\n",
    "\n",
    "sex - student's sex (binary: 'F' - female or 'M' - male)\n",
    "\n",
    "age - student's age (numeric: from 15 to 22)\n",
    "\n",
    "address - student's home address type (binary: 'U' - urban or 'R' - rural)\n",
    "\n",
    "famsize - family size (binary: 'LE3' - less or equal to 3 or 'GT3' - greater than 3)\n",
    "\n",
    "Pstatus - parent's cohabitation status (binary: 'T' - living together or 'A' - apart)\n",
    "\n",
    "Medu - mother's education (numeric: 0 - none, 1 - primary education (4th grade), 2 – 5th to 9th grade, 3 – \n",
    "\n",
    "secondary education or 4 – higher education)\n",
    "\n",
    "Fedu - father's education (numeric: 0 - none, 1 - primary education (4th grade), 2 – 5th to 9th grade, 3 – \n",
    "\n",
    "secondary education or 4 – higher education)\n",
    "\n",
    "Mjob - mother's job (nominal: 'teacher', 'health' care related, civil 'services' (e.g. administrative or police), 'at_home' or 'other')\n",
    "\n",
    "Fjob - father's job (nominal: 'teacher', 'health' care related, civil 'services' (e.g. administrative or police), 'at_home' or 'other')\n",
    "\n",
    "reason - reason to choose this school (nominal: close to 'home', school 'reputation', 'course' preference or 'other')\n",
    "\n",
    "guardian - student's guardian (nominal: 'mother', 'father' or 'other')\n",
    "\n",
    "traveltime - home to school travel time (numeric: 1 - 1 hour)\n",
    "\n",
    "studytime - weekly study time (numeric: 1 - 10 hours)\n",
    "\n",
    "failures - number of past class failures (numeric: n if 1<=n<3, else 4)\n",
    "\n",
    "schoolsup - extra educational support (binary: yes or no)\n",
    "\n",
    "famsup - family educational support (binary: yes or no)\n",
    "\n",
    "paid - extra paid classes within the course subject (Math or Portuguese) (binary: yes or no)\n",
    "\n",
    "activities - extra-curricular activities (binary: yes or no)\n",
    "\n",
    "nursery - attended nursery school (binary: yes or no)\n",
    "\n",
    "higher - wants to take higher education (binary: yes or no)\n",
    "\n",
    "internet - Internet access at home (binary: yes or no)\n",
    "\n",
    "romantic - with a romantic relationship (binary: yes or no)\n",
    "\n",
    "famrel - quality of family relationships (numeric: from 1 - very bad to 5 - excellent)\n",
    "\n",
    "freetime - free time after school (numeric: from 1 - very low to 5 - very high)\n",
    "\n",
    "goout - going out with friends (numeric: from 1 - very low to 5 - very high)\n",
    "\n",
    "Dalc - workday alcohol consumption (numeric: from 1 - very low to 5 - very high)\n",
    "\n",
    "Walc - weekend alcohol consumption (numeric: from 1 - very low to 5 - very high)\n",
    "\n",
    "health - current health status (numeric: from 1 - very bad to 5 - very good)\n",
    "\n",
    "absences - number of school absences (numeric: from 0 to 93)\n",
    "\n",
    "G1 - first period grade (numeric: from 0 to 20)\n",
    "\n",
    "G2 - second period grade (numeric: from 0 to 20)\n",
    "\n",
    "G3 - final grade (numeric: from 0 to 20, output target)"
   ]
  },
  {
   "cell_type": "code",
   "execution_count": 567,
   "metadata": {},
   "outputs": [
    {
     "name": "stdout",
     "output_type": "stream",
     "text": [
      "<class 'pandas.core.frame.DataFrame'>\n",
      "RangeIndex: 395 entries, 0 to 394\n",
      "Data columns (total 33 columns):\n",
      " #   Column      Non-Null Count  Dtype \n",
      "---  ------      --------------  ----- \n",
      " 0   school      395 non-null    object\n",
      " 1   sex         395 non-null    object\n",
      " 2   age         395 non-null    int64 \n",
      " 3   address     395 non-null    object\n",
      " 4   famsize     395 non-null    object\n",
      " 5   Pstatus     395 non-null    object\n",
      " 6   Medu        395 non-null    int64 \n",
      " 7   Fedu        395 non-null    int64 \n",
      " 8   Mjob        395 non-null    object\n",
      " 9   Fjob        395 non-null    object\n",
      " 10  reason      395 non-null    object\n",
      " 11  guardian    395 non-null    object\n",
      " 12  traveltime  395 non-null    int64 \n",
      " 13  studytime   395 non-null    int64 \n",
      " 14  failures    395 non-null    int64 \n",
      " 15  schoolsup   395 non-null    object\n",
      " 16  famsup      395 non-null    object\n",
      " 17  paid        395 non-null    object\n",
      " 18  activities  395 non-null    object\n",
      " 19  nursery     395 non-null    object\n",
      " 20  higher      395 non-null    object\n",
      " 21  internet    395 non-null    object\n",
      " 22  romantic    395 non-null    object\n",
      " 23  famrel      395 non-null    int64 \n",
      " 24  freetime    395 non-null    int64 \n",
      " 25  goout       395 non-null    int64 \n",
      " 26  Dalc        395 non-null    int64 \n",
      " 27  Walc        395 non-null    int64 \n",
      " 28  health      395 non-null    int64 \n",
      " 29  absences    395 non-null    int64 \n",
      " 30  G1          395 non-null    int64 \n",
      " 31  G2          395 non-null    int64 \n",
      " 32  G3          395 non-null    int64 \n",
      "dtypes: int64(16), object(17)\n",
      "memory usage: 102.0+ KB\n"
     ]
    }
   ],
   "source": [
    "df.info()"
   ]
  },
  {
   "cell_type": "code",
   "execution_count": 568,
   "metadata": {},
   "outputs": [
    {
     "data": {
      "text/html": [
       "<div>\n",
       "<style scoped>\n",
       "    .dataframe tbody tr th:only-of-type {\n",
       "        vertical-align: middle;\n",
       "    }\n",
       "\n",
       "    .dataframe tbody tr th {\n",
       "        vertical-align: top;\n",
       "    }\n",
       "\n",
       "    .dataframe thead th {\n",
       "        text-align: right;\n",
       "    }\n",
       "</style>\n",
       "<table border=\"1\" class=\"dataframe\">\n",
       "  <thead>\n",
       "    <tr style=\"text-align: right;\">\n",
       "      <th></th>\n",
       "      <th>age</th>\n",
       "      <th>Medu</th>\n",
       "      <th>Fedu</th>\n",
       "      <th>traveltime</th>\n",
       "      <th>studytime</th>\n",
       "      <th>failures</th>\n",
       "      <th>famrel</th>\n",
       "      <th>freetime</th>\n",
       "      <th>goout</th>\n",
       "      <th>Dalc</th>\n",
       "      <th>Walc</th>\n",
       "      <th>health</th>\n",
       "      <th>absences</th>\n",
       "      <th>G1</th>\n",
       "      <th>G2</th>\n",
       "      <th>G3</th>\n",
       "    </tr>\n",
       "  </thead>\n",
       "  <tbody>\n",
       "    <tr>\n",
       "      <th>count</th>\n",
       "      <td>395.000000</td>\n",
       "      <td>395.000000</td>\n",
       "      <td>395.000000</td>\n",
       "      <td>395.000000</td>\n",
       "      <td>395.000000</td>\n",
       "      <td>395.000000</td>\n",
       "      <td>395.000000</td>\n",
       "      <td>395.000000</td>\n",
       "      <td>395.000000</td>\n",
       "      <td>395.000000</td>\n",
       "      <td>395.000000</td>\n",
       "      <td>395.000000</td>\n",
       "      <td>395.000000</td>\n",
       "      <td>395.000000</td>\n",
       "      <td>395.000000</td>\n",
       "      <td>395.000000</td>\n",
       "    </tr>\n",
       "    <tr>\n",
       "      <th>mean</th>\n",
       "      <td>16.696203</td>\n",
       "      <td>2.749367</td>\n",
       "      <td>2.521519</td>\n",
       "      <td>1.448101</td>\n",
       "      <td>2.035443</td>\n",
       "      <td>0.334177</td>\n",
       "      <td>3.944304</td>\n",
       "      <td>3.235443</td>\n",
       "      <td>3.108861</td>\n",
       "      <td>1.481013</td>\n",
       "      <td>2.291139</td>\n",
       "      <td>3.554430</td>\n",
       "      <td>5.708861</td>\n",
       "      <td>10.908861</td>\n",
       "      <td>10.713924</td>\n",
       "      <td>10.415190</td>\n",
       "    </tr>\n",
       "    <tr>\n",
       "      <th>std</th>\n",
       "      <td>1.276043</td>\n",
       "      <td>1.094735</td>\n",
       "      <td>1.088201</td>\n",
       "      <td>0.697505</td>\n",
       "      <td>0.839240</td>\n",
       "      <td>0.743651</td>\n",
       "      <td>0.896659</td>\n",
       "      <td>0.998862</td>\n",
       "      <td>1.113278</td>\n",
       "      <td>0.890741</td>\n",
       "      <td>1.287897</td>\n",
       "      <td>1.390303</td>\n",
       "      <td>8.003096</td>\n",
       "      <td>3.319195</td>\n",
       "      <td>3.761505</td>\n",
       "      <td>4.581443</td>\n",
       "    </tr>\n",
       "    <tr>\n",
       "      <th>min</th>\n",
       "      <td>15.000000</td>\n",
       "      <td>0.000000</td>\n",
       "      <td>0.000000</td>\n",
       "      <td>1.000000</td>\n",
       "      <td>1.000000</td>\n",
       "      <td>0.000000</td>\n",
       "      <td>1.000000</td>\n",
       "      <td>1.000000</td>\n",
       "      <td>1.000000</td>\n",
       "      <td>1.000000</td>\n",
       "      <td>1.000000</td>\n",
       "      <td>1.000000</td>\n",
       "      <td>0.000000</td>\n",
       "      <td>3.000000</td>\n",
       "      <td>0.000000</td>\n",
       "      <td>0.000000</td>\n",
       "    </tr>\n",
       "    <tr>\n",
       "      <th>25%</th>\n",
       "      <td>16.000000</td>\n",
       "      <td>2.000000</td>\n",
       "      <td>2.000000</td>\n",
       "      <td>1.000000</td>\n",
       "      <td>1.000000</td>\n",
       "      <td>0.000000</td>\n",
       "      <td>4.000000</td>\n",
       "      <td>3.000000</td>\n",
       "      <td>2.000000</td>\n",
       "      <td>1.000000</td>\n",
       "      <td>1.000000</td>\n",
       "      <td>3.000000</td>\n",
       "      <td>0.000000</td>\n",
       "      <td>8.000000</td>\n",
       "      <td>9.000000</td>\n",
       "      <td>8.000000</td>\n",
       "    </tr>\n",
       "    <tr>\n",
       "      <th>50%</th>\n",
       "      <td>17.000000</td>\n",
       "      <td>3.000000</td>\n",
       "      <td>2.000000</td>\n",
       "      <td>1.000000</td>\n",
       "      <td>2.000000</td>\n",
       "      <td>0.000000</td>\n",
       "      <td>4.000000</td>\n",
       "      <td>3.000000</td>\n",
       "      <td>3.000000</td>\n",
       "      <td>1.000000</td>\n",
       "      <td>2.000000</td>\n",
       "      <td>4.000000</td>\n",
       "      <td>4.000000</td>\n",
       "      <td>11.000000</td>\n",
       "      <td>11.000000</td>\n",
       "      <td>11.000000</td>\n",
       "    </tr>\n",
       "    <tr>\n",
       "      <th>75%</th>\n",
       "      <td>18.000000</td>\n",
       "      <td>4.000000</td>\n",
       "      <td>3.000000</td>\n",
       "      <td>2.000000</td>\n",
       "      <td>2.000000</td>\n",
       "      <td>0.000000</td>\n",
       "      <td>5.000000</td>\n",
       "      <td>4.000000</td>\n",
       "      <td>4.000000</td>\n",
       "      <td>2.000000</td>\n",
       "      <td>3.000000</td>\n",
       "      <td>5.000000</td>\n",
       "      <td>8.000000</td>\n",
       "      <td>13.000000</td>\n",
       "      <td>13.000000</td>\n",
       "      <td>14.000000</td>\n",
       "    </tr>\n",
       "    <tr>\n",
       "      <th>max</th>\n",
       "      <td>22.000000</td>\n",
       "      <td>4.000000</td>\n",
       "      <td>4.000000</td>\n",
       "      <td>4.000000</td>\n",
       "      <td>4.000000</td>\n",
       "      <td>3.000000</td>\n",
       "      <td>5.000000</td>\n",
       "      <td>5.000000</td>\n",
       "      <td>5.000000</td>\n",
       "      <td>5.000000</td>\n",
       "      <td>5.000000</td>\n",
       "      <td>5.000000</td>\n",
       "      <td>75.000000</td>\n",
       "      <td>19.000000</td>\n",
       "      <td>19.000000</td>\n",
       "      <td>20.000000</td>\n",
       "    </tr>\n",
       "  </tbody>\n",
       "</table>\n",
       "</div>"
      ],
      "text/plain": [
       "              age        Medu        Fedu  traveltime   studytime    failures  \\\n",
       "count  395.000000  395.000000  395.000000  395.000000  395.000000  395.000000   \n",
       "mean    16.696203    2.749367    2.521519    1.448101    2.035443    0.334177   \n",
       "std      1.276043    1.094735    1.088201    0.697505    0.839240    0.743651   \n",
       "min     15.000000    0.000000    0.000000    1.000000    1.000000    0.000000   \n",
       "25%     16.000000    2.000000    2.000000    1.000000    1.000000    0.000000   \n",
       "50%     17.000000    3.000000    2.000000    1.000000    2.000000    0.000000   \n",
       "75%     18.000000    4.000000    3.000000    2.000000    2.000000    0.000000   \n",
       "max     22.000000    4.000000    4.000000    4.000000    4.000000    3.000000   \n",
       "\n",
       "           famrel    freetime       goout        Dalc        Walc      health  \\\n",
       "count  395.000000  395.000000  395.000000  395.000000  395.000000  395.000000   \n",
       "mean     3.944304    3.235443    3.108861    1.481013    2.291139    3.554430   \n",
       "std      0.896659    0.998862    1.113278    0.890741    1.287897    1.390303   \n",
       "min      1.000000    1.000000    1.000000    1.000000    1.000000    1.000000   \n",
       "25%      4.000000    3.000000    2.000000    1.000000    1.000000    3.000000   \n",
       "50%      4.000000    3.000000    3.000000    1.000000    2.000000    4.000000   \n",
       "75%      5.000000    4.000000    4.000000    2.000000    3.000000    5.000000   \n",
       "max      5.000000    5.000000    5.000000    5.000000    5.000000    5.000000   \n",
       "\n",
       "         absences          G1          G2          G3  \n",
       "count  395.000000  395.000000  395.000000  395.000000  \n",
       "mean     5.708861   10.908861   10.713924   10.415190  \n",
       "std      8.003096    3.319195    3.761505    4.581443  \n",
       "min      0.000000    3.000000    0.000000    0.000000  \n",
       "25%      0.000000    8.000000    9.000000    8.000000  \n",
       "50%      4.000000   11.000000   11.000000   11.000000  \n",
       "75%      8.000000   13.000000   13.000000   14.000000  \n",
       "max     75.000000   19.000000   19.000000   20.000000  "
      ]
     },
     "execution_count": 568,
     "metadata": {},
     "output_type": "execute_result"
    }
   ],
   "source": [
    "df.describe()"
   ]
  },
  {
   "cell_type": "code",
   "execution_count": null,
   "metadata": {},
   "outputs": [],
   "source": []
  },
  {
   "cell_type": "code",
   "execution_count": 569,
   "metadata": {},
   "outputs": [],
   "source": [
    "# creating new column with avgerage grade over all 3 semesters. rounded to zero decimals.\n",
    "df['gtot'] = round(((df.G1+df.G2+df.G3)/3),0)"
   ]
  },
  {
   "cell_type": "code",
   "execution_count": 570,
   "metadata": {},
   "outputs": [
    {
     "data": {
      "text/plain": [
       "count    395.000000\n",
       "mean      10.660759\n",
       "std        3.719390\n",
       "min        1.000000\n",
       "25%        8.000000\n",
       "50%       11.000000\n",
       "75%       13.000000\n",
       "max       19.000000\n",
       "Name: gtot, dtype: float64"
      ]
     },
     "execution_count": 570,
     "metadata": {},
     "output_type": "execute_result"
    }
   ],
   "source": [
    "df.gtot.describe()"
   ]
  },
  {
   "cell_type": "code",
   "execution_count": 571,
   "metadata": {},
   "outputs": [],
   "source": [
    "# creating new column with students categorized with regard to their avg grade.\n",
    "# 3 groups, low, middle and high, about 1/3 of all students in each group\n",
    "df['grade_group'] = pd.qcut(df.gtot, [0,0.33,0.66,1], labels=['low', 'middle', 'high' ])"
   ]
  },
  {
   "cell_type": "code",
   "execution_count": 572,
   "metadata": {},
   "outputs": [
    {
     "data": {
      "text/html": [
       "<div>\n",
       "<style scoped>\n",
       "    .dataframe tbody tr th:only-of-type {\n",
       "        vertical-align: middle;\n",
       "    }\n",
       "\n",
       "    .dataframe tbody tr th {\n",
       "        vertical-align: top;\n",
       "    }\n",
       "\n",
       "    .dataframe thead th {\n",
       "        text-align: right;\n",
       "    }\n",
       "</style>\n",
       "<table border=\"1\" class=\"dataframe\">\n",
       "  <thead>\n",
       "    <tr style=\"text-align: right;\">\n",
       "      <th></th>\n",
       "      <th>school</th>\n",
       "      <th>sex</th>\n",
       "      <th>age</th>\n",
       "      <th>address</th>\n",
       "      <th>famsize</th>\n",
       "      <th>Pstatus</th>\n",
       "      <th>Medu</th>\n",
       "      <th>Fedu</th>\n",
       "      <th>Mjob</th>\n",
       "      <th>Fjob</th>\n",
       "      <th>reason</th>\n",
       "      <th>guardian</th>\n",
       "      <th>traveltime</th>\n",
       "      <th>studytime</th>\n",
       "      <th>failures</th>\n",
       "      <th>schoolsup</th>\n",
       "      <th>famsup</th>\n",
       "      <th>paid</th>\n",
       "      <th>activities</th>\n",
       "      <th>nursery</th>\n",
       "      <th>higher</th>\n",
       "      <th>internet</th>\n",
       "      <th>romantic</th>\n",
       "      <th>famrel</th>\n",
       "      <th>freetime</th>\n",
       "      <th>goout</th>\n",
       "      <th>Dalc</th>\n",
       "      <th>Walc</th>\n",
       "      <th>health</th>\n",
       "      <th>absences</th>\n",
       "      <th>G1</th>\n",
       "      <th>G2</th>\n",
       "      <th>G3</th>\n",
       "      <th>gtot</th>\n",
       "      <th>grade_group</th>\n",
       "    </tr>\n",
       "  </thead>\n",
       "  <tbody>\n",
       "  </tbody>\n",
       "</table>\n",
       "</div>"
      ],
      "text/plain": [
       "Empty DataFrame\n",
       "Columns: [school, sex, age, address, famsize, Pstatus, Medu, Fedu, Mjob, Fjob, reason, guardian, traveltime, studytime, failures, schoolsup, famsup, paid, activities, nursery, higher, internet, romantic, famrel, freetime, goout, Dalc, Walc, health, absences, G1, G2, G3, gtot, grade_group]\n",
       "Index: []"
      ]
     },
     "execution_count": 572,
     "metadata": {},
     "output_type": "execute_result"
    }
   ],
   "source": [
    "#checking to see if there were any nulls in new column\n",
    "df.loc[df.grade_group.isna()==True]"
   ]
  },
  {
   "cell_type": "code",
   "execution_count": 573,
   "metadata": {},
   "outputs": [
    {
     "data": {
      "text/plain": [
       "low       0.387342\n",
       "high      0.321519\n",
       "middle    0.291139\n",
       "Name: grade_group, dtype: float64"
      ]
     },
     "execution_count": 573,
     "metadata": {},
     "output_type": "execute_result"
    }
   ],
   "source": [
    "# with the avg grades rounded to 0 decimals the groups are not precisely 1/3 each.\n",
    "df.grade_group.value_counts(normalize=True)"
   ]
  },
  {
   "cell_type": "markdown",
   "metadata": {},
   "source": [
    "## EDA"
   ]
  },
  {
   "cell_type": "code",
   "execution_count": 574,
   "metadata": {},
   "outputs": [
    {
     "data": {
      "text/plain": [
       "grade_group\n",
       "low        6.934641\n",
       "middle    11.026087\n",
       "high      14.818898\n",
       "Name: gtot, dtype: float64"
      ]
     },
     "execution_count": 574,
     "metadata": {},
     "output_type": "execute_result"
    }
   ],
   "source": [
    "#looking at mean grade in each group\n",
    "df.groupby('grade_group').gtot.mean()"
   ]
  },
  {
   "cell_type": "code",
   "execution_count": 575,
   "metadata": {},
   "outputs": [
    {
     "data": {
      "text/plain": [
       "<matplotlib.axes._subplots.AxesSubplot at 0x12672d190>"
      ]
     },
     "execution_count": 575,
     "metadata": {},
     "output_type": "execute_result"
    },
    {
     "data": {
      "image/png": "[encoded data removed]",
      "text/plain": [
       "<Figure size 432x288 with 1 Axes>"
      ]
     },
     "metadata": {
      "needs_background": "light"
     },
     "output_type": "display_data"
    }
   ],
   "source": [
    "#how many students in each group?\n",
    "df.grade_group.value_counts().plot(kind='bar')"
   ]
  },
  {
   "cell_type": "code",
   "execution_count": 255,
   "metadata": {},
   "outputs": [
    {
     "data": {
      "text/plain": [
       "<matplotlib.axes._subplots.AxesSubplot at 0x123113790>"
      ]
     },
     "execution_count": 255,
     "metadata": {},
     "output_type": "execute_result"
    },
    {
     "data": {
      "image/png": "[encoded data removed]",
      "text/plain": [
       "<Figure size 432x288 with 1 Axes>"
      ]
     },
     "metadata": {
      "needs_background": "light"
     },
     "output_type": "display_data"
    }
   ],
   "source": [
    "# mean final grade of each group\n",
    "df.groupby('grade_group').G3.mean().plot(kind='bar')"
   ]
  },
  {
   "cell_type": "code",
   "execution_count": 256,
   "metadata": {},
   "outputs": [
    {
     "data": {
      "text/plain": [
       "<matplotlib.axes._subplots.AxesSubplot at 0x1231b28b0>"
      ]
     },
     "execution_count": 256,
     "metadata": {},
     "output_type": "execute_result"
    },
    {
     "data": {
      "image/png": "[encoded data removed]",
      "text/plain": [
       "<Figure size 432x288 with 1 Axes>"
      ]
     },
     "metadata": {
      "needs_background": "light"
     },
     "output_type": "display_data"
    }
   ],
   "source": [
    "# mean hours per week spent studying per group\n",
    "df.groupby('grade_group').studytime.mean().plot(kind='bar')"
   ]
  },
  {
   "cell_type": "code",
   "execution_count": 257,
   "metadata": {},
   "outputs": [],
   "source": [
    "# to be able to look at the students in each group\n",
    "middle = df.loc[df.grade_group=='middle']\n",
    "low = df.loc[df.grade_group=='low']\n",
    "high = df.loc[df.grade_group=='high']"
   ]
  },
  {
   "cell_type": "code",
   "execution_count": 258,
   "metadata": {},
   "outputs": [
    {
     "name": "stdout",
     "output_type": "stream",
     "text": [
      "low 1.9150326797385622\n",
      "middle 2.0521739130434784\n",
      "high 2.1653543307086616\n"
     ]
    }
   ],
   "source": [
    "#each groups' avg studytime per week\n",
    "print('low', low.studytime.mean())\n",
    "print('middle', middle.studytime.mean())\n",
    "print('high', high.studytime.mean())\n",
    "\n",
    "\n"
   ]
  },
  {
   "cell_type": "code",
   "execution_count": 259,
   "metadata": {},
   "outputs": [
    {
     "data": {
      "text/plain": [
       "47    4\n",
       "66    4\n",
       "67    4\n",
       "69    4\n",
       "70    4\n",
       "Name: studytime, dtype: int64"
      ]
     },
     "execution_count": 259,
     "metadata": {},
     "output_type": "execute_result"
    }
   ],
   "source": [
    "#studytime is a value of 0-10. Apparently no students spend more than 4 hrs per week studying\n",
    "df.studytime.nlargest(5)"
   ]
  },
  {
   "cell_type": "code",
   "execution_count": 260,
   "metadata": {},
   "outputs": [
    {
     "data": {
      "text/plain": [
       "<matplotlib.axes._subplots.AxesSubplot at 0x123e47eb0>"
      ]
     },
     "execution_count": 260,
     "metadata": {},
     "output_type": "execute_result"
    },
    {
     "data": {
      "image/png": "[encoded data removed]",
      "text/plain": [
       "<Figure size 432x288 with 1 Axes>"
      ]
     },
     "metadata": {
      "needs_background": "light"
     },
     "output_type": "display_data"
    }
   ],
   "source": [
    "# avg weekend alchol consumption per group. 1 is very low 5 is very high. \n",
    "df.groupby('grade_group').Walc.mean().plot(kind='bar')\n"
   ]
  },
  {
   "cell_type": "code",
   "execution_count": 261,
   "metadata": {},
   "outputs": [
    {
     "data": {
      "image/png": "[encoded data removed]",
      "text/plain": [
       "<Figure size 432x288 with 1 Axes>"
      ]
     },
     "metadata": {
      "needs_background": "light"
     },
     "output_type": "display_data"
    }
   ],
   "source": [
    "# weekend alcohol consumtion and gender\n",
    "pd.crosstab(df.Walc, df.sex).plot.bar(stacked=True)\n",
    "plt.legend(title='grade group')\n",
    "\n",
    "plt.show()"
   ]
  },
  {
   "cell_type": "code",
   "execution_count": 262,
   "metadata": {},
   "outputs": [
    {
     "data": {
      "text/plain": [
       "<matplotlib.axes._subplots.AxesSubplot at 0x123b23c70>"
      ]
     },
     "execution_count": 262,
     "metadata": {},
     "output_type": "execute_result"
    },
    {
     "data": {
      "image/png": "[encoded data removed]",
      "text/plain": [
       "<Figure size 432x288 with 1 Axes>"
      ]
     },
     "metadata": {
      "needs_background": "light"
     },
     "output_type": "display_data"
    }
   ],
   "source": [
    "# avg weekday alchol consumption per group. 1 is very low 5 is very high. \n",
    "df.groupby('grade_group').Dalc.mean().plot(kind='bar')\n"
   ]
  },
  {
   "cell_type": "code",
   "execution_count": 263,
   "metadata": {},
   "outputs": [
    {
     "data": {
      "text/plain": [
       "<matplotlib.axes._subplots.AxesSubplot at 0x122f9aaf0>"
      ]
     },
     "execution_count": 263,
     "metadata": {},
     "output_type": "execute_result"
    },
    {
     "data": {
      "image/png": "[encoded data removed]",
      "text/plain": [
       "<Figure size 432x288 with 1 Axes>"
      ]
     },
     "metadata": {
      "needs_background": "light"
     },
     "output_type": "display_data"
    }
   ],
   "source": [
    "# avg going out with friends per group. 1 is very low, 5 is very high. \n",
    "df.groupby('grade_group').goout.mean().plot(kind='bar')\n"
   ]
  },
  {
   "cell_type": "code",
   "execution_count": 264,
   "metadata": {},
   "outputs": [
    {
     "data": {
      "text/plain": [
       "low       153\n",
       "high      127\n",
       "middle    115\n",
       "Name: grade_group, dtype: int64"
      ]
     },
     "execution_count": 264,
     "metadata": {},
     "output_type": "execute_result"
    }
   ],
   "source": [
    "# how many students are in each group \n",
    "df.grade_group.value_counts()"
   ]
  },
  {
   "cell_type": "code",
   "execution_count": 265,
   "metadata": {},
   "outputs": [
    {
     "data": {
      "text/html": [
       "<div>\n",
       "<style scoped>\n",
       "    .dataframe tbody tr th:only-of-type {\n",
       "        vertical-align: middle;\n",
       "    }\n",
       "\n",
       "    .dataframe tbody tr th {\n",
       "        vertical-align: top;\n",
       "    }\n",
       "\n",
       "    .dataframe thead th {\n",
       "        text-align: right;\n",
       "    }\n",
       "</style>\n",
       "<table border=\"1\" class=\"dataframe\">\n",
       "  <thead>\n",
       "    <tr style=\"text-align: right;\">\n",
       "      <th>grade_group</th>\n",
       "      <th>low</th>\n",
       "      <th>middle</th>\n",
       "      <th>high</th>\n",
       "    </tr>\n",
       "    <tr>\n",
       "      <th>health</th>\n",
       "      <th></th>\n",
       "      <th></th>\n",
       "      <th></th>\n",
       "    </tr>\n",
       "  </thead>\n",
       "  <tbody>\n",
       "    <tr>\n",
       "      <th>1</th>\n",
       "      <td>14</td>\n",
       "      <td>12</td>\n",
       "      <td>21</td>\n",
       "    </tr>\n",
       "    <tr>\n",
       "      <th>2</th>\n",
       "      <td>18</td>\n",
       "      <td>11</td>\n",
       "      <td>16</td>\n",
       "    </tr>\n",
       "    <tr>\n",
       "      <th>3</th>\n",
       "      <td>37</td>\n",
       "      <td>32</td>\n",
       "      <td>22</td>\n",
       "    </tr>\n",
       "    <tr>\n",
       "      <th>4</th>\n",
       "      <td>28</td>\n",
       "      <td>17</td>\n",
       "      <td>21</td>\n",
       "    </tr>\n",
       "    <tr>\n",
       "      <th>5</th>\n",
       "      <td>56</td>\n",
       "      <td>43</td>\n",
       "      <td>47</td>\n",
       "    </tr>\n",
       "  </tbody>\n",
       "</table>\n",
       "</div>"
      ],
      "text/plain": [
       "grade_group  low  middle  high\n",
       "health                        \n",
       "1             14      12    21\n",
       "2             18      11    16\n",
       "3             37      32    22\n",
       "4             28      17    21\n",
       "5             56      43    47"
      ]
     },
     "execution_count": 265,
     "metadata": {},
     "output_type": "execute_result"
    }
   ],
   "source": [
    "# how students in each group have rated their health (1-5). Interesting how students with high grades have the \n",
    "# highest representation at health score = 1\n",
    "pd.crosstab(df.health, df.grade_group)"
   ]
  },
  {
   "cell_type": "code",
   "execution_count": 266,
   "metadata": {},
   "outputs": [
    {
     "data": {
      "text/plain": [
       "grade_group\n",
       "low       3.614379\n",
       "middle    3.591304\n",
       "high      3.448819\n",
       "Name: health, dtype: float64"
      ]
     },
     "execution_count": 266,
     "metadata": {},
     "output_type": "execute_result"
    }
   ],
   "source": [
    "# avg helath score of each group. those with high grades have the worst avg health score. \n",
    "df.groupby('grade_group').health.mean()"
   ]
  },
  {
   "cell_type": "code",
   "execution_count": 591,
   "metadata": {},
   "outputs": [
    {
     "data": {
      "image/png": "[encoded data removed]",
      "text/plain": [
       "<Figure size 432x288 with 1 Axes>"
      ]
     },
     "metadata": {
      "needs_background": "light"
     },
     "output_type": "display_data"
    }
   ],
   "source": [
    "# distribution of groups over different weekend alcohol scores\n",
    "pd.crosstab(df.grade_group, df.Walc).plot.bar(stacked=True)\n",
    "plt.legend(title='Walc')\n",
    "plt.title('Weekend alcohol consumption')\n",
    "\n",
    "plt.show()"
   ]
  },
  {
   "cell_type": "code",
   "execution_count": 592,
   "metadata": {},
   "outputs": [
    {
     "data": {
      "image/png": "[encoded data removed]",
      "text/plain": [
       "<Figure size 432x288 with 1 Axes>"
      ]
     },
     "metadata": {
      "needs_background": "light"
     },
     "output_type": "display_data"
    }
   ],
   "source": [
    "# distribution of groups over different weekday alcohol scores\n",
    "pd.crosstab(df.grade_group, df.Dalc).plot.bar(stacked=True)\n",
    "plt.legend(title='Dalc')\n",
    "plt.title('Weekday alcohol consumption')\n",
    "\n",
    "plt.show()"
   ]
  },
  {
   "cell_type": "code",
   "execution_count": 590,
   "metadata": {},
   "outputs": [
    {
     "data": {
      "image/png": "[encoded data removed]",
      "text/plain": [
       "<Figure size 432x288 with 1 Axes>"
      ]
     },
     "metadata": {
      "needs_background": "light"
     },
     "output_type": "display_data"
    }
   ],
   "source": [
    "# distribution of groups over different health scores\n",
    "pd.crosstab(df.grade_group, df.health).plot.bar(stacked=True)\n",
    "plt.legend(title='health')\n",
    "plt.title('Group health score')\n",
    "\n",
    "plt.show()"
   ]
  },
  {
   "cell_type": "code",
   "execution_count": 268,
   "metadata": {
    "scrolled": false
   },
   "outputs": [
    {
     "data": {
      "image/png": "[encoded data removed]",
      "text/plain": [
       "<Figure size 864x576 with 1 Axes>"
      ]
     },
     "metadata": {
      "needs_background": "light"
     },
     "output_type": "display_data"
    }
   ],
   "source": [
    "# distribution of gtot (avg grade) for each group\n",
    "pd.crosstab(df.gtot, df.grade_group).plot.bar(stacked=True, figsize=(12,8))\n",
    "plt.legend(title='grade group')\n",
    "plt.show()"
   ]
  },
  {
   "cell_type": "code",
   "execution_count": 269,
   "metadata": {},
   "outputs": [
    {
     "data": {
      "image/png": "[encoded data removed]",
      "text/plain": [
       "<Figure size 864x576 with 1 Axes>"
      ]
     },
     "metadata": {
      "needs_background": "light"
     },
     "output_type": "display_data"
    }
   ],
   "source": [
    "# distribution of G3 (final grade) for each group. \n",
    "# evidently some middle-segment-students got a final grade of 9 ( which is a low-group-grade, see previous graph)\n",
    "# and likewise some low-group-students got a final grade of 10 and 11 which is a middle-group-grade\n",
    "# and some middle group-students got 13 or 14, which are hogh-group-grades\n",
    "# and some high-group students got 12, a middle-group-grade\n",
    "\n",
    "pd.crosstab(df.G3, df.grade_group).plot.bar(stacked=True, figsize=(12,8))\n",
    "plt.legend(title='grade group')\n",
    "plt.show()"
   ]
  },
  {
   "cell_type": "code",
   "execution_count": 270,
   "metadata": {},
   "outputs": [
    {
     "data": {
      "image/png": "[encoded data removed]",
      "text/plain": [
       "<Figure size 432x288 with 1 Axes>"
      ]
     },
     "metadata": {
      "needs_background": "light"
     },
     "output_type": "display_data"
    }
   ],
   "source": [
    "#how many students from each school and what does grade group distribution look like\n",
    "pd.crosstab(df.school, df.grade_group).plot.bar(stacked=True)\n",
    "plt.legend(title='grade group')\n",
    "\n",
    "plt.show()"
   ]
  },
  {
   "cell_type": "code",
   "execution_count": 271,
   "metadata": {},
   "outputs": [
    {
     "data": {
      "image/png": "[encoded data removed]",
      "text/plain": [
       "<Figure size 432x288 with 1 Axes>"
      ]
     },
     "metadata": {
      "needs_background": "light"
     },
     "output_type": "display_data"
    }
   ],
   "source": [
    "# quality of family relationships (numeric: from 1 - very bad to 5 - excellent) \n",
    "# and distribution of each group over each quality rating\n",
    "#  \n",
    "pd.crosstab(df.famrel, df.grade_group, normalize=True).plot.bar(stacked=True)\n",
    "plt.legend(title='grade group')\n",
    "\n",
    "plt.show()"
   ]
  },
  {
   "cell_type": "code",
   "execution_count": 589,
   "metadata": {},
   "outputs": [
    {
     "data": {
      "image/png": "[encoded data removed]",
      "text/plain": [
       "<Figure size 432x288 with 1 Axes>"
      ]
     },
     "metadata": {
      "needs_background": "light"
     },
     "output_type": "display_data"
    }
   ],
   "source": [
    "# number of past class failures. grade group dist. \n",
    "pd.crosstab(df.grade_group, df.failures).plot.bar(stacked=True)\n",
    "plt.legend(title='Failures')\n",
    "plt.title('Past failures')\n",
    "\n",
    "plt.show()"
   ]
  },
  {
   "cell_type": "code",
   "execution_count": 273,
   "metadata": {},
   "outputs": [
    {
     "data": {
      "image/png": "[encoded data removed]",
      "text/plain": [
       "<Figure size 432x288 with 1 Axes>"
      ]
     },
     "metadata": {
      "needs_background": "light"
     },
     "output_type": "display_data"
    }
   ],
   "source": [
    "#looking at failures and age\n",
    "pd.crosstab(df.age, df.failures).plot.bar(stacked=True)\n",
    "plt.legend(title='failures')\n",
    "\n",
    "plt.show()"
   ]
  },
  {
   "cell_type": "code",
   "execution_count": 274,
   "metadata": {},
   "outputs": [
    {
     "data": {
      "text/plain": [
       "<matplotlib.axes._subplots.AxesSubplot at 0x1231457f0>"
      ]
     },
     "execution_count": 274,
     "metadata": {},
     "output_type": "execute_result"
    },
    {
     "data": {
      "image/png": "[encoded data removed]",
      "text/plain": [
       "<Figure size 432x288 with 1 Axes>"
      ]
     },
     "metadata": {
      "needs_background": "light"
     },
     "output_type": "display_data"
    }
   ],
   "source": [
    "#looking at average failures for each age\n",
    "df.groupby('age').failures.mean().plot.bar()"
   ]
  },
  {
   "cell_type": "code",
   "execution_count": 275,
   "metadata": {
    "scrolled": true
   },
   "outputs": [
    {
     "data": {
      "image/png": "[encoded data removed]",
      "text/plain": [
       "<Figure size 432x288 with 1 Axes>"
      ]
     },
     "metadata": {
      "needs_background": "light"
     },
     "output_type": "display_data"
    }
   ],
   "source": [
    "# family size , LE3 = less or equal to 3, GT3= greater than 3.\n",
    "pd.crosstab(df.famsize, df.grade_group).plot.bar(stacked=True)\n",
    "plt.legend(title='grade group')\n",
    "\n",
    "plt.show()"
   ]
  },
  {
   "cell_type": "code",
   "execution_count": 576,
   "metadata": {},
   "outputs": [
    {
     "data": {
      "image/png": "[encoded data removed]",
      "text/plain": [
       "<Figure size 432x288 with 1 Axes>"
      ]
     },
     "metadata": {
      "needs_background": "light"
     },
     "output_type": "display_data"
    }
   ],
   "source": [
    "# gender distribution \n",
    "pd.crosstab(df.sex, df.grade_group, normalize=True).plot.bar(stacked=True)\n",
    "plt.legend(title='grade group')\n",
    "plt.title('Gender distribution')\n",
    "\n",
    "plt.show()"
   ]
  },
  {
   "cell_type": "code",
   "execution_count": 583,
   "metadata": {},
   "outputs": [
    {
     "data": {
      "image/png": "[encoded data removed]",
      "text/plain": [
       "<Figure size 432x288 with 1 Axes>"
      ]
     },
     "metadata": {
      "needs_background": "light"
     },
     "output_type": "display_data"
    }
   ],
   "source": [
    "# whether students are in a romantic relationship\n",
    "pd.crosstab(df.grade_group, df.romantic).plot.bar(stacked=True)\n",
    "plt.legend(title='grade group')\n",
    "plt.title('Relationship?')\n",
    "\n",
    "plt.show()"
   ]
  },
  {
   "cell_type": "code",
   "execution_count": 278,
   "metadata": {},
   "outputs": [
    {
     "data": {
      "text/plain": [
       "<matplotlib.axes._subplots.AxesSubplot at 0x124917160>"
      ]
     },
     "execution_count": 278,
     "metadata": {},
     "output_type": "execute_result"
    },
    {
     "data": {
      "image/png": "[encoded data removed]",
      "text/plain": [
       "<Figure size 432x288 with 1 Axes>"
      ]
     },
     "metadata": {
      "needs_background": "light"
     },
     "output_type": "display_data"
    }
   ],
   "source": [
    "#percentage of each gender in dataset. \n",
    "df.sex.value_counts(normalize=True).plot.bar()"
   ]
  },
  {
   "cell_type": "code",
   "execution_count": 577,
   "metadata": {},
   "outputs": [
    {
     "data": {
      "image/png": "[encoded data removed]",
      "text/plain": [
       "<Figure size 432x288 with 1 Axes>"
      ]
     },
     "metadata": {
      "needs_background": "light"
     },
     "output_type": "display_data"
    }
   ],
   "source": [
    "# gender and avg grade. \n",
    "pd.crosstab(df.gtot, df.sex).plot.bar(stacked=True)\n",
    "plt.legend(title='sex')\n",
    "\n",
    "plt.show()"
   ]
  },
  {
   "cell_type": "code",
   "execution_count": 280,
   "metadata": {},
   "outputs": [
    {
     "data": {
      "text/plain": [
       "sex\n",
       "F    10.293269\n",
       "M    11.069519\n",
       "Name: gtot, dtype: float64"
      ]
     },
     "execution_count": 280,
     "metadata": {},
     "output_type": "execute_result"
    }
   ],
   "source": [
    "#on average boys perform better than girls\n",
    "df.groupby('sex').gtot.mean()"
   ]
  },
  {
   "cell_type": "code",
   "execution_count": 580,
   "metadata": {
    "scrolled": true
   },
   "outputs": [
    {
     "data": {
      "image/png": "[encoded data removed]",
      "text/plain": [
       "<Figure size 432x288 with 1 Axes>"
      ]
     },
     "metadata": {
      "needs_background": "light"
     },
     "output_type": "display_data"
    }
   ],
   "source": [
    "# age and gradae_group\n",
    "pd.crosstab(df.age, df.grade_group, normalize=True).plot.bar(stacked=True)\n",
    "plt.legend(title='grade group')\n",
    "plt.title('Age distribution')\n",
    "\n",
    "plt.show()"
   ]
  },
  {
   "cell_type": "code",
   "execution_count": 579,
   "metadata": {},
   "outputs": [
    {
     "data": {
      "image/png": "[encoded data removed]",
      "text/plain": [
       "<Figure size 432x288 with 1 Axes>"
      ]
     },
     "metadata": {
      "needs_background": "light"
     },
     "output_type": "display_data"
    }
   ],
   "source": [
    "# whether students want to pursue higher education and grade group\n",
    "pd.crosstab(df.grade_group, df.higher).plot.bar(stacked=True)\n",
    "plt.legend(title='higher education')\n",
    "plt.title('Wanting to pursue higher education?')\n",
    "\n",
    "plt.show()"
   ]
  },
  {
   "cell_type": "code",
   "execution_count": 283,
   "metadata": {},
   "outputs": [
    {
     "data": {
      "text/plain": [
       "<matplotlib.axes._subplots.AxesSubplot at 0x1249202e0>"
      ]
     },
     "execution_count": 283,
     "metadata": {},
     "output_type": "execute_result"
    },
    {
     "data": {
      "image/png": "[encoded data removed]",
      "text/plain": [
       "<Figure size 432x288 with 1 Axes>"
      ]
     },
     "metadata": {
      "needs_background": "light"
     },
     "output_type": "display_data"
    }
   ],
   "source": [
    "# average mean grade of each school\n",
    "df.groupby('school').gtot.mean().plot.bar()"
   ]
  },
  {
   "cell_type": "markdown",
   "metadata": {},
   "source": [
    "## Data Transformation\n",
    "Making binary columns numerical binary"
   ]
  },
  {
   "cell_type": "code",
   "execution_count": 284,
   "metadata": {},
   "outputs": [],
   "source": [
    "#famsize, equal or smaller than 3=0, greater than 3 =1\n",
    "df.famsize = df.famsize.map({'LE3':0, 'GT3':1})"
   ]
  },
  {
   "cell_type": "code",
   "execution_count": 285,
   "metadata": {},
   "outputs": [],
   "source": [
    "# sex, fem=0 male=1\n",
    "df.sex = df.sex.map({'F':0, 'M':1})"
   ]
  },
  {
   "cell_type": "code",
   "execution_count": 286,
   "metadata": {},
   "outputs": [],
   "source": [
    "#school, ms =0, gp=1\n",
    "df.school = df.school.map({'MS':0, 'GP':1})"
   ]
  },
  {
   "cell_type": "code",
   "execution_count": 287,
   "metadata": {},
   "outputs": [],
   "source": [
    "#adress rural=0, urban =1\n",
    "df.address = df.address.map({'R':0, 'U':1})"
   ]
  },
  {
   "cell_type": "code",
   "execution_count": 288,
   "metadata": {},
   "outputs": [],
   "source": [
    "#pstatus apart=0 toghether = 1\n",
    "df.Pstatus = df.Pstatus.map({'A':0, 'T':1})"
   ]
  },
  {
   "cell_type": "code",
   "execution_count": 289,
   "metadata": {},
   "outputs": [],
   "source": [
    "# categories with values no and yes made numerical, no=0, yes=1\n",
    "cols = ['schoolsup', 'famsup', 'paid', 'activities', 'nursery', 'higher', 'internet', 'romantic' ]\n",
    "for i in cols:\n",
    "    df[i] = df[i].map({'no':0, 'yes':1})\n"
   ]
  },
  {
   "cell_type": "code",
   "execution_count": 290,
   "metadata": {},
   "outputs": [
    {
     "name": "stdout",
     "output_type": "stream",
     "text": [
      "<class 'pandas.core.frame.DataFrame'>\n",
      "RangeIndex: 395 entries, 0 to 394\n",
      "Data columns (total 35 columns):\n",
      " #   Column       Non-Null Count  Dtype   \n",
      "---  ------       --------------  -----   \n",
      " 0   school       395 non-null    int64   \n",
      " 1   sex          395 non-null    int64   \n",
      " 2   age          395 non-null    int64   \n",
      " 3   address      395 non-null    int64   \n",
      " 4   famsize      395 non-null    int64   \n",
      " 5   Pstatus      395 non-null    int64   \n",
      " 6   Medu         395 non-null    int64   \n",
      " 7   Fedu         395 non-null    int64   \n",
      " 8   Mjob         395 non-null    object  \n",
      " 9   Fjob         395 non-null    object  \n",
      " 10  reason       395 non-null    object  \n",
      " 11  guardian     395 non-null    object  \n",
      " 12  traveltime   395 non-null    int64   \n",
      " 13  studytime    395 non-null    int64   \n",
      " 14  failures     395 non-null    int64   \n",
      " 15  schoolsup    395 non-null    int64   \n",
      " 16  famsup       395 non-null    int64   \n",
      " 17  paid         395 non-null    int64   \n",
      " 18  activities   395 non-null    int64   \n",
      " 19  nursery      395 non-null    int64   \n",
      " 20  higher       395 non-null    int64   \n",
      " 21  internet     395 non-null    int64   \n",
      " 22  romantic     395 non-null    int64   \n",
      " 23  famrel       395 non-null    int64   \n",
      " 24  freetime     395 non-null    int64   \n",
      " 25  goout        395 non-null    int64   \n",
      " 26  Dalc         395 non-null    int64   \n",
      " 27  Walc         395 non-null    int64   \n",
      " 28  health       395 non-null    int64   \n",
      " 29  absences     395 non-null    int64   \n",
      " 30  G1           395 non-null    int64   \n",
      " 31  G2           395 non-null    int64   \n",
      " 32  G3           395 non-null    int64   \n",
      " 33  gtot         395 non-null    float64 \n",
      " 34  grade_group  395 non-null    category\n",
      "dtypes: category(1), float64(1), int64(29), object(4)\n",
      "memory usage: 105.5+ KB\n"
     ]
    }
   ],
   "source": [
    "# checking and noting that there's now  less object columns \n",
    "df.info()"
   ]
  },
  {
   "cell_type": "code",
   "execution_count": 291,
   "metadata": {},
   "outputs": [
    {
     "data": {
      "text/plain": [
       "grade_group\n",
       "low       0.411765\n",
       "middle    0.478261\n",
       "high      0.543307\n",
       "Name: sex, dtype: float64"
      ]
     },
     "execution_count": 291,
     "metadata": {},
     "output_type": "execute_result"
    }
   ],
   "source": [
    "# since female is 0 and male is 1, there are more females in low and middle and more males in high\n",
    "df.groupby('grade_group').sex.mean()"
   ]
  },
  {
   "cell_type": "code",
   "execution_count": 292,
   "metadata": {},
   "outputs": [
    {
     "data": {
      "text/plain": [
       "<matplotlib.axes._subplots.AxesSubplot at 0x123025850>"
      ]
     },
     "execution_count": 292,
     "metadata": {},
     "output_type": "execute_result"
    },
    {
     "data": {
      "image/png": "[encoded data removed]",
      "text/plain": [
       "<Figure size 1440x864 with 2 Axes>"
      ]
     },
     "metadata": {
      "needs_background": "light"
     },
     "output_type": "display_data"
    }
   ],
   "source": [
    "# looking att correlations\n",
    "plt.figure(figsize=(20,12))\n",
    "sns.heatmap(df.corr(), annot=True)\n",
    "\n",
    "#failures (weak) negatively correlated with all grades and with wanitng to pursue higher education asweel as with\n",
    "#parents education\n",
    "#weak corr betw failure and age\n",
    "# neg corr age and school\n",
    "# weekend and weekday alcohol consumtion corr with gender"
   ]
  },
  {
   "cell_type": "code",
   "execution_count": 293,
   "metadata": {},
   "outputs": [
    {
     "data": {
      "text/plain": [
       "-0.3690853753718059"
      ]
     },
     "execution_count": 293,
     "metadata": {},
     "output_type": "execute_result"
    }
   ],
   "source": [
    "df.failures.corr(df.gtot)"
   ]
  },
  {
   "cell_type": "markdown",
   "metadata": {},
   "source": [
    "## Creating dummy variables for categorical columns"
   ]
  },
  {
   "cell_type": "code",
   "execution_count": 294,
   "metadata": {},
   "outputs": [],
   "source": [
    "#getting dummy variables for categorical columns\n",
    "df1 = pd.get_dummies(df, columns=['Mjob', 'Fjob', 'reason', 'guardian'], drop_first=True)"
   ]
  },
  {
   "cell_type": "code",
   "execution_count": 295,
   "metadata": {},
   "outputs": [
    {
     "data": {
      "text/html": [
       "<div>\n",
       "<style scoped>\n",
       "    .dataframe tbody tr th:only-of-type {\n",
       "        vertical-align: middle;\n",
       "    }\n",
       "\n",
       "    .dataframe tbody tr th {\n",
       "        vertical-align: top;\n",
       "    }\n",
       "\n",
       "    .dataframe thead th {\n",
       "        text-align: right;\n",
       "    }\n",
       "</style>\n",
       "<table border=\"1\" class=\"dataframe\">\n",
       "  <thead>\n",
       "    <tr style=\"text-align: right;\">\n",
       "      <th></th>\n",
       "      <th>school</th>\n",
       "      <th>sex</th>\n",
       "      <th>age</th>\n",
       "      <th>address</th>\n",
       "      <th>famsize</th>\n",
       "      <th>Pstatus</th>\n",
       "      <th>Medu</th>\n",
       "      <th>Fedu</th>\n",
       "      <th>traveltime</th>\n",
       "      <th>studytime</th>\n",
       "      <th>failures</th>\n",
       "      <th>schoolsup</th>\n",
       "      <th>famsup</th>\n",
       "      <th>paid</th>\n",
       "      <th>activities</th>\n",
       "      <th>nursery</th>\n",
       "      <th>higher</th>\n",
       "      <th>internet</th>\n",
       "      <th>romantic</th>\n",
       "      <th>famrel</th>\n",
       "      <th>freetime</th>\n",
       "      <th>goout</th>\n",
       "      <th>Dalc</th>\n",
       "      <th>Walc</th>\n",
       "      <th>health</th>\n",
       "      <th>absences</th>\n",
       "      <th>G1</th>\n",
       "      <th>G2</th>\n",
       "      <th>G3</th>\n",
       "      <th>gtot</th>\n",
       "      <th>grade_group</th>\n",
       "      <th>Mjob_health</th>\n",
       "      <th>Mjob_other</th>\n",
       "      <th>Mjob_services</th>\n",
       "      <th>Mjob_teacher</th>\n",
       "      <th>Fjob_health</th>\n",
       "      <th>Fjob_other</th>\n",
       "      <th>Fjob_services</th>\n",
       "      <th>Fjob_teacher</th>\n",
       "      <th>reason_home</th>\n",
       "      <th>reason_other</th>\n",
       "      <th>reason_reputation</th>\n",
       "      <th>guardian_mother</th>\n",
       "      <th>guardian_other</th>\n",
       "    </tr>\n",
       "  </thead>\n",
       "  <tbody>\n",
       "    <tr>\n",
       "      <th>0</th>\n",
       "      <td>1</td>\n",
       "      <td>0</td>\n",
       "      <td>18</td>\n",
       "      <td>1</td>\n",
       "      <td>1</td>\n",
       "      <td>0</td>\n",
       "      <td>4</td>\n",
       "      <td>4</td>\n",
       "      <td>2</td>\n",
       "      <td>2</td>\n",
       "      <td>0</td>\n",
       "      <td>1</td>\n",
       "      <td>0</td>\n",
       "      <td>0</td>\n",
       "      <td>0</td>\n",
       "      <td>1</td>\n",
       "      <td>1</td>\n",
       "      <td>0</td>\n",
       "      <td>0</td>\n",
       "      <td>4</td>\n",
       "      <td>3</td>\n",
       "      <td>4</td>\n",
       "      <td>1</td>\n",
       "      <td>1</td>\n",
       "      <td>3</td>\n",
       "      <td>6</td>\n",
       "      <td>5</td>\n",
       "      <td>6</td>\n",
       "      <td>6</td>\n",
       "      <td>6.0</td>\n",
       "      <td>low</td>\n",
       "      <td>0</td>\n",
       "      <td>0</td>\n",
       "      <td>0</td>\n",
       "      <td>0</td>\n",
       "      <td>0</td>\n",
       "      <td>0</td>\n",
       "      <td>0</td>\n",
       "      <td>1</td>\n",
       "      <td>0</td>\n",
       "      <td>0</td>\n",
       "      <td>0</td>\n",
       "      <td>1</td>\n",
       "      <td>0</td>\n",
       "    </tr>\n",
       "    <tr>\n",
       "      <th>1</th>\n",
       "      <td>1</td>\n",
       "      <td>0</td>\n",
       "      <td>17</td>\n",
       "      <td>1</td>\n",
       "      <td>1</td>\n",
       "      <td>1</td>\n",
       "      <td>1</td>\n",
       "      <td>1</td>\n",
       "      <td>1</td>\n",
       "      <td>2</td>\n",
       "      <td>0</td>\n",
       "      <td>0</td>\n",
       "      <td>1</td>\n",
       "      <td>0</td>\n",
       "      <td>0</td>\n",
       "      <td>0</td>\n",
       "      <td>1</td>\n",
       "      <td>1</td>\n",
       "      <td>0</td>\n",
       "      <td>5</td>\n",
       "      <td>3</td>\n",
       "      <td>3</td>\n",
       "      <td>1</td>\n",
       "      <td>1</td>\n",
       "      <td>3</td>\n",
       "      <td>4</td>\n",
       "      <td>5</td>\n",
       "      <td>5</td>\n",
       "      <td>6</td>\n",
       "      <td>5.0</td>\n",
       "      <td>low</td>\n",
       "      <td>0</td>\n",
       "      <td>0</td>\n",
       "      <td>0</td>\n",
       "      <td>0</td>\n",
       "      <td>0</td>\n",
       "      <td>1</td>\n",
       "      <td>0</td>\n",
       "      <td>0</td>\n",
       "      <td>0</td>\n",
       "      <td>0</td>\n",
       "      <td>0</td>\n",
       "      <td>0</td>\n",
       "      <td>0</td>\n",
       "    </tr>\n",
       "    <tr>\n",
       "      <th>2</th>\n",
       "      <td>1</td>\n",
       "      <td>0</td>\n",
       "      <td>15</td>\n",
       "      <td>1</td>\n",
       "      <td>0</td>\n",
       "      <td>1</td>\n",
       "      <td>1</td>\n",
       "      <td>1</td>\n",
       "      <td>1</td>\n",
       "      <td>2</td>\n",
       "      <td>3</td>\n",
       "      <td>1</td>\n",
       "      <td>0</td>\n",
       "      <td>1</td>\n",
       "      <td>0</td>\n",
       "      <td>1</td>\n",
       "      <td>1</td>\n",
       "      <td>1</td>\n",
       "      <td>0</td>\n",
       "      <td>4</td>\n",
       "      <td>3</td>\n",
       "      <td>2</td>\n",
       "      <td>2</td>\n",
       "      <td>3</td>\n",
       "      <td>3</td>\n",
       "      <td>10</td>\n",
       "      <td>7</td>\n",
       "      <td>8</td>\n",
       "      <td>10</td>\n",
       "      <td>8.0</td>\n",
       "      <td>low</td>\n",
       "      <td>0</td>\n",
       "      <td>0</td>\n",
       "      <td>0</td>\n",
       "      <td>0</td>\n",
       "      <td>0</td>\n",
       "      <td>1</td>\n",
       "      <td>0</td>\n",
       "      <td>0</td>\n",
       "      <td>0</td>\n",
       "      <td>1</td>\n",
       "      <td>0</td>\n",
       "      <td>1</td>\n",
       "      <td>0</td>\n",
       "    </tr>\n",
       "    <tr>\n",
       "      <th>3</th>\n",
       "      <td>1</td>\n",
       "      <td>0</td>\n",
       "      <td>15</td>\n",
       "      <td>1</td>\n",
       "      <td>1</td>\n",
       "      <td>1</td>\n",
       "      <td>4</td>\n",
       "      <td>2</td>\n",
       "      <td>1</td>\n",
       "      <td>3</td>\n",
       "      <td>0</td>\n",
       "      <td>0</td>\n",
       "      <td>1</td>\n",
       "      <td>1</td>\n",
       "      <td>1</td>\n",
       "      <td>1</td>\n",
       "      <td>1</td>\n",
       "      <td>1</td>\n",
       "      <td>1</td>\n",
       "      <td>3</td>\n",
       "      <td>2</td>\n",
       "      <td>2</td>\n",
       "      <td>1</td>\n",
       "      <td>1</td>\n",
       "      <td>5</td>\n",
       "      <td>2</td>\n",
       "      <td>15</td>\n",
       "      <td>14</td>\n",
       "      <td>15</td>\n",
       "      <td>15.0</td>\n",
       "      <td>high</td>\n",
       "      <td>1</td>\n",
       "      <td>0</td>\n",
       "      <td>0</td>\n",
       "      <td>0</td>\n",
       "      <td>0</td>\n",
       "      <td>0</td>\n",
       "      <td>1</td>\n",
       "      <td>0</td>\n",
       "      <td>1</td>\n",
       "      <td>0</td>\n",
       "      <td>0</td>\n",
       "      <td>1</td>\n",
       "      <td>0</td>\n",
       "    </tr>\n",
       "    <tr>\n",
       "      <th>4</th>\n",
       "      <td>1</td>\n",
       "      <td>0</td>\n",
       "      <td>16</td>\n",
       "      <td>1</td>\n",
       "      <td>1</td>\n",
       "      <td>1</td>\n",
       "      <td>3</td>\n",
       "      <td>3</td>\n",
       "      <td>1</td>\n",
       "      <td>2</td>\n",
       "      <td>0</td>\n",
       "      <td>0</td>\n",
       "      <td>1</td>\n",
       "      <td>1</td>\n",
       "      <td>0</td>\n",
       "      <td>1</td>\n",
       "      <td>1</td>\n",
       "      <td>0</td>\n",
       "      <td>0</td>\n",
       "      <td>4</td>\n",
       "      <td>3</td>\n",
       "      <td>2</td>\n",
       "      <td>1</td>\n",
       "      <td>2</td>\n",
       "      <td>5</td>\n",
       "      <td>4</td>\n",
       "      <td>6</td>\n",
       "      <td>10</td>\n",
       "      <td>10</td>\n",
       "      <td>9.0</td>\n",
       "      <td>low</td>\n",
       "      <td>0</td>\n",
       "      <td>1</td>\n",
       "      <td>0</td>\n",
       "      <td>0</td>\n",
       "      <td>0</td>\n",
       "      <td>1</td>\n",
       "      <td>0</td>\n",
       "      <td>0</td>\n",
       "      <td>1</td>\n",
       "      <td>0</td>\n",
       "      <td>0</td>\n",
       "      <td>0</td>\n",
       "      <td>0</td>\n",
       "    </tr>\n",
       "    <tr>\n",
       "      <th>...</th>\n",
       "      <td>...</td>\n",
       "      <td>...</td>\n",
       "      <td>...</td>\n",
       "      <td>...</td>\n",
       "      <td>...</td>\n",
       "      <td>...</td>\n",
       "      <td>...</td>\n",
       "      <td>...</td>\n",
       "      <td>...</td>\n",
       "      <td>...</td>\n",
       "      <td>...</td>\n",
       "      <td>...</td>\n",
       "      <td>...</td>\n",
       "      <td>...</td>\n",
       "      <td>...</td>\n",
       "      <td>...</td>\n",
       "      <td>...</td>\n",
       "      <td>...</td>\n",
       "      <td>...</td>\n",
       "      <td>...</td>\n",
       "      <td>...</td>\n",
       "      <td>...</td>\n",
       "      <td>...</td>\n",
       "      <td>...</td>\n",
       "      <td>...</td>\n",
       "      <td>...</td>\n",
       "      <td>...</td>\n",
       "      <td>...</td>\n",
       "      <td>...</td>\n",
       "      <td>...</td>\n",
       "      <td>...</td>\n",
       "      <td>...</td>\n",
       "      <td>...</td>\n",
       "      <td>...</td>\n",
       "      <td>...</td>\n",
       "      <td>...</td>\n",
       "      <td>...</td>\n",
       "      <td>...</td>\n",
       "      <td>...</td>\n",
       "      <td>...</td>\n",
       "      <td>...</td>\n",
       "      <td>...</td>\n",
       "      <td>...</td>\n",
       "      <td>...</td>\n",
       "    </tr>\n",
       "    <tr>\n",
       "      <th>390</th>\n",
       "      <td>0</td>\n",
       "      <td>1</td>\n",
       "      <td>20</td>\n",
       "      <td>1</td>\n",
       "      <td>0</td>\n",
       "      <td>0</td>\n",
       "      <td>2</td>\n",
       "      <td>2</td>\n",
       "      <td>1</td>\n",
       "      <td>2</td>\n",
       "      <td>2</td>\n",
       "      <td>0</td>\n",
       "      <td>1</td>\n",
       "      <td>1</td>\n",
       "      <td>0</td>\n",
       "      <td>1</td>\n",
       "      <td>1</td>\n",
       "      <td>0</td>\n",
       "      <td>0</td>\n",
       "      <td>5</td>\n",
       "      <td>5</td>\n",
       "      <td>4</td>\n",
       "      <td>4</td>\n",
       "      <td>5</td>\n",
       "      <td>4</td>\n",
       "      <td>11</td>\n",
       "      <td>9</td>\n",
       "      <td>9</td>\n",
       "      <td>9</td>\n",
       "      <td>9.0</td>\n",
       "      <td>low</td>\n",
       "      <td>0</td>\n",
       "      <td>0</td>\n",
       "      <td>1</td>\n",
       "      <td>0</td>\n",
       "      <td>0</td>\n",
       "      <td>0</td>\n",
       "      <td>1</td>\n",
       "      <td>0</td>\n",
       "      <td>0</td>\n",
       "      <td>0</td>\n",
       "      <td>0</td>\n",
       "      <td>0</td>\n",
       "      <td>1</td>\n",
       "    </tr>\n",
       "    <tr>\n",
       "      <th>391</th>\n",
       "      <td>0</td>\n",
       "      <td>1</td>\n",
       "      <td>17</td>\n",
       "      <td>1</td>\n",
       "      <td>0</td>\n",
       "      <td>1</td>\n",
       "      <td>3</td>\n",
       "      <td>1</td>\n",
       "      <td>2</td>\n",
       "      <td>1</td>\n",
       "      <td>0</td>\n",
       "      <td>0</td>\n",
       "      <td>0</td>\n",
       "      <td>0</td>\n",
       "      <td>0</td>\n",
       "      <td>0</td>\n",
       "      <td>1</td>\n",
       "      <td>1</td>\n",
       "      <td>0</td>\n",
       "      <td>2</td>\n",
       "      <td>4</td>\n",
       "      <td>5</td>\n",
       "      <td>3</td>\n",
       "      <td>4</td>\n",
       "      <td>2</td>\n",
       "      <td>3</td>\n",
       "      <td>14</td>\n",
       "      <td>16</td>\n",
       "      <td>16</td>\n",
       "      <td>15.0</td>\n",
       "      <td>high</td>\n",
       "      <td>0</td>\n",
       "      <td>0</td>\n",
       "      <td>1</td>\n",
       "      <td>0</td>\n",
       "      <td>0</td>\n",
       "      <td>0</td>\n",
       "      <td>1</td>\n",
       "      <td>0</td>\n",
       "      <td>0</td>\n",
       "      <td>0</td>\n",
       "      <td>0</td>\n",
       "      <td>1</td>\n",
       "      <td>0</td>\n",
       "    </tr>\n",
       "    <tr>\n",
       "      <th>392</th>\n",
       "      <td>0</td>\n",
       "      <td>1</td>\n",
       "      <td>21</td>\n",
       "      <td>0</td>\n",
       "      <td>1</td>\n",
       "      <td>1</td>\n",
       "      <td>1</td>\n",
       "      <td>1</td>\n",
       "      <td>1</td>\n",
       "      <td>1</td>\n",
       "      <td>3</td>\n",
       "      <td>0</td>\n",
       "      <td>0</td>\n",
       "      <td>0</td>\n",
       "      <td>0</td>\n",
       "      <td>0</td>\n",
       "      <td>1</td>\n",
       "      <td>0</td>\n",
       "      <td>0</td>\n",
       "      <td>5</td>\n",
       "      <td>5</td>\n",
       "      <td>3</td>\n",
       "      <td>3</td>\n",
       "      <td>3</td>\n",
       "      <td>3</td>\n",
       "      <td>3</td>\n",
       "      <td>10</td>\n",
       "      <td>8</td>\n",
       "      <td>7</td>\n",
       "      <td>8.0</td>\n",
       "      <td>low</td>\n",
       "      <td>0</td>\n",
       "      <td>1</td>\n",
       "      <td>0</td>\n",
       "      <td>0</td>\n",
       "      <td>0</td>\n",
       "      <td>1</td>\n",
       "      <td>0</td>\n",
       "      <td>0</td>\n",
       "      <td>0</td>\n",
       "      <td>0</td>\n",
       "      <td>0</td>\n",
       "      <td>0</td>\n",
       "      <td>1</td>\n",
       "    </tr>\n",
       "    <tr>\n",
       "      <th>393</th>\n",
       "      <td>0</td>\n",
       "      <td>1</td>\n",
       "      <td>18</td>\n",
       "      <td>0</td>\n",
       "      <td>0</td>\n",
       "      <td>1</td>\n",
       "      <td>3</td>\n",
       "      <td>2</td>\n",
       "      <td>3</td>\n",
       "      <td>1</td>\n",
       "      <td>0</td>\n",
       "      <td>0</td>\n",
       "      <td>0</td>\n",
       "      <td>0</td>\n",
       "      <td>0</td>\n",
       "      <td>0</td>\n",
       "      <td>1</td>\n",
       "      <td>1</td>\n",
       "      <td>0</td>\n",
       "      <td>4</td>\n",
       "      <td>4</td>\n",
       "      <td>1</td>\n",
       "      <td>3</td>\n",
       "      <td>4</td>\n",
       "      <td>5</td>\n",
       "      <td>0</td>\n",
       "      <td>11</td>\n",
       "      <td>12</td>\n",
       "      <td>10</td>\n",
       "      <td>11.0</td>\n",
       "      <td>middle</td>\n",
       "      <td>0</td>\n",
       "      <td>0</td>\n",
       "      <td>1</td>\n",
       "      <td>0</td>\n",
       "      <td>0</td>\n",
       "      <td>1</td>\n",
       "      <td>0</td>\n",
       "      <td>0</td>\n",
       "      <td>0</td>\n",
       "      <td>0</td>\n",
       "      <td>0</td>\n",
       "      <td>1</td>\n",
       "      <td>0</td>\n",
       "    </tr>\n",
       "    <tr>\n",
       "      <th>394</th>\n",
       "      <td>0</td>\n",
       "      <td>1</td>\n",
       "      <td>19</td>\n",
       "      <td>1</td>\n",
       "      <td>0</td>\n",
       "      <td>1</td>\n",
       "      <td>1</td>\n",
       "      <td>1</td>\n",
       "      <td>1</td>\n",
       "      <td>1</td>\n",
       "      <td>0</td>\n",
       "      <td>0</td>\n",
       "      <td>0</td>\n",
       "      <td>0</td>\n",
       "      <td>0</td>\n",
       "      <td>1</td>\n",
       "      <td>1</td>\n",
       "      <td>1</td>\n",
       "      <td>0</td>\n",
       "      <td>3</td>\n",
       "      <td>2</td>\n",
       "      <td>3</td>\n",
       "      <td>3</td>\n",
       "      <td>3</td>\n",
       "      <td>5</td>\n",
       "      <td>5</td>\n",
       "      <td>8</td>\n",
       "      <td>9</td>\n",
       "      <td>9</td>\n",
       "      <td>9.0</td>\n",
       "      <td>low</td>\n",
       "      <td>0</td>\n",
       "      <td>1</td>\n",
       "      <td>0</td>\n",
       "      <td>0</td>\n",
       "      <td>0</td>\n",
       "      <td>0</td>\n",
       "      <td>0</td>\n",
       "      <td>0</td>\n",
       "      <td>0</td>\n",
       "      <td>0</td>\n",
       "      <td>0</td>\n",
       "      <td>0</td>\n",
       "      <td>0</td>\n",
       "    </tr>\n",
       "  </tbody>\n",
       "</table>\n",
       "<p>395 rows × 44 columns</p>\n",
       "</div>"
      ],
      "text/plain": [
       "     school  sex  age  address  famsize  Pstatus  Medu  Fedu  traveltime  \\\n",
       "0         1    0   18        1        1        0     4     4           2   \n",
       "1         1    0   17        1        1        1     1     1           1   \n",
       "2         1    0   15        1        0        1     1     1           1   \n",
       "3         1    0   15        1        1        1     4     2           1   \n",
       "4         1    0   16        1        1        1     3     3           1   \n",
       "..      ...  ...  ...      ...      ...      ...   ...   ...         ...   \n",
       "390       0    1   20        1        0        0     2     2           1   \n",
       "391       0    1   17        1        0        1     3     1           2   \n",
       "392       0    1   21        0        1        1     1     1           1   \n",
       "393       0    1   18        0        0        1     3     2           3   \n",
       "394       0    1   19        1        0        1     1     1           1   \n",
       "\n",
       "     studytime  failures  schoolsup  famsup  paid  activities  nursery  \\\n",
       "0            2         0          1       0     0           0        1   \n",
       "1            2         0          0       1     0           0        0   \n",
       "2            2         3          1       0     1           0        1   \n",
       "3            3         0          0       1     1           1        1   \n",
       "4            2         0          0       1     1           0        1   \n",
       "..         ...       ...        ...     ...   ...         ...      ...   \n",
       "390          2         2          0       1     1           0        1   \n",
       "391          1         0          0       0     0           0        0   \n",
       "392          1         3          0       0     0           0        0   \n",
       "393          1         0          0       0     0           0        0   \n",
       "394          1         0          0       0     0           0        1   \n",
       "\n",
       "     higher  internet  romantic  famrel  freetime  goout  Dalc  Walc  health  \\\n",
       "0         1         0         0       4         3      4     1     1       3   \n",
       "1         1         1         0       5         3      3     1     1       3   \n",
       "2         1         1         0       4         3      2     2     3       3   \n",
       "3         1         1         1       3         2      2     1     1       5   \n",
       "4         1         0         0       4         3      2     1     2       5   \n",
       "..      ...       ...       ...     ...       ...    ...   ...   ...     ...   \n",
       "390       1         0         0       5         5      4     4     5       4   \n",
       "391       1         1         0       2         4      5     3     4       2   \n",
       "392       1         0         0       5         5      3     3     3       3   \n",
       "393       1         1         0       4         4      1     3     4       5   \n",
       "394       1         1         0       3         2      3     3     3       5   \n",
       "\n",
       "     absences  G1  G2  G3  gtot grade_group  Mjob_health  Mjob_other  \\\n",
       "0           6   5   6   6   6.0         low            0           0   \n",
       "1           4   5   5   6   5.0         low            0           0   \n",
       "2          10   7   8  10   8.0         low            0           0   \n",
       "3           2  15  14  15  15.0        high            1           0   \n",
       "4           4   6  10  10   9.0         low            0           1   \n",
       "..        ...  ..  ..  ..   ...         ...          ...         ...   \n",
       "390        11   9   9   9   9.0         low            0           0   \n",
       "391         3  14  16  16  15.0        high            0           0   \n",
       "392         3  10   8   7   8.0         low            0           1   \n",
       "393         0  11  12  10  11.0      middle            0           0   \n",
       "394         5   8   9   9   9.0         low            0           1   \n",
       "\n",
       "     Mjob_services  Mjob_teacher  Fjob_health  Fjob_other  Fjob_services  \\\n",
       "0                0             0            0           0              0   \n",
       "1                0             0            0           1              0   \n",
       "2                0             0            0           1              0   \n",
       "3                0             0            0           0              1   \n",
       "4                0             0            0           1              0   \n",
       "..             ...           ...          ...         ...            ...   \n",
       "390              1             0            0           0              1   \n",
       "391              1             0            0           0              1   \n",
       "392              0             0            0           1              0   \n",
       "393              1             0            0           1              0   \n",
       "394              0             0            0           0              0   \n",
       "\n",
       "     Fjob_teacher  reason_home  reason_other  reason_reputation  \\\n",
       "0               1            0             0                  0   \n",
       "1               0            0             0                  0   \n",
       "2               0            0             1                  0   \n",
       "3               0            1             0                  0   \n",
       "4               0            1             0                  0   \n",
       "..            ...          ...           ...                ...   \n",
       "390             0            0             0                  0   \n",
       "391             0            0             0                  0   \n",
       "392             0            0             0                  0   \n",
       "393             0            0             0                  0   \n",
       "394             0            0             0                  0   \n",
       "\n",
       "     guardian_mother  guardian_other  \n",
       "0                  1               0  \n",
       "1                  0               0  \n",
       "2                  1               0  \n",
       "3                  1               0  \n",
       "4                  0               0  \n",
       "..               ...             ...  \n",
       "390                0               1  \n",
       "391                1               0  \n",
       "392                0               1  \n",
       "393                1               0  \n",
       "394                0               0  \n",
       "\n",
       "[395 rows x 44 columns]"
      ]
     },
     "execution_count": 295,
     "metadata": {},
     "output_type": "execute_result"
    }
   ],
   "source": [
    "#only numeric variables sleft except for target feature, grade_group\n",
    "df1"
   ]
  },
  {
   "cell_type": "code",
   "execution_count": 296,
   "metadata": {},
   "outputs": [],
   "source": [
    "from sklearn.preprocessing import StandardScaler"
   ]
  },
  {
   "cell_type": "code",
   "execution_count": 297,
   "metadata": {},
   "outputs": [],
   "source": [
    "#scaling numeric variables that are not binary\n",
    "col_names = ['age', 'Medu', 'Fedu', 'traveltime','studytime', 'failures', 'famrel', 'freetime', 'goout', 'Dalc', 'Walc', 'health', 'absences', 'G1', 'G2', 'G3']\n",
    "features = df1[col_names]\n",
    "scaler = StandardScaler().fit(features.values)\n",
    "features = scaler.transform(features.values)"
   ]
  },
  {
   "cell_type": "code",
   "execution_count": 298,
   "metadata": {},
   "outputs": [],
   "source": [
    "#making that change in the df\n",
    "df1[col_names] = features"
   ]
  },
  {
   "cell_type": "code",
   "execution_count": 299,
   "metadata": {},
   "outputs": [
    {
     "data": {
      "text/html": [
       "<div>\n",
       "<style scoped>\n",
       "    .dataframe tbody tr th:only-of-type {\n",
       "        vertical-align: middle;\n",
       "    }\n",
       "\n",
       "    .dataframe tbody tr th {\n",
       "        vertical-align: top;\n",
       "    }\n",
       "\n",
       "    .dataframe thead th {\n",
       "        text-align: right;\n",
       "    }\n",
       "</style>\n",
       "<table border=\"1\" class=\"dataframe\">\n",
       "  <thead>\n",
       "    <tr style=\"text-align: right;\">\n",
       "      <th></th>\n",
       "      <th>school</th>\n",
       "      <th>sex</th>\n",
       "      <th>age</th>\n",
       "      <th>address</th>\n",
       "      <th>famsize</th>\n",
       "      <th>Pstatus</th>\n",
       "      <th>Medu</th>\n",
       "      <th>Fedu</th>\n",
       "      <th>traveltime</th>\n",
       "      <th>studytime</th>\n",
       "      <th>failures</th>\n",
       "      <th>schoolsup</th>\n",
       "      <th>famsup</th>\n",
       "      <th>paid</th>\n",
       "      <th>activities</th>\n",
       "      <th>nursery</th>\n",
       "      <th>higher</th>\n",
       "      <th>internet</th>\n",
       "      <th>romantic</th>\n",
       "      <th>famrel</th>\n",
       "      <th>freetime</th>\n",
       "      <th>goout</th>\n",
       "      <th>Dalc</th>\n",
       "      <th>Walc</th>\n",
       "      <th>health</th>\n",
       "      <th>absences</th>\n",
       "      <th>G1</th>\n",
       "      <th>G2</th>\n",
       "      <th>G3</th>\n",
       "      <th>gtot</th>\n",
       "      <th>grade_group</th>\n",
       "      <th>Mjob_health</th>\n",
       "      <th>Mjob_other</th>\n",
       "      <th>Mjob_services</th>\n",
       "      <th>Mjob_teacher</th>\n",
       "      <th>Fjob_health</th>\n",
       "      <th>Fjob_other</th>\n",
       "      <th>Fjob_services</th>\n",
       "      <th>Fjob_teacher</th>\n",
       "      <th>reason_home</th>\n",
       "      <th>reason_other</th>\n",
       "      <th>reason_reputation</th>\n",
       "      <th>guardian_mother</th>\n",
       "      <th>guardian_other</th>\n",
       "    </tr>\n",
       "  </thead>\n",
       "  <tbody>\n",
       "    <tr>\n",
       "      <th>0</th>\n",
       "      <td>1</td>\n",
       "      <td>0</td>\n",
       "      <td>1.023046</td>\n",
       "      <td>1</td>\n",
       "      <td>1</td>\n",
       "      <td>0</td>\n",
       "      <td>1.143856</td>\n",
       "      <td>1.360371</td>\n",
       "      <td>0.792251</td>\n",
       "      <td>-0.042286</td>\n",
       "      <td>-0.449944</td>\n",
       "      <td>1</td>\n",
       "      <td>0</td>\n",
       "      <td>0</td>\n",
       "      <td>0</td>\n",
       "      <td>1</td>\n",
       "      <td>1</td>\n",
       "      <td>0</td>\n",
       "      <td>0</td>\n",
       "      <td>0.062194</td>\n",
       "      <td>-0.236010</td>\n",
       "      <td>0.801479</td>\n",
       "      <td>-0.540699</td>\n",
       "      <td>-1.003789</td>\n",
       "      <td>-0.399289</td>\n",
       "      <td>0.036424</td>\n",
       "      <td>-1.782467</td>\n",
       "      <td>-1.254791</td>\n",
       "      <td>-0.964934</td>\n",
       "      <td>6.0</td>\n",
       "      <td>low</td>\n",
       "      <td>0</td>\n",
       "      <td>0</td>\n",
       "      <td>0</td>\n",
       "      <td>0</td>\n",
       "      <td>0</td>\n",
       "      <td>0</td>\n",
       "      <td>0</td>\n",
       "      <td>1</td>\n",
       "      <td>0</td>\n",
       "      <td>0</td>\n",
       "      <td>0</td>\n",
       "      <td>1</td>\n",
       "      <td>0</td>\n",
       "    </tr>\n",
       "    <tr>\n",
       "      <th>1</th>\n",
       "      <td>1</td>\n",
       "      <td>0</td>\n",
       "      <td>0.238380</td>\n",
       "      <td>1</td>\n",
       "      <td>1</td>\n",
       "      <td>1</td>\n",
       "      <td>-1.600009</td>\n",
       "      <td>-1.399970</td>\n",
       "      <td>-0.643249</td>\n",
       "      <td>-0.042286</td>\n",
       "      <td>-0.449944</td>\n",
       "      <td>0</td>\n",
       "      <td>1</td>\n",
       "      <td>0</td>\n",
       "      <td>0</td>\n",
       "      <td>0</td>\n",
       "      <td>1</td>\n",
       "      <td>1</td>\n",
       "      <td>0</td>\n",
       "      <td>1.178860</td>\n",
       "      <td>-0.236010</td>\n",
       "      <td>-0.097908</td>\n",
       "      <td>-0.540699</td>\n",
       "      <td>-1.003789</td>\n",
       "      <td>-0.399289</td>\n",
       "      <td>-0.213796</td>\n",
       "      <td>-1.782467</td>\n",
       "      <td>-1.520979</td>\n",
       "      <td>-0.964934</td>\n",
       "      <td>5.0</td>\n",
       "      <td>low</td>\n",
       "      <td>0</td>\n",
       "      <td>0</td>\n",
       "      <td>0</td>\n",
       "      <td>0</td>\n",
       "      <td>0</td>\n",
       "      <td>1</td>\n",
       "      <td>0</td>\n",
       "      <td>0</td>\n",
       "      <td>0</td>\n",
       "      <td>0</td>\n",
       "      <td>0</td>\n",
       "      <td>0</td>\n",
       "      <td>0</td>\n",
       "    </tr>\n",
       "    <tr>\n",
       "      <th>2</th>\n",
       "      <td>1</td>\n",
       "      <td>0</td>\n",
       "      <td>-1.330954</td>\n",
       "      <td>1</td>\n",
       "      <td>0</td>\n",
       "      <td>1</td>\n",
       "      <td>-1.600009</td>\n",
       "      <td>-1.399970</td>\n",
       "      <td>-0.643249</td>\n",
       "      <td>-0.042286</td>\n",
       "      <td>3.589323</td>\n",
       "      <td>1</td>\n",
       "      <td>0</td>\n",
       "      <td>1</td>\n",
       "      <td>0</td>\n",
       "      <td>1</td>\n",
       "      <td>1</td>\n",
       "      <td>1</td>\n",
       "      <td>0</td>\n",
       "      <td>0.062194</td>\n",
       "      <td>-0.236010</td>\n",
       "      <td>-0.997295</td>\n",
       "      <td>0.583385</td>\n",
       "      <td>0.551100</td>\n",
       "      <td>-0.399289</td>\n",
       "      <td>0.536865</td>\n",
       "      <td>-1.179147</td>\n",
       "      <td>-0.722415</td>\n",
       "      <td>-0.090739</td>\n",
       "      <td>8.0</td>\n",
       "      <td>low</td>\n",
       "      <td>0</td>\n",
       "      <td>0</td>\n",
       "      <td>0</td>\n",
       "      <td>0</td>\n",
       "      <td>0</td>\n",
       "      <td>1</td>\n",
       "      <td>0</td>\n",
       "      <td>0</td>\n",
       "      <td>0</td>\n",
       "      <td>1</td>\n",
       "      <td>0</td>\n",
       "      <td>1</td>\n",
       "      <td>0</td>\n",
       "    </tr>\n",
       "    <tr>\n",
       "      <th>3</th>\n",
       "      <td>1</td>\n",
       "      <td>0</td>\n",
       "      <td>-1.330954</td>\n",
       "      <td>1</td>\n",
       "      <td>1</td>\n",
       "      <td>1</td>\n",
       "      <td>1.143856</td>\n",
       "      <td>-0.479857</td>\n",
       "      <td>-0.643249</td>\n",
       "      <td>1.150779</td>\n",
       "      <td>-0.449944</td>\n",
       "      <td>0</td>\n",
       "      <td>1</td>\n",
       "      <td>1</td>\n",
       "      <td>1</td>\n",
       "      <td>1</td>\n",
       "      <td>1</td>\n",
       "      <td>1</td>\n",
       "      <td>1</td>\n",
       "      <td>-1.054472</td>\n",
       "      <td>-1.238419</td>\n",
       "      <td>-0.997295</td>\n",
       "      <td>-0.540699</td>\n",
       "      <td>-1.003789</td>\n",
       "      <td>1.041070</td>\n",
       "      <td>-0.464016</td>\n",
       "      <td>1.234133</td>\n",
       "      <td>0.874715</td>\n",
       "      <td>1.002004</td>\n",
       "      <td>15.0</td>\n",
       "      <td>high</td>\n",
       "      <td>1</td>\n",
       "      <td>0</td>\n",
       "      <td>0</td>\n",
       "      <td>0</td>\n",
       "      <td>0</td>\n",
       "      <td>0</td>\n",
       "      <td>1</td>\n",
       "      <td>0</td>\n",
       "      <td>1</td>\n",
       "      <td>0</td>\n",
       "      <td>0</td>\n",
       "      <td>1</td>\n",
       "      <td>0</td>\n",
       "    </tr>\n",
       "    <tr>\n",
       "      <th>4</th>\n",
       "      <td>1</td>\n",
       "      <td>0</td>\n",
       "      <td>-0.546287</td>\n",
       "      <td>1</td>\n",
       "      <td>1</td>\n",
       "      <td>1</td>\n",
       "      <td>0.229234</td>\n",
       "      <td>0.440257</td>\n",
       "      <td>-0.643249</td>\n",
       "      <td>-0.042286</td>\n",
       "      <td>-0.449944</td>\n",
       "      <td>0</td>\n",
       "      <td>1</td>\n",
       "      <td>1</td>\n",
       "      <td>0</td>\n",
       "      <td>1</td>\n",
       "      <td>1</td>\n",
       "      <td>0</td>\n",
       "      <td>0</td>\n",
       "      <td>0.062194</td>\n",
       "      <td>-0.236010</td>\n",
       "      <td>-0.997295</td>\n",
       "      <td>-0.540699</td>\n",
       "      <td>-0.226345</td>\n",
       "      <td>1.041070</td>\n",
       "      <td>-0.213796</td>\n",
       "      <td>-1.480807</td>\n",
       "      <td>-0.190038</td>\n",
       "      <td>-0.090739</td>\n",
       "      <td>9.0</td>\n",
       "      <td>low</td>\n",
       "      <td>0</td>\n",
       "      <td>1</td>\n",
       "      <td>0</td>\n",
       "      <td>0</td>\n",
       "      <td>0</td>\n",
       "      <td>1</td>\n",
       "      <td>0</td>\n",
       "      <td>0</td>\n",
       "      <td>1</td>\n",
       "      <td>0</td>\n",
       "      <td>0</td>\n",
       "      <td>0</td>\n",
       "      <td>0</td>\n",
       "    </tr>\n",
       "    <tr>\n",
       "      <th>...</th>\n",
       "      <td>...</td>\n",
       "      <td>...</td>\n",
       "      <td>...</td>\n",
       "      <td>...</td>\n",
       "      <td>...</td>\n",
       "      <td>...</td>\n",
       "      <td>...</td>\n",
       "      <td>...</td>\n",
       "      <td>...</td>\n",
       "      <td>...</td>\n",
       "      <td>...</td>\n",
       "      <td>...</td>\n",
       "      <td>...</td>\n",
       "      <td>...</td>\n",
       "      <td>...</td>\n",
       "      <td>...</td>\n",
       "      <td>...</td>\n",
       "      <td>...</td>\n",
       "      <td>...</td>\n",
       "      <td>...</td>\n",
       "      <td>...</td>\n",
       "      <td>...</td>\n",
       "      <td>...</td>\n",
       "      <td>...</td>\n",
       "      <td>...</td>\n",
       "      <td>...</td>\n",
       "      <td>...</td>\n",
       "      <td>...</td>\n",
       "      <td>...</td>\n",
       "      <td>...</td>\n",
       "      <td>...</td>\n",
       "      <td>...</td>\n",
       "      <td>...</td>\n",
       "      <td>...</td>\n",
       "      <td>...</td>\n",
       "      <td>...</td>\n",
       "      <td>...</td>\n",
       "      <td>...</td>\n",
       "      <td>...</td>\n",
       "      <td>...</td>\n",
       "      <td>...</td>\n",
       "      <td>...</td>\n",
       "      <td>...</td>\n",
       "      <td>...</td>\n",
       "    </tr>\n",
       "    <tr>\n",
       "      <th>390</th>\n",
       "      <td>0</td>\n",
       "      <td>1</td>\n",
       "      <td>2.592380</td>\n",
       "      <td>1</td>\n",
       "      <td>0</td>\n",
       "      <td>0</td>\n",
       "      <td>-0.685387</td>\n",
       "      <td>-0.479857</td>\n",
       "      <td>-0.643249</td>\n",
       "      <td>-0.042286</td>\n",
       "      <td>2.242901</td>\n",
       "      <td>0</td>\n",
       "      <td>1</td>\n",
       "      <td>1</td>\n",
       "      <td>0</td>\n",
       "      <td>1</td>\n",
       "      <td>1</td>\n",
       "      <td>0</td>\n",
       "      <td>0</td>\n",
       "      <td>1.178860</td>\n",
       "      <td>1.768808</td>\n",
       "      <td>0.801479</td>\n",
       "      <td>2.831553</td>\n",
       "      <td>2.105989</td>\n",
       "      <td>0.320890</td>\n",
       "      <td>0.661975</td>\n",
       "      <td>-0.575827</td>\n",
       "      <td>-0.456226</td>\n",
       "      <td>-0.309288</td>\n",
       "      <td>9.0</td>\n",
       "      <td>low</td>\n",
       "      <td>0</td>\n",
       "      <td>0</td>\n",
       "      <td>1</td>\n",
       "      <td>0</td>\n",
       "      <td>0</td>\n",
       "      <td>0</td>\n",
       "      <td>1</td>\n",
       "      <td>0</td>\n",
       "      <td>0</td>\n",
       "      <td>0</td>\n",
       "      <td>0</td>\n",
       "      <td>0</td>\n",
       "      <td>1</td>\n",
       "    </tr>\n",
       "    <tr>\n",
       "      <th>391</th>\n",
       "      <td>0</td>\n",
       "      <td>1</td>\n",
       "      <td>0.238380</td>\n",
       "      <td>1</td>\n",
       "      <td>0</td>\n",
       "      <td>1</td>\n",
       "      <td>0.229234</td>\n",
       "      <td>-1.399970</td>\n",
       "      <td>0.792251</td>\n",
       "      <td>-1.235351</td>\n",
       "      <td>-0.449944</td>\n",
       "      <td>0</td>\n",
       "      <td>0</td>\n",
       "      <td>0</td>\n",
       "      <td>0</td>\n",
       "      <td>0</td>\n",
       "      <td>1</td>\n",
       "      <td>1</td>\n",
       "      <td>0</td>\n",
       "      <td>-2.171138</td>\n",
       "      <td>0.766399</td>\n",
       "      <td>1.700867</td>\n",
       "      <td>1.707469</td>\n",
       "      <td>1.328545</td>\n",
       "      <td>-1.119469</td>\n",
       "      <td>-0.338906</td>\n",
       "      <td>0.932473</td>\n",
       "      <td>1.407091</td>\n",
       "      <td>1.220553</td>\n",
       "      <td>15.0</td>\n",
       "      <td>high</td>\n",
       "      <td>0</td>\n",
       "      <td>0</td>\n",
       "      <td>1</td>\n",
       "      <td>0</td>\n",
       "      <td>0</td>\n",
       "      <td>0</td>\n",
       "      <td>1</td>\n",
       "      <td>0</td>\n",
       "      <td>0</td>\n",
       "      <td>0</td>\n",
       "      <td>0</td>\n",
       "      <td>1</td>\n",
       "      <td>0</td>\n",
       "    </tr>\n",
       "    <tr>\n",
       "      <th>392</th>\n",
       "      <td>0</td>\n",
       "      <td>1</td>\n",
       "      <td>3.377047</td>\n",
       "      <td>0</td>\n",
       "      <td>1</td>\n",
       "      <td>1</td>\n",
       "      <td>-1.600009</td>\n",
       "      <td>-1.399970</td>\n",
       "      <td>-0.643249</td>\n",
       "      <td>-1.235351</td>\n",
       "      <td>3.589323</td>\n",
       "      <td>0</td>\n",
       "      <td>0</td>\n",
       "      <td>0</td>\n",
       "      <td>0</td>\n",
       "      <td>0</td>\n",
       "      <td>1</td>\n",
       "      <td>0</td>\n",
       "      <td>0</td>\n",
       "      <td>1.178860</td>\n",
       "      <td>1.768808</td>\n",
       "      <td>-0.097908</td>\n",
       "      <td>1.707469</td>\n",
       "      <td>0.551100</td>\n",
       "      <td>-0.399289</td>\n",
       "      <td>-0.338906</td>\n",
       "      <td>-0.274167</td>\n",
       "      <td>-0.722415</td>\n",
       "      <td>-0.746385</td>\n",
       "      <td>8.0</td>\n",
       "      <td>low</td>\n",
       "      <td>0</td>\n",
       "      <td>1</td>\n",
       "      <td>0</td>\n",
       "      <td>0</td>\n",
       "      <td>0</td>\n",
       "      <td>1</td>\n",
       "      <td>0</td>\n",
       "      <td>0</td>\n",
       "      <td>0</td>\n",
       "      <td>0</td>\n",
       "      <td>0</td>\n",
       "      <td>0</td>\n",
       "      <td>1</td>\n",
       "    </tr>\n",
       "    <tr>\n",
       "      <th>393</th>\n",
       "      <td>0</td>\n",
       "      <td>1</td>\n",
       "      <td>1.023046</td>\n",
       "      <td>0</td>\n",
       "      <td>0</td>\n",
       "      <td>1</td>\n",
       "      <td>0.229234</td>\n",
       "      <td>-0.479857</td>\n",
       "      <td>2.227751</td>\n",
       "      <td>-1.235351</td>\n",
       "      <td>-0.449944</td>\n",
       "      <td>0</td>\n",
       "      <td>0</td>\n",
       "      <td>0</td>\n",
       "      <td>0</td>\n",
       "      <td>0</td>\n",
       "      <td>1</td>\n",
       "      <td>1</td>\n",
       "      <td>0</td>\n",
       "      <td>0.062194</td>\n",
       "      <td>0.766399</td>\n",
       "      <td>-1.896683</td>\n",
       "      <td>1.707469</td>\n",
       "      <td>1.328545</td>\n",
       "      <td>1.041070</td>\n",
       "      <td>-0.714236</td>\n",
       "      <td>0.027493</td>\n",
       "      <td>0.342338</td>\n",
       "      <td>-0.090739</td>\n",
       "      <td>11.0</td>\n",
       "      <td>middle</td>\n",
       "      <td>0</td>\n",
       "      <td>0</td>\n",
       "      <td>1</td>\n",
       "      <td>0</td>\n",
       "      <td>0</td>\n",
       "      <td>1</td>\n",
       "      <td>0</td>\n",
       "      <td>0</td>\n",
       "      <td>0</td>\n",
       "      <td>0</td>\n",
       "      <td>0</td>\n",
       "      <td>1</td>\n",
       "      <td>0</td>\n",
       "    </tr>\n",
       "    <tr>\n",
       "      <th>394</th>\n",
       "      <td>0</td>\n",
       "      <td>1</td>\n",
       "      <td>1.807713</td>\n",
       "      <td>1</td>\n",
       "      <td>0</td>\n",
       "      <td>1</td>\n",
       "      <td>-1.600009</td>\n",
       "      <td>-1.399970</td>\n",
       "      <td>-0.643249</td>\n",
       "      <td>-1.235351</td>\n",
       "      <td>-0.449944</td>\n",
       "      <td>0</td>\n",
       "      <td>0</td>\n",
       "      <td>0</td>\n",
       "      <td>0</td>\n",
       "      <td>1</td>\n",
       "      <td>1</td>\n",
       "      <td>1</td>\n",
       "      <td>0</td>\n",
       "      <td>-1.054472</td>\n",
       "      <td>-1.238419</td>\n",
       "      <td>-0.097908</td>\n",
       "      <td>1.707469</td>\n",
       "      <td>0.551100</td>\n",
       "      <td>1.041070</td>\n",
       "      <td>-0.088686</td>\n",
       "      <td>-0.877487</td>\n",
       "      <td>-0.456226</td>\n",
       "      <td>-0.309288</td>\n",
       "      <td>9.0</td>\n",
       "      <td>low</td>\n",
       "      <td>0</td>\n",
       "      <td>1</td>\n",
       "      <td>0</td>\n",
       "      <td>0</td>\n",
       "      <td>0</td>\n",
       "      <td>0</td>\n",
       "      <td>0</td>\n",
       "      <td>0</td>\n",
       "      <td>0</td>\n",
       "      <td>0</td>\n",
       "      <td>0</td>\n",
       "      <td>0</td>\n",
       "      <td>0</td>\n",
       "    </tr>\n",
       "  </tbody>\n",
       "</table>\n",
       "<p>395 rows × 44 columns</p>\n",
       "</div>"
      ],
      "text/plain": [
       "     school  sex       age  address  famsize  Pstatus      Medu      Fedu  \\\n",
       "0         1    0  1.023046        1        1        0  1.143856  1.360371   \n",
       "1         1    0  0.238380        1        1        1 -1.600009 -1.399970   \n",
       "2         1    0 -1.330954        1        0        1 -1.600009 -1.399970   \n",
       "3         1    0 -1.330954        1        1        1  1.143856 -0.479857   \n",
       "4         1    0 -0.546287        1        1        1  0.229234  0.440257   \n",
       "..      ...  ...       ...      ...      ...      ...       ...       ...   \n",
       "390       0    1  2.592380        1        0        0 -0.685387 -0.479857   \n",
       "391       0    1  0.238380        1        0        1  0.229234 -1.399970   \n",
       "392       0    1  3.377047        0        1        1 -1.600009 -1.399970   \n",
       "393       0    1  1.023046        0        0        1  0.229234 -0.479857   \n",
       "394       0    1  1.807713        1        0        1 -1.600009 -1.399970   \n",
       "\n",
       "     traveltime  studytime  failures  schoolsup  famsup  paid  activities  \\\n",
       "0      0.792251  -0.042286 -0.449944          1       0     0           0   \n",
       "1     -0.643249  -0.042286 -0.449944          0       1     0           0   \n",
       "2     -0.643249  -0.042286  3.589323          1       0     1           0   \n",
       "3     -0.643249   1.150779 -0.449944          0       1     1           1   \n",
       "4     -0.643249  -0.042286 -0.449944          0       1     1           0   \n",
       "..          ...        ...       ...        ...     ...   ...         ...   \n",
       "390   -0.643249  -0.042286  2.242901          0       1     1           0   \n",
       "391    0.792251  -1.235351 -0.449944          0       0     0           0   \n",
       "392   -0.643249  -1.235351  3.589323          0       0     0           0   \n",
       "393    2.227751  -1.235351 -0.449944          0       0     0           0   \n",
       "394   -0.643249  -1.235351 -0.449944          0       0     0           0   \n",
       "\n",
       "     nursery  higher  internet  romantic    famrel  freetime     goout  \\\n",
       "0          1       1         0         0  0.062194 -0.236010  0.801479   \n",
       "1          0       1         1         0  1.178860 -0.236010 -0.097908   \n",
       "2          1       1         1         0  0.062194 -0.236010 -0.997295   \n",
       "3          1       1         1         1 -1.054472 -1.238419 -0.997295   \n",
       "4          1       1         0         0  0.062194 -0.236010 -0.997295   \n",
       "..       ...     ...       ...       ...       ...       ...       ...   \n",
       "390        1       1         0         0  1.178860  1.768808  0.801479   \n",
       "391        0       1         1         0 -2.171138  0.766399  1.700867   \n",
       "392        0       1         0         0  1.178860  1.768808 -0.097908   \n",
       "393        0       1         1         0  0.062194  0.766399 -1.896683   \n",
       "394        1       1         1         0 -1.054472 -1.238419 -0.097908   \n",
       "\n",
       "         Dalc      Walc    health  absences        G1        G2        G3  \\\n",
       "0   -0.540699 -1.003789 -0.399289  0.036424 -1.782467 -1.254791 -0.964934   \n",
       "1   -0.540699 -1.003789 -0.399289 -0.213796 -1.782467 -1.520979 -0.964934   \n",
       "2    0.583385  0.551100 -0.399289  0.536865 -1.179147 -0.722415 -0.090739   \n",
       "3   -0.540699 -1.003789  1.041070 -0.464016  1.234133  0.874715  1.002004   \n",
       "4   -0.540699 -0.226345  1.041070 -0.213796 -1.480807 -0.190038 -0.090739   \n",
       "..        ...       ...       ...       ...       ...       ...       ...   \n",
       "390  2.831553  2.105989  0.320890  0.661975 -0.575827 -0.456226 -0.309288   \n",
       "391  1.707469  1.328545 -1.119469 -0.338906  0.932473  1.407091  1.220553   \n",
       "392  1.707469  0.551100 -0.399289 -0.338906 -0.274167 -0.722415 -0.746385   \n",
       "393  1.707469  1.328545  1.041070 -0.714236  0.027493  0.342338 -0.090739   \n",
       "394  1.707469  0.551100  1.041070 -0.088686 -0.877487 -0.456226 -0.309288   \n",
       "\n",
       "     gtot grade_group  Mjob_health  Mjob_other  Mjob_services  Mjob_teacher  \\\n",
       "0     6.0         low            0           0              0             0   \n",
       "1     5.0         low            0           0              0             0   \n",
       "2     8.0         low            0           0              0             0   \n",
       "3    15.0        high            1           0              0             0   \n",
       "4     9.0         low            0           1              0             0   \n",
       "..    ...         ...          ...         ...            ...           ...   \n",
       "390   9.0         low            0           0              1             0   \n",
       "391  15.0        high            0           0              1             0   \n",
       "392   8.0         low            0           1              0             0   \n",
       "393  11.0      middle            0           0              1             0   \n",
       "394   9.0         low            0           1              0             0   \n",
       "\n",
       "     Fjob_health  Fjob_other  Fjob_services  Fjob_teacher  reason_home  \\\n",
       "0              0           0              0             1            0   \n",
       "1              0           1              0             0            0   \n",
       "2              0           1              0             0            0   \n",
       "3              0           0              1             0            1   \n",
       "4              0           1              0             0            1   \n",
       "..           ...         ...            ...           ...          ...   \n",
       "390            0           0              1             0            0   \n",
       "391            0           0              1             0            0   \n",
       "392            0           1              0             0            0   \n",
       "393            0           1              0             0            0   \n",
       "394            0           0              0             0            0   \n",
       "\n",
       "     reason_other  reason_reputation  guardian_mother  guardian_other  \n",
       "0               0                  0                1               0  \n",
       "1               0                  0                0               0  \n",
       "2               1                  0                1               0  \n",
       "3               0                  0                1               0  \n",
       "4               0                  0                0               0  \n",
       "..            ...                ...              ...             ...  \n",
       "390             0                  0                0               1  \n",
       "391             0                  0                1               0  \n",
       "392             0                  0                0               1  \n",
       "393             0                  0                1               0  \n",
       "394             0                  0                0               0  \n",
       "\n",
       "[395 rows x 44 columns]"
      ]
     },
     "execution_count": 299,
     "metadata": {},
     "output_type": "execute_result"
    }
   ],
   "source": [
    "df1"
   ]
  },
  {
   "cell_type": "code",
   "execution_count": 300,
   "metadata": {},
   "outputs": [],
   "source": [
    "from sklearn.decomposition import PCA"
   ]
  },
  {
   "cell_type": "code",
   "execution_count": 301,
   "metadata": {},
   "outputs": [
    {
     "data": {
      "text/html": [
       "<div>\n",
       "<style scoped>\n",
       "    .dataframe tbody tr th:only-of-type {\n",
       "        vertical-align: middle;\n",
       "    }\n",
       "\n",
       "    .dataframe tbody tr th {\n",
       "        vertical-align: top;\n",
       "    }\n",
       "\n",
       "    .dataframe thead th {\n",
       "        text-align: right;\n",
       "    }\n",
       "</style>\n",
       "<table border=\"1\" class=\"dataframe\">\n",
       "  <thead>\n",
       "    <tr style=\"text-align: right;\">\n",
       "      <th></th>\n",
       "      <th>pc1</th>\n",
       "      <th>pc2</th>\n",
       "      <th>pc3</th>\n",
       "      <th>pc4</th>\n",
       "    </tr>\n",
       "  </thead>\n",
       "  <tbody>\n",
       "    <tr>\n",
       "      <th>0</th>\n",
       "      <td>-0.869878</td>\n",
       "      <td>0.883569</td>\n",
       "      <td>0.535969</td>\n",
       "      <td>0.744150</td>\n",
       "    </tr>\n",
       "    <tr>\n",
       "      <th>1</th>\n",
       "      <td>-0.461010</td>\n",
       "      <td>-2.114589</td>\n",
       "      <td>-0.839456</td>\n",
       "      <td>0.817145</td>\n",
       "    </tr>\n",
       "    <tr>\n",
       "      <th>2</th>\n",
       "      <td>1.473903</td>\n",
       "      <td>-2.090501</td>\n",
       "      <td>0.188546</td>\n",
       "      <td>-0.501924</td>\n",
       "    </tr>\n",
       "    <tr>\n",
       "      <th>3</th>\n",
       "      <td>-2.452447</td>\n",
       "      <td>0.002237</td>\n",
       "      <td>0.349293</td>\n",
       "      <td>-1.108778</td>\n",
       "    </tr>\n",
       "    <tr>\n",
       "      <th>4</th>\n",
       "      <td>-1.224635</td>\n",
       "      <td>0.019504</td>\n",
       "      <td>-0.468904</td>\n",
       "      <td>-0.625359</td>\n",
       "    </tr>\n",
       "  </tbody>\n",
       "</table>\n",
       "</div>"
      ],
      "text/plain": [
       "        pc1       pc2       pc3       pc4\n",
       "0 -0.869878  0.883569  0.535969  0.744150\n",
       "1 -0.461010 -2.114589 -0.839456  0.817145\n",
       "2  1.473903 -2.090501  0.188546 -0.501924\n",
       "3 -2.452447  0.002237  0.349293 -1.108778\n",
       "4 -1.224635  0.019504 -0.468904 -0.625359"
      ]
     },
     "execution_count": 301,
     "metadata": {},
     "output_type": "execute_result"
    }
   ],
   "source": [
    "# performing PCA\n",
    "pca = PCA(n_components=4)\n",
    "pc = pca.fit_transform(df1.drop(columns=['grade_group','gtot','G1','G2','G3']))\n",
    "principalDf = pd.DataFrame(data=pc,\n",
    "                          columns=['pc1', 'pc2','pc3','pc4'])\n",
    "\n",
    "principalDf.head()"
   ]
  },
  {
   "cell_type": "code",
   "execution_count": 302,
   "metadata": {},
   "outputs": [
    {
     "data": {
      "text/plain": [
       "<BarContainer object of 4 artists>"
      ]
     },
     "execution_count": 302,
     "metadata": {},
     "output_type": "execute_result"
    },
    {
     "data": {
      "image/png": "[encoded data removed]",
      "text/plain": [
       "<Figure size 576x288 with 1 Axes>"
      ]
     },
     "metadata": {
      "needs_background": "light"
     },
     "output_type": "display_data"
    }
   ],
   "source": [
    "import matplotlib.pyplot as plt\n",
    "features = range(pca.n_components_)\n",
    "plt.figure(figsize=(8,4))\n",
    "plt.bar(features[:15], pca.explained_variance_[:15])"
   ]
  },
  {
   "cell_type": "code",
   "execution_count": null,
   "metadata": {},
   "outputs": [],
   "source": []
  },
  {
   "cell_type": "markdown",
   "metadata": {},
   "source": [
    "# Model creation"
   ]
  },
  {
   "cell_type": "code",
   "execution_count": 303,
   "metadata": {},
   "outputs": [],
   "source": [
    "# creating X, getting rid of a few columns since we assume we do not yet know anything about students' grades\n",
    "X = df1.drop(['G1','G2','G3','gtot','grade_group'], axis=1)\n"
   ]
  },
  {
   "cell_type": "code",
   "execution_count": 304,
   "metadata": {},
   "outputs": [],
   "source": [
    "# creating y. making it dummy and into an array\n",
    "y = np.array(pd.get_dummies(df1.grade_group))"
   ]
  },
  {
   "cell_type": "code",
   "execution_count": 318,
   "metadata": {},
   "outputs": [],
   "source": [
    "# y, as in column\n",
    "y_1=df1.grade_group"
   ]
  },
  {
   "cell_type": "code",
   "execution_count": 306,
   "metadata": {},
   "outputs": [],
   "source": [
    "#importing train_test_split and multiclass classifier\n",
    "from sklearn.model_selection import train_test_split\n",
    "from sklearn.multiclass import OneVsRestClassifier"
   ]
  },
  {
   "cell_type": "code",
   "execution_count": 307,
   "metadata": {},
   "outputs": [],
   "source": [
    "#first split. development and test data\n",
    "X_dev, X_test, y_dev, y_test = train_test_split(X, y, test_size=0.2, random_state=123)"
   ]
  },
  {
   "cell_type": "code",
   "execution_count": 308,
   "metadata": {},
   "outputs": [],
   "source": [
    "# second split. train and validation data\n",
    "X_train, X_val, y_train, y_val = train_test_split(X_dev, y_dev, test_size=0.2, random_state=123)"
   ]
  },
  {
   "cell_type": "code",
   "execution_count": 515,
   "metadata": {},
   "outputs": [
    {
     "name": "stdout",
     "output_type": "stream",
     "text": [
      "\n",
      " DecisionTreeClassifier(random_state=42) 0.171875\n",
      " recall: 0.3972602739726027\n",
      "\n",
      " RandomForestClassifier(random_state=42) 0.25\n",
      " recall: 0.5925925925925926\n",
      "\n",
      " SVC() 0.203125\n",
      " recall: 0.6842105263157895\n",
      "\n",
      " KNeighborsClassifier() 0.328125\n",
      " recall: 0.4772727272727273\n",
      "\n",
      " GaussianNB() 0.296875\n",
      " recall: 0.4444444444444444\n"
     ]
    },
    {
     "name": "stderr",
     "output_type": "stream",
     "text": [
      "/Users/ebba/opt/anaconda3/lib/python3.8/site-packages/sklearn/metrics/_classification.py:1221: UndefinedMetricWarning: Recall is ill-defined and being set to 0.0 in labels with no true samples. Use `zero_division` parameter to control this behavior.\n",
      "  _warn_prf(average, modifier, msg_start, len(result))\n"
     ]
    },
    {
     "name": "stdout",
     "output_type": "stream",
     "text": [
      "\n",
      " LogisticRegression(max_iter=4000, solver='saga') 0.296875\n",
      " recall: 0.4878048780487805\n",
      "\n",
      " GradientBoostingClassifier(random_state=42) 0.3125\n",
      " recall: 0.5217391304347826\n"
     ]
    }
   ],
   "source": [
    "#importing different models and pipeline and gridsearch\n",
    "from sklearn.pipeline import make_pipeline\n",
    "from sklearn.model_selection import GridSearchCV\n",
    "from sklearn.svm import SVC\n",
    "from sklearn.ensemble import RandomForestClassifier\n",
    "from sklearn.tree import DecisionTreeClassifier\n",
    "from sklearn.neighbors import KNeighborsClassifier\n",
    "from sklearn.naive_bayes import GaussianNB\n",
    "from sklearn.linear_model import LogisticRegression\n",
    "from sklearn.ensemble import GradientBoostingClassifier\n",
    "from sklearn.metrics import recall_score\n",
    "\n",
    "#list of models\n",
    "classifiers = [\n",
    "    DecisionTreeClassifier(random_state=42),\n",
    "    RandomForestClassifier(random_state=42),\n",
    "    SVC(),\n",
    "    KNeighborsClassifier(),\n",
    "    GaussianNB(),\n",
    "    LogisticRegression(max_iter=4000, solver='saga'),\n",
    "    GradientBoostingClassifier(random_state=42)\n",
    "]\n",
    "#loop to see which model performs best\n",
    "for classifier in classifiers:\n",
    "    pipe = make_pipeline(OneVsRestClassifier(classifier))\n",
    "    pipe.fit(X_train, y_train)\n",
    "    print('\\n',classifier, pipe.score(X_val, y_val))\n",
    "    print(' recall:', recall_score(pipe.predict(X_val), y_val, average='weighted'))  "
   ]
  },
  {
   "cell_type": "code",
   "execution_count": 319,
   "metadata": {},
   "outputs": [],
   "source": [
    "#another split where x is not a numpy array\n",
    "X_dev_1, X_test_1, y_dev_1, y_test_1 = train_test_split(X, y_1, test_size=0.2, random_state=123)"
   ]
  },
  {
   "cell_type": "code",
   "execution_count": 320,
   "metadata": {},
   "outputs": [],
   "source": [
    "#second split with y not as numpy array\n",
    "X_train_1, X_val_1, y_train_1, y_val_1 = train_test_split(X_dev_1, y_dev_1, test_size=0.2, random_state=123)"
   ]
  },
  {
   "cell_type": "code",
   "execution_count": 516,
   "metadata": {},
   "outputs": [
    {
     "name": "stdout",
     "output_type": "stream",
     "text": [
      "\n",
      " DecisionTreeClassifier(random_state=42) 0.421875\n",
      " recall: 0.421875\n",
      "\n",
      " RandomForestClassifier(random_state=42) 0.46875\n",
      " recall: 0.46875\n",
      "\n",
      " SVC() 0.453125\n",
      " recall: 0.453125\n",
      "\n",
      " KNeighborsClassifier() 0.46875\n",
      " recall: 0.46875\n",
      "\n",
      " GaussianNB() 0.453125\n",
      " recall: 0.453125\n",
      "\n",
      " LogisticRegression(max_iter=4000, solver='saga') 0.421875\n",
      " recall: 0.421875\n",
      "\n",
      " GradientBoostingClassifier(random_state=42) 0.5\n",
      " recall: 0.5\n"
     ]
    }
   ],
   "source": [
    "# performing another loop to see which model performs best wihtout onevsrest mulsticlass classifier\n",
    "for classifier in classifiers:\n",
    "    pipe = make_pipeline(classifier)\n",
    "    pipe.fit(X_train_1, y_train_1)\n",
    "    print('\\n',classifier, pipe.score(X_val_1, y_val_1))\n",
    "    print(' recall:', recall_score(pipe.predict(X_val_1), y_val_1, average='weighted')) "
   ]
  },
  {
   "cell_type": "markdown",
   "metadata": {},
   "source": [
    "### Creating model with KNeighbors"
   ]
  },
  {
   "cell_type": "code",
   "execution_count": 355,
   "metadata": {},
   "outputs": [],
   "source": [
    "#creating a model\n",
    "model = KNeighborsClassifier().fit(X_train_1, y_train_1)"
   ]
  },
  {
   "cell_type": "code",
   "execution_count": 357,
   "metadata": {},
   "outputs": [],
   "source": [
    "# performing small scale gridsearch and cross validation\n",
    "from sklearn.model_selection import GridSearchCV\n",
    "\n",
    "classifier = KNeighborsClassifier()\n",
    "\n",
    "parameters = [{'n_neighbors':[3,5,7], \n",
    "               'weights': ['uniform', 'distance'],\n",
    "              'algorithm': ['auto', 'ball_tree', 'kd_tree', 'brute']}]\n",
    "\n",
    "grid = GridSearchCV(classifier, param_grid=parameters, cv=10) "
   ]
  },
  {
   "cell_type": "code",
   "execution_count": 358,
   "metadata": {},
   "outputs": [
    {
     "data": {
      "text/plain": [
       "GridSearchCV(cv=10, estimator=KNeighborsClassifier(),\n",
       "             param_grid=[{'algorithm': ['auto', 'ball_tree', 'kd_tree',\n",
       "                                        'brute'],\n",
       "                          'n_neighbors': [3, 5, 7],\n",
       "                          'weights': ['uniform', 'distance']}])"
      ]
     },
     "execution_count": 358,
     "metadata": {},
     "output_type": "execute_result"
    }
   ],
   "source": [
    "#training our model to result from gridsearch\n",
    "grid.fit(X_train_1, y_train_1)"
   ]
  },
  {
   "cell_type": "code",
   "execution_count": 517,
   "metadata": {},
   "outputs": [
    {
     "name": "stdout",
     "output_type": "stream",
     "text": [
      "GradientBoostingClassifier(learning_rate=0.05, n_estimators=10)\n",
      "[0.97777778 1.         1.        ]\n",
      "              precision    recall  f1-score   support\n",
      "\n",
      "        high       0.67      0.42      0.52        19\n",
      "         low       0.50      0.64      0.56        25\n",
      "      middle       0.35      0.35      0.35        20\n",
      "\n",
      "    accuracy                           0.48        64\n",
      "   macro avg       0.51      0.47      0.48        64\n",
      "weighted avg       0.50      0.48      0.48        64\n",
      "\n",
      "[[ 8  5  6]\n",
      " [ 2 16  7]\n",
      " [ 2 11  7]]\n"
     ]
    }
   ],
   "source": [
    "#looking at how well model performed.\n",
    "#recall of 64% for low\n",
    "from sklearn.metrics import classification_report, confusion_matrix \n",
    "best = grid.best_estimator_\n",
    "y_pred = model.predict(X_val_1)\n",
    "y_pred1 = model.predict(X_train_1)\n",
    "\n",
    "print(best)\n",
    "print(recall_score(y_pred1, y_train_1, average=None))\n",
    "print(classification_report(y_pred, y_val_1))\n",
    "print(confusion_matrix(y_pred, y_val_1))"
   ]
  },
  {
   "cell_type": "markdown",
   "metadata": {},
   "source": [
    "### SVC"
   ]
  },
  {
   "cell_type": "code",
   "execution_count": 361,
   "metadata": {},
   "outputs": [],
   "source": [
    "# creating a model\n",
    "model = SVC().fit(X_train_1, y_train_1)"
   ]
  },
  {
   "cell_type": "code",
   "execution_count": 409,
   "metadata": {},
   "outputs": [],
   "source": [
    "#small scale gridsearch and cross validation\n",
    "classifier = SVC()\n",
    "\n",
    "parameters = [{'C':[0.9, 1, 1.1], \n",
    "               'kernel': ['sigmoid', 'rbf', 'poly'],\n",
    "              'gamma': ['scale', 'auto']}]\n",
    "\n",
    "grid = GridSearchCV(classifier, param_grid=parameters, cv=10) "
   ]
  },
  {
   "cell_type": "code",
   "execution_count": 410,
   "metadata": {},
   "outputs": [
    {
     "data": {
      "text/plain": [
       "GridSearchCV(cv=10, estimator=SVC(),\n",
       "             param_grid=[{'C': [0.9, 1, 1.1], 'gamma': ['scale', 'auto'],\n",
       "                          'kernel': ['sigmoid', 'rbf', 'poly']}])"
      ]
     },
     "execution_count": 410,
     "metadata": {},
     "output_type": "execute_result"
    }
   ],
   "source": [
    "#fitting model to gridsearch results\n",
    "grid.fit(X_train_1, y_train_1)"
   ]
  },
  {
   "cell_type": "code",
   "execution_count": 518,
   "metadata": {},
   "outputs": [
    {
     "name": "stdout",
     "output_type": "stream",
     "text": [
      "GradientBoostingClassifier(learning_rate=0.05, n_estimators=10)\n",
      "[0.57480315 0.63247863 0.875     ]\n",
      "              precision    recall  f1-score   support\n",
      "\n",
      "        high       0.83      0.30      0.44        33\n",
      "         low       0.59      0.63      0.61        30\n",
      "      middle       0.00      0.00      0.00         1\n",
      "\n",
      "    accuracy                           0.45        64\n",
      "   macro avg       0.48      0.31      0.35        64\n",
      "weighted avg       0.71      0.45      0.52        64\n",
      "\n",
      "[[10 12 11]\n",
      " [ 2 19  9]\n",
      " [ 0  1  0]]\n"
     ]
    }
   ],
   "source": [
    "# how well did the model perform?\n",
    "#recall of 63% for low\n",
    "best = grid.best_estimator_\n",
    "y_pred = best.predict(X_val_1)\n",
    "y_pred1 = best.predict(X_train_1)\n",
    "\n",
    "print(best)\n",
    "print(recall_score(y_pred1, y_train_1, average=None))\n",
    "print(classification_report(y_pred, y_val_1))\n",
    "print(confusion_matrix(y_pred, y_val_1))"
   ]
  },
  {
   "cell_type": "markdown",
   "metadata": {},
   "source": [
    "### GaussianNB"
   ]
  },
  {
   "cell_type": "code",
   "execution_count": 532,
   "metadata": {},
   "outputs": [],
   "source": [
    "#creating model\n",
    "model = GaussianNB().fit(X_train_1, y_train_1)"
   ]
  },
  {
   "cell_type": "code",
   "execution_count": 533,
   "metadata": {},
   "outputs": [
    {
     "name": "stdout",
     "output_type": "stream",
     "text": [
      "[0.50862069 0.68       0.39344262]\n",
      "              precision    recall  f1-score   support\n",
      "\n",
      "        high       0.92      0.34      0.50        32\n",
      "         low       0.47      0.75      0.58        20\n",
      "      middle       0.15      0.25      0.19        12\n",
      "\n",
      "    accuracy                           0.45        64\n",
      "   macro avg       0.51      0.45      0.42        64\n",
      "weighted avg       0.63      0.45      0.47        64\n",
      "\n",
      "[[11  8 13]\n",
      " [ 1 15  4]\n",
      " [ 0  9  3]]\n"
     ]
    }
   ],
   "source": [
    "# how well did the model perform?\n",
    "#recall of 75% for low\n",
    "y_pred = model.predict(X_val_1)\n",
    "y_pred1 = model.predict(X_train_1)\n",
    "\n",
    "\n",
    "print(recall_score(y_pred1, y_train_1, average=None))\n",
    "print(classification_report(y_pred, y_val_1))\n",
    "print(confusion_matrix(y_pred, y_val_1))"
   ]
  },
  {
   "cell_type": "markdown",
   "metadata": {},
   "source": [
    "### GradientBoosting"
   ]
  },
  {
   "cell_type": "code",
   "execution_count": 523,
   "metadata": {},
   "outputs": [],
   "source": [
    "#creating model\n",
    "model = GradientBoostingClassifier().fit(X_train_1, y_train_1)"
   ]
  },
  {
   "cell_type": "code",
   "execution_count": 528,
   "metadata": {},
   "outputs": [
    {
     "name": "stdout",
     "output_type": "stream",
     "text": [
      "[0.97777778 1.         1.        ]\n",
      "              precision    recall  f1-score   support\n",
      "\n",
      "        high       0.83      0.30      0.44        33\n",
      "         low       0.59      0.63      0.61        30\n",
      "      middle       0.00      0.00      0.00         1\n",
      "\n",
      "    accuracy                           0.45        64\n",
      "   macro avg       0.48      0.31      0.35        64\n",
      "weighted avg       0.71      0.45      0.52        64\n",
      "\n",
      "[[10 12 11]\n",
      " [ 2 19  9]\n",
      " [ 0  1  0]]\n"
     ]
    }
   ],
   "source": [
    "#how well did model perform?\n",
    "# recall of 63% for low\n",
    "my_pred = model.predict(X_val_1)\n",
    "y_pred1 = model.predict(X_train_1)\n",
    "\n",
    "\n",
    "print(recall_score(y_pred1, y_train_1, average=None))\n",
    "print(classification_report(y_pred, y_val_1))\n",
    "print(confusion_matrix(y_pred, y_val_1))"
   ]
  },
  {
   "cell_type": "markdown",
   "metadata": {},
   "source": [
    "### RandomForest"
   ]
  },
  {
   "cell_type": "code",
   "execution_count": 534,
   "metadata": {},
   "outputs": [],
   "source": [
    "#creating model\n",
    "model = RandomForestClassifier().fit(X_train_1, y_train_1)"
   ]
  },
  {
   "cell_type": "code",
   "execution_count": 535,
   "metadata": {},
   "outputs": [],
   "source": [
    "#small scale gridserach and cross validation\n",
    "model = RandomForestClassifier().fit(X_train_1, y_train_1)\n",
    "classifier = RandomForestClassifier(random_state=4)\n",
    "\n",
    "parameters = [{'max_depth': [3, 5, 10],\n",
    "              'n_estimators': [100, 10],\n",
    "              'max_features':['sqrt', None , 'log2']}]\n",
    "\n",
    "grid = GridSearchCV(classifier, param_grid=parameters, cv=10) "
   ]
  },
  {
   "cell_type": "code",
   "execution_count": 536,
   "metadata": {},
   "outputs": [
    {
     "data": {
      "text/plain": [
       "GridSearchCV(cv=10, estimator=RandomForestClassifier(random_state=4),\n",
       "             param_grid=[{'max_depth': [3, 5, 10],\n",
       "                          'max_features': ['sqrt', None, 'log2'],\n",
       "                          'n_estimators': [100, 10]}])"
      ]
     },
     "execution_count": 536,
     "metadata": {},
     "output_type": "execute_result"
    }
   ],
   "source": [
    "#fitting model to frid search results\n",
    "grid.fit(X_train_1, y_train_1)"
   ]
  },
  {
   "cell_type": "code",
   "execution_count": 537,
   "metadata": {},
   "outputs": [
    {
     "data": {
      "text/plain": [
       "0.623015873015873"
      ]
     },
     "execution_count": 537,
     "metadata": {},
     "output_type": "execute_result"
    }
   ],
   "source": [
    "grid.score(X_train_1, y_train_1)"
   ]
  },
  {
   "cell_type": "code",
   "execution_count": 538,
   "metadata": {},
   "outputs": [
    {
     "name": "stdout",
     "output_type": "stream",
     "text": [
      "RandomForestClassifier(max_depth=3, max_features='log2', random_state=4)\n",
      "              precision    recall  f1-score   support\n",
      "\n",
      "        high       0.92      0.37      0.52        30\n",
      "         low       0.72      0.70      0.71        33\n",
      "      middle       0.00      0.00      0.00         1\n",
      "\n",
      "    accuracy                           0.53        64\n",
      "   macro avg       0.55      0.35      0.41        64\n",
      "weighted avg       0.80      0.53      0.61        64\n",
      "\n",
      "[[11  8 11]\n",
      " [ 1 23  9]\n",
      " [ 0  1  0]]\n"
     ]
    }
   ],
   "source": [
    "#how well did model perform?\n",
    "# 70% recall for low \n",
    "best = grid.best_estimator_\n",
    "y_pred = best.predict(X_val_1)\n",
    "y_pred1 = best.predict(X_train_1)\n",
    "\n",
    "print(best)\n",
    "print(classification_report(y_pred, y_val_1))\n",
    "print(confusion_matrix(y_pred, y_val_1))"
   ]
  },
  {
   "cell_type": "markdown",
   "metadata": {},
   "source": [
    "# With OneVsRestClassifier"
   ]
  },
  {
   "cell_type": "markdown",
   "metadata": {},
   "source": [
    "### RandomForest"
   ]
  },
  {
   "cell_type": "code",
   "execution_count": 459,
   "metadata": {},
   "outputs": [],
   "source": [
    "#classifier. making random tree a multiclass classifier\n",
    "clf = OneVsRestClassifier(RandomForestClassifier(max_depth=10,random_state=42)).fit(X_train, y_train)"
   ]
  },
  {
   "cell_type": "code",
   "execution_count": 460,
   "metadata": {},
   "outputs": [
    {
     "data": {
      "text/plain": [
       "0.25"
      ]
     },
     "execution_count": 460,
     "metadata": {},
     "output_type": "execute_result"
    }
   ],
   "source": [
    "#score of classifier\n",
    "clf.score(X_val, y_val)"
   ]
  },
  {
   "cell_type": "code",
   "execution_count": 463,
   "metadata": {
    "scrolled": true
   },
   "outputs": [
    {
     "name": "stdout",
     "output_type": "stream",
     "text": [
      "              precision    recall  f1-score   support\n",
      "\n",
      "           0       0.34      0.79      0.48        14\n",
      "           1       0.00      0.00      0.00         1\n",
      "           2       0.42      0.45      0.43        11\n",
      "\n",
      "   micro avg       0.25      0.62      0.36        26\n",
      "   macro avg       0.25      0.41      0.30        26\n",
      "weighted avg       0.36      0.62      0.44        26\n",
      " samples avg       0.25      0.25      0.25        26\n",
      "\n"
     ]
    },
    {
     "name": "stderr",
     "output_type": "stream",
     "text": [
      "/Users/ebba/opt/anaconda3/lib/python3.8/site-packages/sklearn/metrics/_classification.py:1221: UndefinedMetricWarning: Recall and F-score are ill-defined and being set to 0.0 in samples with no true labels. Use `zero_division` parameter to control this behavior.\n",
      "  _warn_prf(average, modifier, msg_start, len(result))\n"
     ]
    }
   ],
   "source": [
    "# how did model perform? 79% recall for low\n",
    "y_pred = clf.predict(X_val)\n",
    "\n",
    "print(classification_report(y_pred, y_val))\n"
   ]
  },
  {
   "cell_type": "markdown",
   "metadata": {},
   "source": [
    "### GaussianNB"
   ]
  },
  {
   "cell_type": "code",
   "execution_count": 464,
   "metadata": {},
   "outputs": [],
   "source": [
    "#creating model\n",
    "clf = OneVsRestClassifier(GaussianNB()).fit(X_train, y_train)"
   ]
  },
  {
   "cell_type": "code",
   "execution_count": 465,
   "metadata": {},
   "outputs": [
    {
     "data": {
      "text/plain": [
       "0.296875"
      ]
     },
     "execution_count": 465,
     "metadata": {},
     "output_type": "execute_result"
    }
   ],
   "source": [
    "clf.score(X_val, y_val)"
   ]
  },
  {
   "cell_type": "code",
   "execution_count": 530,
   "metadata": {},
   "outputs": [
    {
     "name": "stdout",
     "output_type": "stream",
     "text": [
      "              precision    recall  f1-score   support\n",
      "\n",
      "           0       0.50      0.80      0.62        20\n",
      "           1       0.45      0.29      0.35        31\n",
      "           2       0.92      0.37      0.52        30\n",
      "\n",
      "   micro avg       0.56      0.44      0.50        81\n",
      "   macro avg       0.62      0.49      0.50        81\n",
      "weighted avg       0.64      0.44      0.48        81\n",
      " samples avg       0.56      0.43      0.47        81\n",
      "\n"
     ]
    },
    {
     "name": "stderr",
     "output_type": "stream",
     "text": [
      "/Users/ebba/opt/anaconda3/lib/python3.8/site-packages/sklearn/metrics/_classification.py:1221: UndefinedMetricWarning: Recall and F-score are ill-defined and being set to 0.0 in samples with no true labels. Use `zero_division` parameter to control this behavior.\n",
      "  _warn_prf(average, modifier, msg_start, len(result))\n"
     ]
    }
   ],
   "source": [
    "#prediction and checking how well model performed. 80% on recall for low\n",
    "y_pred = clf.predict(X_val)\n",
    "\n",
    "print(classification_report(y_pred, y_val))"
   ]
  },
  {
   "cell_type": "markdown",
   "metadata": {},
   "source": [
    "### KNeighbors"
   ]
  },
  {
   "cell_type": "code",
   "execution_count": 469,
   "metadata": {},
   "outputs": [],
   "source": [
    "# creating model\n",
    "clf = OneVsRestClassifier(KNeighborsClassifier()).fit(X_train, y_train)"
   ]
  },
  {
   "cell_type": "code",
   "execution_count": 470,
   "metadata": {},
   "outputs": [
    {
     "data": {
      "text/plain": [
       "0.328125"
      ]
     },
     "execution_count": 470,
     "metadata": {},
     "output_type": "execute_result"
    }
   ],
   "source": [
    "clf.score(X_val, y_val)"
   ]
  },
  {
   "cell_type": "code",
   "execution_count": 471,
   "metadata": {},
   "outputs": [
    {
     "name": "stdout",
     "output_type": "stream",
     "text": [
      "              precision    recall  f1-score   support\n",
      "\n",
      "           0       0.34      0.73      0.47        15\n",
      "           1       0.15      0.30      0.20        10\n",
      "           2       0.58      0.37      0.45        19\n",
      "\n",
      "   micro avg       0.33      0.48      0.39        44\n",
      "   macro avg       0.36      0.47      0.37        44\n",
      "weighted avg       0.40      0.48      0.40        44\n",
      " samples avg       0.33      0.33      0.33        44\n",
      "\n"
     ]
    },
    {
     "name": "stderr",
     "output_type": "stream",
     "text": [
      "/Users/ebba/opt/anaconda3/lib/python3.8/site-packages/sklearn/metrics/_classification.py:1221: UndefinedMetricWarning: Recall and F-score are ill-defined and being set to 0.0 in samples with no true labels. Use `zero_division` parameter to control this behavior.\n",
      "  _warn_prf(average, modifier, msg_start, len(result))\n"
     ]
    }
   ],
   "source": [
    "#predicition and how well model performed. 73% recall for low\n",
    "y_pred = clf.predict(X_val)\n",
    "\n",
    "print(classification_report(y_pred, y_val))"
   ]
  },
  {
   "cell_type": "markdown",
   "metadata": {},
   "source": [
    "### DecisionTree"
   ]
  },
  {
   "cell_type": "code",
   "execution_count": 481,
   "metadata": {},
   "outputs": [],
   "source": [
    "#creating model\n",
    "clf = OneVsRestClassifier(DecisionTreeClassifier()).fit(X_train, y_train)"
   ]
  },
  {
   "cell_type": "code",
   "execution_count": 482,
   "metadata": {},
   "outputs": [
    {
     "data": {
      "text/plain": [
       "0.1875"
      ]
     },
     "execution_count": 482,
     "metadata": {},
     "output_type": "execute_result"
    }
   ],
   "source": [
    "clf.score(X_val, y_val)"
   ]
  },
  {
   "cell_type": "code",
   "execution_count": 483,
   "metadata": {},
   "outputs": [
    {
     "name": "stdout",
     "output_type": "stream",
     "text": [
      "              precision    recall  f1-score   support\n",
      "\n",
      "           0       0.59      0.61      0.60        31\n",
      "           1       0.30      0.25      0.27        24\n",
      "           2       0.58      0.33      0.42        21\n",
      "\n",
      "   micro avg       0.50      0.42      0.46        76\n",
      "   macro avg       0.49      0.40      0.43        76\n",
      "weighted avg       0.50      0.42      0.45        76\n",
      " samples avg       0.50      0.33      0.39        76\n",
      "\n"
     ]
    },
    {
     "name": "stderr",
     "output_type": "stream",
     "text": [
      "/Users/ebba/opt/anaconda3/lib/python3.8/site-packages/sklearn/metrics/_classification.py:1221: UndefinedMetricWarning: Recall and F-score are ill-defined and being set to 0.0 in samples with no true labels. Use `zero_division` parameter to control this behavior.\n",
      "  _warn_prf(average, modifier, msg_start, len(result))\n"
     ]
    }
   ],
   "source": [
    "#predicition and performance of model. 61% recall for low\n",
    "y_pred = clf.predict(X_val)\n",
    "\n",
    "print(classification_report(y_pred, y_val))"
   ]
  },
  {
   "cell_type": "markdown",
   "metadata": {},
   "source": [
    "### GradientBoosting"
   ]
  },
  {
   "cell_type": "code",
   "execution_count": 484,
   "metadata": {},
   "outputs": [],
   "source": [
    "#creating model\n",
    "clf = OneVsRestClassifier(GradientBoostingClassifier()).fit(X_train, y_train)"
   ]
  },
  {
   "cell_type": "code",
   "execution_count": 485,
   "metadata": {},
   "outputs": [
    {
     "data": {
      "text/plain": [
       "0.3125"
      ]
     },
     "execution_count": 485,
     "metadata": {},
     "output_type": "execute_result"
    }
   ],
   "source": [
    "clf.score(X_val, y_val)"
   ]
  },
  {
   "cell_type": "code",
   "execution_count": 486,
   "metadata": {},
   "outputs": [
    {
     "name": "stdout",
     "output_type": "stream",
     "text": [
      "              precision    recall  f1-score   support\n",
      "\n",
      "           0       0.41      0.62      0.49        21\n",
      "           1       0.15      0.43      0.22         7\n",
      "           2       0.58      0.44      0.50        16\n",
      "\n",
      "   micro avg       0.36      0.52      0.43        44\n",
      "   macro avg       0.38      0.50      0.40        44\n",
      "weighted avg       0.43      0.52      0.45        44\n",
      " samples avg       0.36      0.34      0.34        44\n",
      "\n"
     ]
    },
    {
     "name": "stderr",
     "output_type": "stream",
     "text": [
      "/Users/ebba/opt/anaconda3/lib/python3.8/site-packages/sklearn/metrics/_classification.py:1221: UndefinedMetricWarning: Recall and F-score are ill-defined and being set to 0.0 in samples with no true labels. Use `zero_division` parameter to control this behavior.\n",
      "  _warn_prf(average, modifier, msg_start, len(result))\n"
     ]
    }
   ],
   "source": [
    "#prediction and performance of model. 62% recall for low\n",
    "y_pred = clf.predict(X_val)\n",
    "\n",
    "print(classification_report(y_pred, y_val))"
   ]
  },
  {
   "cell_type": "markdown",
   "metadata": {},
   "source": [
    "### Best Model?\n",
    "With OneVsRest:GaussianNB OneVsRest performed the best on recall for low-group\n",
    "\n",
    "Without OneVsRest: GaussianNB performed the best on recall. Random Forest performed the best regarding precision for the low-group and quite well on recall"
   ]
  },
  {
   "cell_type": "markdown",
   "metadata": {},
   "source": [
    "### OneVsRestClassifier(GaussianNB( ))"
   ]
  },
  {
   "cell_type": "code",
   "execution_count": 547,
   "metadata": {},
   "outputs": [
    {
     "name": "stdout",
     "output_type": "stream",
     "text": [
      "              precision    recall  f1-score   support\n",
      "\n",
      "           0       0.50      0.80      0.62        20\n",
      "           1       0.45      0.29      0.35        31\n",
      "           2       0.92      0.37      0.52        30\n",
      "\n",
      "   micro avg       0.56      0.44      0.50        81\n",
      "   macro avg       0.62      0.49      0.50        81\n",
      "weighted avg       0.64      0.44      0.48        81\n",
      " samples avg       0.56      0.43      0.47        81\n",
      "\n"
     ]
    },
    {
     "name": "stderr",
     "output_type": "stream",
     "text": [
      "/Users/ebba/opt/anaconda3/lib/python3.8/site-packages/sklearn/metrics/_classification.py:1221: UndefinedMetricWarning: Recall and F-score are ill-defined and being set to 0.0 in samples with no true labels. Use `zero_division` parameter to control this behavior.\n",
      "  _warn_prf(average, modifier, msg_start, len(result))\n"
     ]
    }
   ],
   "source": [
    "clf = OneVsRestClassifier(GaussianNB(var_smoothing=1e-7)).fit(X_train, y_train)\n",
    "\n",
    "y_pred = clf.predict(X_val)\n",
    "\n",
    "print(classification_report(y_pred, y_val))"
   ]
  },
  {
   "cell_type": "markdown",
   "metadata": {},
   "source": [
    "#### Test Data\n",
    "For low-group (0) it gave a precision of 52% and recall of 70%"
   ]
  },
  {
   "cell_type": "code",
   "execution_count": 548,
   "metadata": {},
   "outputs": [
    {
     "name": "stdout",
     "output_type": "stream",
     "text": [
      "              precision    recall  f1-score   support\n",
      "\n",
      "           0       0.52      0.70      0.60        20\n",
      "           1       0.48      0.33      0.39        36\n",
      "           2       0.74      0.41      0.53        49\n",
      "\n",
      "   micro avg       0.58      0.44      0.50       105\n",
      "   macro avg       0.58      0.48      0.51       105\n",
      "weighted avg       0.61      0.44      0.49       105\n",
      " samples avg       0.58      0.46      0.50       105\n",
      "\n"
     ]
    },
    {
     "name": "stderr",
     "output_type": "stream",
     "text": [
      "/Users/ebba/opt/anaconda3/lib/python3.8/site-packages/sklearn/metrics/_classification.py:1221: UndefinedMetricWarning: Recall and F-score are ill-defined and being set to 0.0 in samples with no true labels. Use `zero_division` parameter to control this behavior.\n",
      "  _warn_prf(average, modifier, msg_start, len(result))\n"
     ]
    }
   ],
   "source": [
    "y_pred = clf.predict(X_test)\n",
    "\n",
    "print(classification_report(y_pred, y_test))"
   ]
  },
  {
   "cell_type": "markdown",
   "metadata": {},
   "source": [
    "### GaussianNB( )"
   ]
  },
  {
   "cell_type": "code",
   "execution_count": 601,
   "metadata": {},
   "outputs": [
    {
     "name": "stdout",
     "output_type": "stream",
     "text": [
      "[0.50862069 0.68       0.39344262]\n",
      "              precision    recall  f1-score   support\n",
      "\n",
      "        high       0.92      0.34      0.50        32\n",
      "         low       0.47      0.75      0.58        20\n",
      "      middle       0.15      0.25      0.19        12\n",
      "\n",
      "    accuracy                           0.45        64\n",
      "   macro avg       0.51      0.45      0.42        64\n",
      "weighted avg       0.63      0.45      0.47        64\n",
      "\n",
      "[[11  8 13]\n",
      " [ 1 15  4]\n",
      " [ 0  9  3]]\n"
     ]
    }
   ],
   "source": [
    "model = GaussianNB().fit(X_train_1, y_train_1)\n",
    "\n",
    "y_pred = model.predict(X_val_1)\n",
    "y_pred1 = model.predict(X_train_1)\n",
    "\n",
    "\n",
    "print(recall_score(y_pred1, y_train_1, average=None))\n",
    "print(classification_report(y_pred, y_val_1))\n",
    "print(confusion_matrix(y_pred, y_val_1))"
   ]
  },
  {
   "cell_type": "markdown",
   "metadata": {},
   "source": [
    "#### Test Data\n",
    "for low group it gave precision of 30% and recall of 73%"
   ]
  },
  {
   "cell_type": "code",
   "execution_count": 602,
   "metadata": {},
   "outputs": [
    {
     "name": "stdout",
     "output_type": "stream",
     "text": [
      "              precision    recall  f1-score   support\n",
      "\n",
      "        high       0.78      0.43      0.55        49\n",
      "         low       0.30      0.73      0.42        11\n",
      "      middle       0.20      0.26      0.23        19\n",
      "\n",
      "    accuracy                           0.43        79\n",
      "   macro avg       0.42      0.47      0.40        79\n",
      "weighted avg       0.57      0.43      0.46        79\n",
      "\n",
      "[[21 10 18]\n",
      " [ 1  8  2]\n",
      " [ 5  9  5]]\n"
     ]
    }
   ],
   "source": [
    "y_pred = model.predict(X_test_1)\n",
    "\n",
    "print(classification_report(y_pred, y_test_1))\n",
    "print(confusion_matrix(y_pred, y_test_1))"
   ]
  },
  {
   "cell_type": "markdown",
   "metadata": {},
   "source": [
    "### RandomForestClassifier( )"
   ]
  },
  {
   "cell_type": "code",
   "execution_count": 543,
   "metadata": {},
   "outputs": [],
   "source": [
    "model = RandomForestClassifier().fit(X_train_1, y_train_1)\n",
    "classifier = RandomForestClassifier(random_state=4)\n",
    "\n",
    "parameters = [{'max_depth': [3, 5, 10],\n",
    "              'n_estimators':[100, 10],\n",
    "              'max_features':['sqrt', None , 'log2'],\n",
    "              'min_samples_split':[2,3,4],\n",
    "               'min_samples_leaf':[1,2]}]\n",
    "\n",
    "grid = GridSearchCV(classifier, param_grid=parameters, cv=10)"
   ]
  },
  {
   "cell_type": "code",
   "execution_count": 544,
   "metadata": {},
   "outputs": [
    {
     "data": {
      "text/plain": [
       "GridSearchCV(cv=10, estimator=RandomForestClassifier(random_state=4),\n",
       "             param_grid=[{'max_depth': [3, 5, 10],\n",
       "                          'max_features': ['sqrt', None, 'log2'],\n",
       "                          'min_samples_leaf': [1, 2],\n",
       "                          'min_samples_split': [2, 3, 4],\n",
       "                          'n_estimators': [100, 10]}])"
      ]
     },
     "execution_count": 544,
     "metadata": {},
     "output_type": "execute_result"
    }
   ],
   "source": [
    "grid.fit(X_train_1, y_train_1)"
   ]
  },
  {
   "cell_type": "code",
   "execution_count": 545,
   "metadata": {},
   "outputs": [
    {
     "name": "stdout",
     "output_type": "stream",
     "text": [
      "RandomForestClassifier(max_depth=3, max_features='log2', random_state=4)\n",
      "              precision    recall  f1-score   support\n",
      "\n",
      "        high       0.92      0.37      0.52        30\n",
      "         low       0.72      0.70      0.71        33\n",
      "      middle       0.00      0.00      0.00         1\n",
      "\n",
      "    accuracy                           0.53        64\n",
      "   macro avg       0.55      0.35      0.41        64\n",
      "weighted avg       0.80      0.53      0.61        64\n",
      "\n",
      "[[11  8 11]\n",
      " [ 1 23  9]\n",
      " [ 0  1  0]]\n"
     ]
    }
   ],
   "source": [
    "best = grid.best_estimator_\n",
    "y_pred = best.predict(X_val_1)\n",
    "y_pred1 = best.predict(X_train_1)\n",
    "\n",
    "print(best)\n",
    "print(classification_report(y_pred, y_val_1))\n",
    "print(confusion_matrix(y_pred, y_val_1))"
   ]
  },
  {
   "cell_type": "markdown",
   "metadata": {},
   "source": [
    "#### Test Data\n",
    "For low-group it gave a precision of 56% and recall of 52%"
   ]
  },
  {
   "cell_type": "code",
   "execution_count": 546,
   "metadata": {},
   "outputs": [
    {
     "name": "stdout",
     "output_type": "stream",
     "text": [
      "              precision    recall  f1-score   support\n",
      "\n",
      "        high       0.78      0.42      0.55        50\n",
      "         low       0.56      0.52      0.54        29\n",
      "      middle       0.00      0.00      0.00         0\n",
      "\n",
      "    accuracy                           0.46        79\n",
      "   macro avg       0.44      0.31      0.36        79\n",
      "weighted avg       0.70      0.46      0.54        79\n",
      "\n",
      "[[21 12 17]\n",
      " [ 6 15  8]\n",
      " [ 0  0  0]]\n"
     ]
    },
    {
     "name": "stderr",
     "output_type": "stream",
     "text": [
      "/Users/ebba/opt/anaconda3/lib/python3.8/site-packages/sklearn/metrics/_classification.py:1221: UndefinedMetricWarning: Recall and F-score are ill-defined and being set to 0.0 in labels with no true samples. Use `zero_division` parameter to control this behavior.\n",
      "  _warn_prf(average, modifier, msg_start, len(result))\n"
     ]
    }
   ],
   "source": [
    "y_pred = best.predict(X_test_1)\n",
    "\n",
    "print(classification_report(y_pred, y_test_1))\n",
    "print(confusion_matrix(y_pred, y_test_1))"
   ]
  },
  {
   "cell_type": "code",
   "execution_count": null,
   "metadata": {},
   "outputs": [],
   "source": []
  },
  {
   "cell_type": "markdown",
   "metadata": {},
   "source": [
    "## Best Model\n",
    "GaussianNB gave the best recall for low-group and will in this case be considered the best model"
   ]
  },
  {
   "cell_type": "code",
   "execution_count": null,
   "metadata": {},
   "outputs": [],
   "source": []
  },
  {
   "cell_type": "code",
   "execution_count": null,
   "metadata": {},
   "outputs": [],
   "source": []
  },
  {
   "cell_type": "markdown",
   "metadata": {},
   "source": [
    "## Exploring result"
   ]
  },
  {
   "cell_type": "code",
   "execution_count": 605,
   "metadata": {},
   "outputs": [
    {
     "data": {
      "text/plain": [
       "array([[3.84440587e-03, 1.10787407e-04, 9.96044807e-01],\n",
       "       [5.27588709e-01, 2.09326648e-01, 2.63084643e-01],\n",
       "       [6.63716000e-17, 1.00000000e+00, 6.58710575e-11],\n",
       "       ...,\n",
       "       [5.44769047e-19, 1.00000000e+00, 5.48654875e-14],\n",
       "       [1.43310392e-03, 1.05176829e-02, 9.88049213e-01],\n",
       "       [6.57950124e-02, 6.61913876e-02, 8.68013600e-01]])"
      ]
     },
     "execution_count": 605,
     "metadata": {},
     "output_type": "execute_result"
    }
   ],
   "source": [
    "#probability for each group for each student\n",
    "model.predict_proba(X)"
   ]
  },
  {
   "cell_type": "code",
   "execution_count": 679,
   "metadata": {},
   "outputs": [],
   "source": [
    "#adding as new column\n",
    "df1['pred'] = model.predict(X)"
   ]
  },
  {
   "cell_type": "code",
   "execution_count": 680,
   "metadata": {},
   "outputs": [
    {
     "data": {
      "text/html": [
       "<div>\n",
       "<style scoped>\n",
       "    .dataframe tbody tr th:only-of-type {\n",
       "        vertical-align: middle;\n",
       "    }\n",
       "\n",
       "    .dataframe tbody tr th {\n",
       "        vertical-align: top;\n",
       "    }\n",
       "\n",
       "    .dataframe thead th {\n",
       "        text-align: right;\n",
       "    }\n",
       "</style>\n",
       "<table border=\"1\" class=\"dataframe\">\n",
       "  <thead>\n",
       "    <tr style=\"text-align: right;\">\n",
       "      <th></th>\n",
       "      <th>school</th>\n",
       "      <th>sex</th>\n",
       "      <th>age</th>\n",
       "      <th>address</th>\n",
       "      <th>famsize</th>\n",
       "      <th>Pstatus</th>\n",
       "      <th>Medu</th>\n",
       "      <th>Fedu</th>\n",
       "      <th>traveltime</th>\n",
       "      <th>studytime</th>\n",
       "      <th>failures</th>\n",
       "      <th>schoolsup</th>\n",
       "      <th>famsup</th>\n",
       "      <th>paid</th>\n",
       "      <th>activities</th>\n",
       "      <th>nursery</th>\n",
       "      <th>higher</th>\n",
       "      <th>internet</th>\n",
       "      <th>romantic</th>\n",
       "      <th>famrel</th>\n",
       "      <th>freetime</th>\n",
       "      <th>goout</th>\n",
       "      <th>Dalc</th>\n",
       "      <th>Walc</th>\n",
       "      <th>health</th>\n",
       "      <th>absences</th>\n",
       "      <th>Mjob_health</th>\n",
       "      <th>Mjob_other</th>\n",
       "      <th>Mjob_services</th>\n",
       "      <th>Mjob_teacher</th>\n",
       "      <th>Fjob_health</th>\n",
       "      <th>Fjob_other</th>\n",
       "      <th>Fjob_services</th>\n",
       "      <th>Fjob_teacher</th>\n",
       "      <th>reason_home</th>\n",
       "      <th>reason_other</th>\n",
       "      <th>reason_reputation</th>\n",
       "      <th>guardian_mother</th>\n",
       "      <th>guardian_other</th>\n",
       "    </tr>\n",
       "  </thead>\n",
       "  <tbody>\n",
       "    <tr>\n",
       "      <th>2</th>\n",
       "      <td>1</td>\n",
       "      <td>0</td>\n",
       "      <td>-1.330954</td>\n",
       "      <td>1</td>\n",
       "      <td>0</td>\n",
       "      <td>1</td>\n",
       "      <td>-1.600009</td>\n",
       "      <td>-1.399970</td>\n",
       "      <td>-0.643249</td>\n",
       "      <td>-0.042286</td>\n",
       "      <td>3.589323</td>\n",
       "      <td>1</td>\n",
       "      <td>0</td>\n",
       "      <td>1</td>\n",
       "      <td>0</td>\n",
       "      <td>1</td>\n",
       "      <td>1</td>\n",
       "      <td>1</td>\n",
       "      <td>0</td>\n",
       "      <td>0.062194</td>\n",
       "      <td>-0.236010</td>\n",
       "      <td>-0.997295</td>\n",
       "      <td>0.583385</td>\n",
       "      <td>0.551100</td>\n",
       "      <td>-0.399289</td>\n",
       "      <td>0.536865</td>\n",
       "      <td>0</td>\n",
       "      <td>0</td>\n",
       "      <td>0</td>\n",
       "      <td>0</td>\n",
       "      <td>0</td>\n",
       "      <td>1</td>\n",
       "      <td>0</td>\n",
       "      <td>0</td>\n",
       "      <td>0</td>\n",
       "      <td>1</td>\n",
       "      <td>0</td>\n",
       "      <td>1</td>\n",
       "      <td>0</td>\n",
       "    </tr>\n",
       "    <tr>\n",
       "      <th>4</th>\n",
       "      <td>1</td>\n",
       "      <td>0</td>\n",
       "      <td>-0.546287</td>\n",
       "      <td>1</td>\n",
       "      <td>1</td>\n",
       "      <td>1</td>\n",
       "      <td>0.229234</td>\n",
       "      <td>0.440257</td>\n",
       "      <td>-0.643249</td>\n",
       "      <td>-0.042286</td>\n",
       "      <td>-0.449944</td>\n",
       "      <td>0</td>\n",
       "      <td>1</td>\n",
       "      <td>1</td>\n",
       "      <td>0</td>\n",
       "      <td>1</td>\n",
       "      <td>1</td>\n",
       "      <td>0</td>\n",
       "      <td>0</td>\n",
       "      <td>0.062194</td>\n",
       "      <td>-0.236010</td>\n",
       "      <td>-0.997295</td>\n",
       "      <td>-0.540699</td>\n",
       "      <td>-0.226345</td>\n",
       "      <td>1.041070</td>\n",
       "      <td>-0.213796</td>\n",
       "      <td>0</td>\n",
       "      <td>1</td>\n",
       "      <td>0</td>\n",
       "      <td>0</td>\n",
       "      <td>0</td>\n",
       "      <td>1</td>\n",
       "      <td>0</td>\n",
       "      <td>0</td>\n",
       "      <td>1</td>\n",
       "      <td>0</td>\n",
       "      <td>0</td>\n",
       "      <td>0</td>\n",
       "      <td>0</td>\n",
       "    </tr>\n",
       "    <tr>\n",
       "      <th>14</th>\n",
       "      <td>1</td>\n",
       "      <td>1</td>\n",
       "      <td>-1.330954</td>\n",
       "      <td>1</td>\n",
       "      <td>1</td>\n",
       "      <td>0</td>\n",
       "      <td>-0.685387</td>\n",
       "      <td>-0.479857</td>\n",
       "      <td>-0.643249</td>\n",
       "      <td>1.150779</td>\n",
       "      <td>-0.449944</td>\n",
       "      <td>0</td>\n",
       "      <td>1</td>\n",
       "      <td>0</td>\n",
       "      <td>0</td>\n",
       "      <td>1</td>\n",
       "      <td>1</td>\n",
       "      <td>1</td>\n",
       "      <td>1</td>\n",
       "      <td>0.062194</td>\n",
       "      <td>1.768808</td>\n",
       "      <td>-0.997295</td>\n",
       "      <td>-0.540699</td>\n",
       "      <td>-1.003789</td>\n",
       "      <td>-0.399289</td>\n",
       "      <td>-0.714236</td>\n",
       "      <td>0</td>\n",
       "      <td>1</td>\n",
       "      <td>0</td>\n",
       "      <td>0</td>\n",
       "      <td>0</td>\n",
       "      <td>1</td>\n",
       "      <td>0</td>\n",
       "      <td>0</td>\n",
       "      <td>1</td>\n",
       "      <td>0</td>\n",
       "      <td>0</td>\n",
       "      <td>0</td>\n",
       "      <td>1</td>\n",
       "    </tr>\n",
       "    <tr>\n",
       "      <th>17</th>\n",
       "      <td>1</td>\n",
       "      <td>0</td>\n",
       "      <td>-0.546287</td>\n",
       "      <td>1</td>\n",
       "      <td>1</td>\n",
       "      <td>1</td>\n",
       "      <td>0.229234</td>\n",
       "      <td>0.440257</td>\n",
       "      <td>2.227751</td>\n",
       "      <td>-0.042286</td>\n",
       "      <td>-0.449944</td>\n",
       "      <td>1</td>\n",
       "      <td>1</td>\n",
       "      <td>0</td>\n",
       "      <td>1</td>\n",
       "      <td>1</td>\n",
       "      <td>1</td>\n",
       "      <td>0</td>\n",
       "      <td>0</td>\n",
       "      <td>1.178860</td>\n",
       "      <td>-0.236010</td>\n",
       "      <td>-0.997295</td>\n",
       "      <td>-0.540699</td>\n",
       "      <td>-1.003789</td>\n",
       "      <td>0.320890</td>\n",
       "      <td>-0.213796</td>\n",
       "      <td>0</td>\n",
       "      <td>1</td>\n",
       "      <td>0</td>\n",
       "      <td>0</td>\n",
       "      <td>0</td>\n",
       "      <td>1</td>\n",
       "      <td>0</td>\n",
       "      <td>0</td>\n",
       "      <td>0</td>\n",
       "      <td>0</td>\n",
       "      <td>1</td>\n",
       "      <td>1</td>\n",
       "      <td>0</td>\n",
       "    </tr>\n",
       "    <tr>\n",
       "      <th>18</th>\n",
       "      <td>1</td>\n",
       "      <td>1</td>\n",
       "      <td>0.238380</td>\n",
       "      <td>1</td>\n",
       "      <td>1</td>\n",
       "      <td>1</td>\n",
       "      <td>0.229234</td>\n",
       "      <td>-0.479857</td>\n",
       "      <td>-0.643249</td>\n",
       "      <td>-1.235351</td>\n",
       "      <td>3.589323</td>\n",
       "      <td>0</td>\n",
       "      <td>1</td>\n",
       "      <td>0</td>\n",
       "      <td>1</td>\n",
       "      <td>1</td>\n",
       "      <td>1</td>\n",
       "      <td>1</td>\n",
       "      <td>0</td>\n",
       "      <td>1.178860</td>\n",
       "      <td>1.768808</td>\n",
       "      <td>1.700867</td>\n",
       "      <td>0.583385</td>\n",
       "      <td>1.328545</td>\n",
       "      <td>1.041070</td>\n",
       "      <td>1.287526</td>\n",
       "      <td>0</td>\n",
       "      <td>0</td>\n",
       "      <td>1</td>\n",
       "      <td>0</td>\n",
       "      <td>0</td>\n",
       "      <td>0</td>\n",
       "      <td>1</td>\n",
       "      <td>0</td>\n",
       "      <td>0</td>\n",
       "      <td>0</td>\n",
       "      <td>0</td>\n",
       "      <td>1</td>\n",
       "      <td>0</td>\n",
       "    </tr>\n",
       "    <tr>\n",
       "      <th>...</th>\n",
       "      <td>...</td>\n",
       "      <td>...</td>\n",
       "      <td>...</td>\n",
       "      <td>...</td>\n",
       "      <td>...</td>\n",
       "      <td>...</td>\n",
       "      <td>...</td>\n",
       "      <td>...</td>\n",
       "      <td>...</td>\n",
       "      <td>...</td>\n",
       "      <td>...</td>\n",
       "      <td>...</td>\n",
       "      <td>...</td>\n",
       "      <td>...</td>\n",
       "      <td>...</td>\n",
       "      <td>...</td>\n",
       "      <td>...</td>\n",
       "      <td>...</td>\n",
       "      <td>...</td>\n",
       "      <td>...</td>\n",
       "      <td>...</td>\n",
       "      <td>...</td>\n",
       "      <td>...</td>\n",
       "      <td>...</td>\n",
       "      <td>...</td>\n",
       "      <td>...</td>\n",
       "      <td>...</td>\n",
       "      <td>...</td>\n",
       "      <td>...</td>\n",
       "      <td>...</td>\n",
       "      <td>...</td>\n",
       "      <td>...</td>\n",
       "      <td>...</td>\n",
       "      <td>...</td>\n",
       "      <td>...</td>\n",
       "      <td>...</td>\n",
       "      <td>...</td>\n",
       "      <td>...</td>\n",
       "      <td>...</td>\n",
       "    </tr>\n",
       "    <tr>\n",
       "      <th>370</th>\n",
       "      <td>0</td>\n",
       "      <td>0</td>\n",
       "      <td>1.807713</td>\n",
       "      <td>1</td>\n",
       "      <td>0</td>\n",
       "      <td>1</td>\n",
       "      <td>0.229234</td>\n",
       "      <td>-0.479857</td>\n",
       "      <td>0.792251</td>\n",
       "      <td>-0.042286</td>\n",
       "      <td>2.242901</td>\n",
       "      <td>0</td>\n",
       "      <td>0</td>\n",
       "      <td>0</td>\n",
       "      <td>1</td>\n",
       "      <td>1</td>\n",
       "      <td>1</td>\n",
       "      <td>0</td>\n",
       "      <td>1</td>\n",
       "      <td>-1.054472</td>\n",
       "      <td>-1.238419</td>\n",
       "      <td>-0.997295</td>\n",
       "      <td>-0.540699</td>\n",
       "      <td>-1.003789</td>\n",
       "      <td>-0.399289</td>\n",
       "      <td>-0.213796</td>\n",
       "      <td>0</td>\n",
       "      <td>0</td>\n",
       "      <td>1</td>\n",
       "      <td>0</td>\n",
       "      <td>0</td>\n",
       "      <td>0</td>\n",
       "      <td>1</td>\n",
       "      <td>0</td>\n",
       "      <td>1</td>\n",
       "      <td>0</td>\n",
       "      <td>0</td>\n",
       "      <td>0</td>\n",
       "      <td>1</td>\n",
       "    </tr>\n",
       "    <tr>\n",
       "      <th>376</th>\n",
       "      <td>0</td>\n",
       "      <td>0</td>\n",
       "      <td>2.592380</td>\n",
       "      <td>1</td>\n",
       "      <td>1</td>\n",
       "      <td>1</td>\n",
       "      <td>1.143856</td>\n",
       "      <td>-0.479857</td>\n",
       "      <td>0.792251</td>\n",
       "      <td>1.150779</td>\n",
       "      <td>2.242901</td>\n",
       "      <td>0</td>\n",
       "      <td>1</td>\n",
       "      <td>1</td>\n",
       "      <td>0</td>\n",
       "      <td>0</td>\n",
       "      <td>1</td>\n",
       "      <td>1</td>\n",
       "      <td>1</td>\n",
       "      <td>1.178860</td>\n",
       "      <td>0.766399</td>\n",
       "      <td>-0.097908</td>\n",
       "      <td>-0.540699</td>\n",
       "      <td>-1.003789</td>\n",
       "      <td>-0.399289</td>\n",
       "      <td>-0.213796</td>\n",
       "      <td>1</td>\n",
       "      <td>0</td>\n",
       "      <td>0</td>\n",
       "      <td>0</td>\n",
       "      <td>0</td>\n",
       "      <td>1</td>\n",
       "      <td>0</td>\n",
       "      <td>0</td>\n",
       "      <td>0</td>\n",
       "      <td>0</td>\n",
       "      <td>0</td>\n",
       "      <td>0</td>\n",
       "      <td>1</td>\n",
       "    </tr>\n",
       "    <tr>\n",
       "      <th>389</th>\n",
       "      <td>0</td>\n",
       "      <td>0</td>\n",
       "      <td>1.023046</td>\n",
       "      <td>1</td>\n",
       "      <td>1</td>\n",
       "      <td>1</td>\n",
       "      <td>-1.600009</td>\n",
       "      <td>-1.399970</td>\n",
       "      <td>0.792251</td>\n",
       "      <td>-0.042286</td>\n",
       "      <td>0.896479</td>\n",
       "      <td>0</td>\n",
       "      <td>0</td>\n",
       "      <td>0</td>\n",
       "      <td>1</td>\n",
       "      <td>1</td>\n",
       "      <td>1</td>\n",
       "      <td>0</td>\n",
       "      <td>0</td>\n",
       "      <td>-3.287804</td>\n",
       "      <td>-2.240828</td>\n",
       "      <td>-1.896683</td>\n",
       "      <td>-0.540699</td>\n",
       "      <td>-1.003789</td>\n",
       "      <td>1.041070</td>\n",
       "      <td>-0.714236</td>\n",
       "      <td>0</td>\n",
       "      <td>1</td>\n",
       "      <td>0</td>\n",
       "      <td>0</td>\n",
       "      <td>0</td>\n",
       "      <td>1</td>\n",
       "      <td>0</td>\n",
       "      <td>0</td>\n",
       "      <td>0</td>\n",
       "      <td>0</td>\n",
       "      <td>0</td>\n",
       "      <td>1</td>\n",
       "      <td>0</td>\n",
       "    </tr>\n",
       "    <tr>\n",
       "      <th>390</th>\n",
       "      <td>0</td>\n",
       "      <td>1</td>\n",
       "      <td>2.592380</td>\n",
       "      <td>1</td>\n",
       "      <td>0</td>\n",
       "      <td>0</td>\n",
       "      <td>-0.685387</td>\n",
       "      <td>-0.479857</td>\n",
       "      <td>-0.643249</td>\n",
       "      <td>-0.042286</td>\n",
       "      <td>2.242901</td>\n",
       "      <td>0</td>\n",
       "      <td>1</td>\n",
       "      <td>1</td>\n",
       "      <td>0</td>\n",
       "      <td>1</td>\n",
       "      <td>1</td>\n",
       "      <td>0</td>\n",
       "      <td>0</td>\n",
       "      <td>1.178860</td>\n",
       "      <td>1.768808</td>\n",
       "      <td>0.801479</td>\n",
       "      <td>2.831553</td>\n",
       "      <td>2.105989</td>\n",
       "      <td>0.320890</td>\n",
       "      <td>0.661975</td>\n",
       "      <td>0</td>\n",
       "      <td>0</td>\n",
       "      <td>1</td>\n",
       "      <td>0</td>\n",
       "      <td>0</td>\n",
       "      <td>0</td>\n",
       "      <td>1</td>\n",
       "      <td>0</td>\n",
       "      <td>0</td>\n",
       "      <td>0</td>\n",
       "      <td>0</td>\n",
       "      <td>0</td>\n",
       "      <td>1</td>\n",
       "    </tr>\n",
       "    <tr>\n",
       "      <th>392</th>\n",
       "      <td>0</td>\n",
       "      <td>1</td>\n",
       "      <td>3.377047</td>\n",
       "      <td>0</td>\n",
       "      <td>1</td>\n",
       "      <td>1</td>\n",
       "      <td>-1.600009</td>\n",
       "      <td>-1.399970</td>\n",
       "      <td>-0.643249</td>\n",
       "      <td>-1.235351</td>\n",
       "      <td>3.589323</td>\n",
       "      <td>0</td>\n",
       "      <td>0</td>\n",
       "      <td>0</td>\n",
       "      <td>0</td>\n",
       "      <td>0</td>\n",
       "      <td>1</td>\n",
       "      <td>0</td>\n",
       "      <td>0</td>\n",
       "      <td>1.178860</td>\n",
       "      <td>1.768808</td>\n",
       "      <td>-0.097908</td>\n",
       "      <td>1.707469</td>\n",
       "      <td>0.551100</td>\n",
       "      <td>-0.399289</td>\n",
       "      <td>-0.338906</td>\n",
       "      <td>0</td>\n",
       "      <td>1</td>\n",
       "      <td>0</td>\n",
       "      <td>0</td>\n",
       "      <td>0</td>\n",
       "      <td>1</td>\n",
       "      <td>0</td>\n",
       "      <td>0</td>\n",
       "      <td>0</td>\n",
       "      <td>0</td>\n",
       "      <td>0</td>\n",
       "      <td>0</td>\n",
       "      <td>1</td>\n",
       "    </tr>\n",
       "  </tbody>\n",
       "</table>\n",
       "<p>106 rows × 39 columns</p>\n",
       "</div>"
      ],
      "text/plain": [
       "     school  sex       age  address  famsize  Pstatus      Medu      Fedu  \\\n",
       "2         1    0 -1.330954        1        0        1 -1.600009 -1.399970   \n",
       "4         1    0 -0.546287        1        1        1  0.229234  0.440257   \n",
       "14        1    1 -1.330954        1        1        0 -0.685387 -0.479857   \n",
       "17        1    0 -0.546287        1        1        1  0.229234  0.440257   \n",
       "18        1    1  0.238380        1        1        1  0.229234 -0.479857   \n",
       "..      ...  ...       ...      ...      ...      ...       ...       ...   \n",
       "370       0    0  1.807713        1        0        1  0.229234 -0.479857   \n",
       "376       0    0  2.592380        1        1        1  1.143856 -0.479857   \n",
       "389       0    0  1.023046        1        1        1 -1.600009 -1.399970   \n",
       "390       0    1  2.592380        1        0        0 -0.685387 -0.479857   \n",
       "392       0    1  3.377047        0        1        1 -1.600009 -1.399970   \n",
       "\n",
       "     traveltime  studytime  failures  schoolsup  famsup  paid  activities  \\\n",
       "2     -0.643249  -0.042286  3.589323          1       0     1           0   \n",
       "4     -0.643249  -0.042286 -0.449944          0       1     1           0   \n",
       "14    -0.643249   1.150779 -0.449944          0       1     0           0   \n",
       "17     2.227751  -0.042286 -0.449944          1       1     0           1   \n",
       "18    -0.643249  -1.235351  3.589323          0       1     0           1   \n",
       "..          ...        ...       ...        ...     ...   ...         ...   \n",
       "370    0.792251  -0.042286  2.242901          0       0     0           1   \n",
       "376    0.792251   1.150779  2.242901          0       1     1           0   \n",
       "389    0.792251  -0.042286  0.896479          0       0     0           1   \n",
       "390   -0.643249  -0.042286  2.242901          0       1     1           0   \n",
       "392   -0.643249  -1.235351  3.589323          0       0     0           0   \n",
       "\n",
       "     nursery  higher  internet  romantic    famrel  freetime     goout  \\\n",
       "2          1       1         1         0  0.062194 -0.236010 -0.997295   \n",
       "4          1       1         0         0  0.062194 -0.236010 -0.997295   \n",
       "14         1       1         1         1  0.062194  1.768808 -0.997295   \n",
       "17         1       1         0         0  1.178860 -0.236010 -0.997295   \n",
       "18         1       1         1         0  1.178860  1.768808  1.700867   \n",
       "..       ...     ...       ...       ...       ...       ...       ...   \n",
       "370        1       1         0         1 -1.054472 -1.238419 -0.997295   \n",
       "376        0       1         1         1  1.178860  0.766399 -0.097908   \n",
       "389        1       1         0         0 -3.287804 -2.240828 -1.896683   \n",
       "390        1       1         0         0  1.178860  1.768808  0.801479   \n",
       "392        0       1         0         0  1.178860  1.768808 -0.097908   \n",
       "\n",
       "         Dalc      Walc    health  absences  Mjob_health  Mjob_other  \\\n",
       "2    0.583385  0.551100 -0.399289  0.536865            0           0   \n",
       "4   -0.540699 -0.226345  1.041070 -0.213796            0           1   \n",
       "14  -0.540699 -1.003789 -0.399289 -0.714236            0           1   \n",
       "17  -0.540699 -1.003789  0.320890 -0.213796            0           1   \n",
       "18   0.583385  1.328545  1.041070  1.287526            0           0   \n",
       "..        ...       ...       ...       ...          ...         ...   \n",
       "370 -0.540699 -1.003789 -0.399289 -0.213796            0           0   \n",
       "376 -0.540699 -1.003789 -0.399289 -0.213796            1           0   \n",
       "389 -0.540699 -1.003789  1.041070 -0.714236            0           1   \n",
       "390  2.831553  2.105989  0.320890  0.661975            0           0   \n",
       "392  1.707469  0.551100 -0.399289 -0.338906            0           1   \n",
       "\n",
       "     Mjob_services  Mjob_teacher  Fjob_health  Fjob_other  Fjob_services  \\\n",
       "2                0             0            0           1              0   \n",
       "4                0             0            0           1              0   \n",
       "14               0             0            0           1              0   \n",
       "17               0             0            0           1              0   \n",
       "18               1             0            0           0              1   \n",
       "..             ...           ...          ...         ...            ...   \n",
       "370              1             0            0           0              1   \n",
       "376              0             0            0           1              0   \n",
       "389              0             0            0           1              0   \n",
       "390              1             0            0           0              1   \n",
       "392              0             0            0           1              0   \n",
       "\n",
       "     Fjob_teacher  reason_home  reason_other  reason_reputation  \\\n",
       "2               0            0             1                  0   \n",
       "4               0            1             0                  0   \n",
       "14              0            1             0                  0   \n",
       "17              0            0             0                  1   \n",
       "18              0            0             0                  0   \n",
       "..            ...          ...           ...                ...   \n",
       "370             0            1             0                  0   \n",
       "376             0            0             0                  0   \n",
       "389             0            0             0                  0   \n",
       "390             0            0             0                  0   \n",
       "392             0            0             0                  0   \n",
       "\n",
       "     guardian_mother  guardian_other  \n",
       "2                  1               0  \n",
       "4                  0               0  \n",
       "14                 0               1  \n",
       "17                 1               0  \n",
       "18                 1               0  \n",
       "..               ...             ...  \n",
       "370                0               1  \n",
       "376                0               1  \n",
       "389                1               0  \n",
       "390                0               1  \n",
       "392                0               1  \n",
       "\n",
       "[106 rows x 39 columns]"
      ]
     },
     "execution_count": 680,
     "metadata": {},
     "output_type": "execute_result"
    }
   ],
   "source": [
    "#getting only group with predicted low grades\n",
    "res = df1.loc[df1.pred=='low'].copy()\n",
    "res.drop(columns=['grade_group', 'pred', 'G3', 'G1', 'G2', 'gtot'], inplace=True)\n",
    "res"
   ]
  },
  {
   "cell_type": "code",
   "execution_count": 682,
   "metadata": {},
   "outputs": [
    {
     "data": {
      "text/plain": [
       "array([[6.63716000e-17, 1.00000000e+00, 6.58710575e-11],\n",
       "       [2.71070214e-01, 5.57645302e-01, 1.71284484e-01],\n",
       "       [4.34816304e-01, 5.61982154e-01, 3.20154248e-03],\n",
       "       [2.65638427e-05, 8.77564757e-01, 1.22408679e-01],\n",
       "       [9.30580209e-15, 1.00000000e+00, 7.47419004e-11],\n",
       "       [6.51051613e-07, 9.99570180e-01, 4.29168805e-04],\n",
       "       [1.23079978e-02, 5.73992496e-01, 4.13699507e-01],\n",
       "       [1.30975129e-04, 7.60049347e-01, 2.39819678e-01],\n",
       "       [4.18417090e-05, 9.73543958e-01, 2.64141998e-02],\n",
       "       [7.36358161e-06, 9.35206480e-01, 6.47861563e-02],\n",
       "       [1.88989375e-03, 7.29767424e-01, 2.68342682e-01],\n",
       "       [7.37011746e-04, 7.03707009e-01, 2.95555979e-01],\n",
       "       [4.33819661e-02, 6.35744699e-01, 3.20873335e-01],\n",
       "       [1.17556756e-11, 9.99984826e-01, 1.51738837e-05],\n",
       "       [3.94150892e-18, 9.94770564e-01, 5.22943596e-03],\n",
       "       [3.38452544e-35, 1.00000000e+00, 5.29891303e-14],\n",
       "       [1.77228824e-01, 4.91956096e-01, 3.30815081e-01],\n",
       "       [8.87677261e-05, 9.99633099e-01, 2.78133250e-04],\n",
       "       [4.92456121e-05, 8.99324204e-01, 1.00626550e-01],\n",
       "       [5.24861132e-06, 9.44859856e-01, 5.51348959e-02],\n",
       "       [1.24380799e-01, 6.11800156e-01, 2.63819045e-01],\n",
       "       [6.19896306e-07, 8.19236387e-01, 1.80762993e-01],\n",
       "       [1.90522366e-04, 8.61143603e-01, 1.38665875e-01],\n",
       "       [1.10417153e-05, 9.47133965e-01, 5.28549931e-02],\n",
       "       [5.82059315e-05, 9.50948010e-01, 4.89937843e-02],\n",
       "       [3.13941407e-03, 8.27798250e-01, 1.69062336e-01],\n",
       "       [2.85798762e-33, 1.00000000e+00, 2.99319219e-16],\n",
       "       [4.56338146e-06, 9.99926850e-01, 6.85862242e-05],\n",
       "       [5.75628499e-02, 5.28581430e-01, 4.13855720e-01],\n",
       "       [6.67886219e-08, 9.99999846e-01, 8.68616118e-08],\n",
       "       [1.23392980e-01, 7.24902946e-01, 1.51704074e-01],\n",
       "       [7.29861255e-05, 9.99682779e-01, 2.44235115e-04],\n",
       "       [8.70075050e-16, 1.00000000e+00, 3.37987916e-12],\n",
       "       [7.13079379e-13, 1.00000000e+00, 4.77882236e-12],\n",
       "       [1.23516291e-16, 1.00000000e+00, 1.75169069e-11],\n",
       "       [2.30840105e-31, 1.00000000e+00, 5.99434145e-13],\n",
       "       [3.02349362e-02, 6.91277320e-01, 2.78487744e-01],\n",
       "       [8.96516038e-07, 9.99997001e-01, 2.10233247e-06],\n",
       "       [2.81613957e-30, 1.00000000e+00, 3.23764178e-13],\n",
       "       [1.72563318e-18, 1.00000000e+00, 2.12768615e-12],\n",
       "       [1.66314230e-22, 9.99998438e-01, 1.56236095e-06],\n",
       "       [2.47415788e-11, 9.99985097e-01, 1.49026066e-05],\n",
       "       [1.29510028e-02, 9.28920287e-01, 5.81287102e-02],\n",
       "       [7.92950913e-15, 8.53924679e-01, 1.46075321e-01],\n",
       "       [1.79969478e-34, 1.00000000e+00, 2.00352423e-13],\n",
       "       [1.24580535e-17, 9.86645813e-01, 1.33541875e-02],\n",
       "       [7.25705799e-16, 9.16669036e-01, 8.33309637e-02],\n",
       "       [1.33125317e-01, 4.89483404e-01, 3.77391280e-01],\n",
       "       [1.40995452e-07, 9.99952819e-01, 4.70398803e-05],\n",
       "       [4.18929568e-15, 1.00000000e+00, 2.51975218e-11],\n",
       "       [1.83728329e-14, 9.97700551e-01, 2.29944879e-03],\n",
       "       [2.18872689e-04, 8.17130107e-01, 1.82651021e-01],\n",
       "       [1.23898879e-01, 5.74395833e-01, 3.01705289e-01],\n",
       "       [7.42391658e-02, 5.51496624e-01, 3.74264211e-01],\n",
       "       [1.15373694e-04, 6.73138163e-01, 3.26746464e-01],\n",
       "       [3.16079428e-14, 1.00000000e+00, 3.55897804e-11],\n",
       "       [5.39831815e-02, 7.71436629e-01, 1.74580189e-01],\n",
       "       [9.02957553e-04, 6.99759084e-01, 2.99337959e-01],\n",
       "       [2.18252089e-02, 8.03142690e-01, 1.75032101e-01],\n",
       "       [7.02310368e-08, 9.99965092e-01, 3.48377522e-05],\n",
       "       [1.48281448e-01, 6.50672074e-01, 2.01046478e-01],\n",
       "       [4.35197152e-02, 9.23453815e-01, 3.30264697e-02],\n",
       "       [9.38466592e-03, 9.07548651e-01, 8.30666829e-02],\n",
       "       [5.04397965e-02, 5.63448301e-01, 3.86111902e-01],\n",
       "       [2.99780355e-02, 6.17699007e-01, 3.52322957e-01],\n",
       "       [1.19921976e-16, 9.60629823e-01, 3.93701766e-02],\n",
       "       [5.09500336e-02, 9.39940392e-01, 9.10957419e-03],\n",
       "       [4.26373237e-30, 9.99999998e-01, 1.66834333e-09],\n",
       "       [9.05721382e-02, 6.09570005e-01, 2.99857857e-01],\n",
       "       [4.31573909e-17, 9.85395558e-01, 1.46044420e-02],\n",
       "       [4.38532042e-05, 9.92538374e-01, 7.41777247e-03],\n",
       "       [5.03937099e-17, 9.86308261e-01, 1.36917395e-02],\n",
       "       [4.15735054e-09, 9.99999751e-01, 2.44461282e-07],\n",
       "       [3.84301246e-02, 8.15051600e-01, 1.46518275e-01],\n",
       "       [9.70372286e-45, 9.99998476e-01, 1.52407237e-06],\n",
       "       [3.58980299e-05, 8.59525514e-01, 1.40438588e-01],\n",
       "       [6.10971362e-02, 9.36828445e-01, 2.07441861e-03],\n",
       "       [1.45721833e-04, 9.99688808e-01, 1.65469755e-04],\n",
       "       [2.42979896e-01, 7.55685577e-01, 1.33452711e-03],\n",
       "       [8.65671224e-08, 9.99591695e-01, 4.08218242e-04],\n",
       "       [1.20055731e-01, 7.17335203e-01, 1.62609066e-01],\n",
       "       [1.25723111e-07, 9.99895807e-01, 1.04067152e-04],\n",
       "       [2.42141941e-03, 9.96652297e-01, 9.26283162e-04],\n",
       "       [1.02797958e-17, 9.99220509e-01, 7.79491253e-04],\n",
       "       [1.46397803e-02, 9.79626617e-01, 5.73360249e-03],\n",
       "       [7.43158958e-04, 9.98603327e-01, 6.53514464e-04],\n",
       "       [5.87924655e-06, 9.99994120e-01, 6.01560126e-10],\n",
       "       [3.70199905e-10, 9.99937711e-01, 6.22888289e-05],\n",
       "       [8.80851369e-02, 6.27878634e-01, 2.84036229e-01],\n",
       "       [1.06686693e-01, 8.89346617e-01, 3.96669008e-03],\n",
       "       [2.56701653e-03, 9.96847532e-01, 5.85451344e-04],\n",
       "       [3.00083402e-01, 3.54321591e-01, 3.45595007e-01],\n",
       "       [2.81797011e-01, 4.33047848e-01, 2.85155142e-01],\n",
       "       [2.72993318e-02, 9.69928029e-01, 2.77263907e-03],\n",
       "       [1.52795172e-01, 7.49126698e-01, 9.80781298e-02],\n",
       "       [5.76113999e-19, 1.00000000e+00, 2.47798011e-13],\n",
       "       [3.42839670e-17, 9.73954719e-01, 2.60452815e-02],\n",
       "       [2.59087281e-06, 9.99301471e-01, 6.95938124e-04],\n",
       "       [7.81515317e-03, 6.42874672e-01, 3.49310175e-01],\n",
       "       [2.64302782e-17, 9.46450894e-01, 5.35491064e-02],\n",
       "       [8.82999855e-04, 7.91807398e-01, 2.07309603e-01],\n",
       "       [1.37227600e-08, 9.99999755e-01, 2.31594869e-07],\n",
       "       [7.14165582e-07, 9.99999220e-01, 6.57090638e-08],\n",
       "       [6.50393319e-04, 8.20447232e-01, 1.78902375e-01],\n",
       "       [1.19553457e-08, 9.99994877e-01, 5.11057037e-06],\n",
       "       [5.44769047e-19, 1.00000000e+00, 5.48654875e-14]])"
      ]
     },
     "execution_count": 682,
     "metadata": {},
     "output_type": "execute_result"
    }
   ],
   "source": [
    "#the middle column is the probability for the student ending up in low-group\n",
    "model.predict_proba(res)"
   ]
  },
  {
   "cell_type": "code",
   "execution_count": 683,
   "metadata": {},
   "outputs": [],
   "source": [
    "#creating new column with only probability of student being in low-group\n",
    "res['prob'] = model.predict_proba(res)[:,1]"
   ]
  },
  {
   "cell_type": "code",
   "execution_count": 685,
   "metadata": {},
   "outputs": [
    {
     "data": {
      "text/html": [
       "<div>\n",
       "<style scoped>\n",
       "    .dataframe tbody tr th:only-of-type {\n",
       "        vertical-align: middle;\n",
       "    }\n",
       "\n",
       "    .dataframe tbody tr th {\n",
       "        vertical-align: top;\n",
       "    }\n",
       "\n",
       "    .dataframe thead th {\n",
       "        text-align: right;\n",
       "    }\n",
       "</style>\n",
       "<table border=\"1\" class=\"dataframe\">\n",
       "  <thead>\n",
       "    <tr style=\"text-align: right;\">\n",
       "      <th></th>\n",
       "      <th>school</th>\n",
       "      <th>sex</th>\n",
       "      <th>age</th>\n",
       "      <th>address</th>\n",
       "      <th>famsize</th>\n",
       "      <th>Pstatus</th>\n",
       "      <th>Medu</th>\n",
       "      <th>Fedu</th>\n",
       "      <th>traveltime</th>\n",
       "      <th>studytime</th>\n",
       "      <th>failures</th>\n",
       "      <th>schoolsup</th>\n",
       "      <th>famsup</th>\n",
       "      <th>paid</th>\n",
       "      <th>activities</th>\n",
       "      <th>nursery</th>\n",
       "      <th>higher</th>\n",
       "      <th>internet</th>\n",
       "      <th>romantic</th>\n",
       "      <th>famrel</th>\n",
       "      <th>freetime</th>\n",
       "      <th>goout</th>\n",
       "      <th>Dalc</th>\n",
       "      <th>Walc</th>\n",
       "      <th>health</th>\n",
       "      <th>absences</th>\n",
       "      <th>Mjob_health</th>\n",
       "      <th>Mjob_other</th>\n",
       "      <th>Mjob_services</th>\n",
       "      <th>Mjob_teacher</th>\n",
       "      <th>Fjob_health</th>\n",
       "      <th>Fjob_other</th>\n",
       "      <th>Fjob_services</th>\n",
       "      <th>Fjob_teacher</th>\n",
       "      <th>reason_home</th>\n",
       "      <th>reason_other</th>\n",
       "      <th>reason_reputation</th>\n",
       "      <th>guardian_mother</th>\n",
       "      <th>guardian_other</th>\n",
       "      <th>prob</th>\n",
       "    </tr>\n",
       "  </thead>\n",
       "  <tbody>\n",
       "    <tr>\n",
       "      <th>count</th>\n",
       "      <td>76.000000</td>\n",
       "      <td>76.000000</td>\n",
       "      <td>76.000000</td>\n",
       "      <td>76.00000</td>\n",
       "      <td>76.000000</td>\n",
       "      <td>76.000000</td>\n",
       "      <td>76.000000</td>\n",
       "      <td>76.000000</td>\n",
       "      <td>76.000000</td>\n",
       "      <td>76.000000</td>\n",
       "      <td>76.000000</td>\n",
       "      <td>76.000000</td>\n",
       "      <td>76.000000</td>\n",
       "      <td>76.000000</td>\n",
       "      <td>76.000000</td>\n",
       "      <td>76.000000</td>\n",
       "      <td>76.000000</td>\n",
       "      <td>76.000000</td>\n",
       "      <td>76.000000</td>\n",
       "      <td>76.000000</td>\n",
       "      <td>76.000000</td>\n",
       "      <td>76.000000</td>\n",
       "      <td>76.000000</td>\n",
       "      <td>76.000000</td>\n",
       "      <td>76.000000</td>\n",
       "      <td>76.000000</td>\n",
       "      <td>76.000000</td>\n",
       "      <td>76.000000</td>\n",
       "      <td>76.000000</td>\n",
       "      <td>76.000000</td>\n",
       "      <td>76.000000</td>\n",
       "      <td>76.000000</td>\n",
       "      <td>76.000000</td>\n",
       "      <td>76.0</td>\n",
       "      <td>76.000000</td>\n",
       "      <td>76.000000</td>\n",
       "      <td>76.00000</td>\n",
       "      <td>76.000000</td>\n",
       "      <td>76.000000</td>\n",
       "      <td>76.000000</td>\n",
       "    </tr>\n",
       "    <tr>\n",
       "      <th>mean</th>\n",
       "      <td>0.881579</td>\n",
       "      <td>0.407895</td>\n",
       "      <td>0.527467</td>\n",
       "      <td>0.75000</td>\n",
       "      <td>0.710526</td>\n",
       "      <td>0.907895</td>\n",
       "      <td>-0.553008</td>\n",
       "      <td>-0.540391</td>\n",
       "      <td>0.263382</td>\n",
       "      <td>-0.214966</td>\n",
       "      <td>1.427961</td>\n",
       "      <td>0.223684</td>\n",
       "      <td>0.565789</td>\n",
       "      <td>0.276316</td>\n",
       "      <td>0.486842</td>\n",
       "      <td>0.697368</td>\n",
       "      <td>0.776316</td>\n",
       "      <td>0.776316</td>\n",
       "      <td>0.434211</td>\n",
       "      <td>-0.025964</td>\n",
       "      <td>0.027782</td>\n",
       "      <td>0.174275</td>\n",
       "      <td>0.065715</td>\n",
       "      <td>0.111230</td>\n",
       "      <td>-0.058152</td>\n",
       "      <td>0.502295</td>\n",
       "      <td>0.026316</td>\n",
       "      <td>0.486842</td>\n",
       "      <td>0.276316</td>\n",
       "      <td>0.013158</td>\n",
       "      <td>0.013158</td>\n",
       "      <td>0.644737</td>\n",
       "      <td>0.302632</td>\n",
       "      <td>0.0</td>\n",
       "      <td>0.368421</td>\n",
       "      <td>0.052632</td>\n",
       "      <td>0.25000</td>\n",
       "      <td>0.526316</td>\n",
       "      <td>0.328947</td>\n",
       "      <td>0.963303</td>\n",
       "    </tr>\n",
       "    <tr>\n",
       "      <th>std</th>\n",
       "      <td>0.325253</td>\n",
       "      <td>0.494709</td>\n",
       "      <td>1.254434</td>\n",
       "      <td>0.43589</td>\n",
       "      <td>0.456532</td>\n",
       "      <td>0.291096</td>\n",
       "      <td>0.892450</td>\n",
       "      <td>0.841094</td>\n",
       "      <td>1.120355</td>\n",
       "      <td>0.796266</td>\n",
       "      <td>1.443106</td>\n",
       "      <td>0.419482</td>\n",
       "      <td>0.498946</td>\n",
       "      <td>0.450146</td>\n",
       "      <td>0.503148</td>\n",
       "      <td>0.462450</td>\n",
       "      <td>0.419482</td>\n",
       "      <td>0.419482</td>\n",
       "      <td>0.498946</td>\n",
       "      <td>1.011400</td>\n",
       "      <td>1.090351</td>\n",
       "      <td>1.099263</td>\n",
       "      <td>0.888729</td>\n",
       "      <td>1.064734</td>\n",
       "      <td>0.944314</td>\n",
       "      <td>1.740257</td>\n",
       "      <td>0.161136</td>\n",
       "      <td>0.503148</td>\n",
       "      <td>0.450146</td>\n",
       "      <td>0.114708</td>\n",
       "      <td>0.114708</td>\n",
       "      <td>0.481773</td>\n",
       "      <td>0.462450</td>\n",
       "      <td>0.0</td>\n",
       "      <td>0.485582</td>\n",
       "      <td>0.224781</td>\n",
       "      <td>0.43589</td>\n",
       "      <td>0.502625</td>\n",
       "      <td>0.472953</td>\n",
       "      <td>0.057804</td>\n",
       "    </tr>\n",
       "    <tr>\n",
       "      <th>min</th>\n",
       "      <td>0.000000</td>\n",
       "      <td>0.000000</td>\n",
       "      <td>-1.330954</td>\n",
       "      <td>0.00000</td>\n",
       "      <td>0.000000</td>\n",
       "      <td>0.000000</td>\n",
       "      <td>-2.514630</td>\n",
       "      <td>-1.399970</td>\n",
       "      <td>-0.643249</td>\n",
       "      <td>-1.235351</td>\n",
       "      <td>-0.449944</td>\n",
       "      <td>0.000000</td>\n",
       "      <td>0.000000</td>\n",
       "      <td>0.000000</td>\n",
       "      <td>0.000000</td>\n",
       "      <td>0.000000</td>\n",
       "      <td>0.000000</td>\n",
       "      <td>0.000000</td>\n",
       "      <td>0.000000</td>\n",
       "      <td>-3.287804</td>\n",
       "      <td>-2.240828</td>\n",
       "      <td>-1.896683</td>\n",
       "      <td>-0.540699</td>\n",
       "      <td>-1.003789</td>\n",
       "      <td>-1.839649</td>\n",
       "      <td>-0.714236</td>\n",
       "      <td>0.000000</td>\n",
       "      <td>0.000000</td>\n",
       "      <td>0.000000</td>\n",
       "      <td>0.000000</td>\n",
       "      <td>0.000000</td>\n",
       "      <td>0.000000</td>\n",
       "      <td>0.000000</td>\n",
       "      <td>0.0</td>\n",
       "      <td>0.000000</td>\n",
       "      <td>0.000000</td>\n",
       "      <td>0.00000</td>\n",
       "      <td>0.000000</td>\n",
       "      <td>0.000000</td>\n",
       "      <td>0.803143</td>\n",
       "    </tr>\n",
       "    <tr>\n",
       "      <th>25%</th>\n",
       "      <td>1.000000</td>\n",
       "      <td>0.000000</td>\n",
       "      <td>-0.546287</td>\n",
       "      <td>0.75000</td>\n",
       "      <td>0.000000</td>\n",
       "      <td>1.000000</td>\n",
       "      <td>-1.600009</td>\n",
       "      <td>-1.399970</td>\n",
       "      <td>-0.643249</td>\n",
       "      <td>-1.235351</td>\n",
       "      <td>0.896479</td>\n",
       "      <td>0.000000</td>\n",
       "      <td>0.000000</td>\n",
       "      <td>0.000000</td>\n",
       "      <td>0.000000</td>\n",
       "      <td>0.000000</td>\n",
       "      <td>1.000000</td>\n",
       "      <td>1.000000</td>\n",
       "      <td>0.000000</td>\n",
       "      <td>0.062194</td>\n",
       "      <td>-0.236010</td>\n",
       "      <td>-0.997295</td>\n",
       "      <td>-0.540699</td>\n",
       "      <td>-1.003789</td>\n",
       "      <td>-0.579334</td>\n",
       "      <td>-0.714236</td>\n",
       "      <td>0.000000</td>\n",
       "      <td>0.000000</td>\n",
       "      <td>0.000000</td>\n",
       "      <td>0.000000</td>\n",
       "      <td>0.000000</td>\n",
       "      <td>0.000000</td>\n",
       "      <td>0.000000</td>\n",
       "      <td>0.0</td>\n",
       "      <td>0.000000</td>\n",
       "      <td>0.000000</td>\n",
       "      <td>0.00000</td>\n",
       "      <td>0.000000</td>\n",
       "      <td>0.000000</td>\n",
       "      <td>0.943630</td>\n",
       "    </tr>\n",
       "    <tr>\n",
       "      <th>50%</th>\n",
       "      <td>1.000000</td>\n",
       "      <td>0.000000</td>\n",
       "      <td>0.630713</td>\n",
       "      <td>1.00000</td>\n",
       "      <td>1.000000</td>\n",
       "      <td>1.000000</td>\n",
       "      <td>-0.685387</td>\n",
       "      <td>-0.479857</td>\n",
       "      <td>-0.643249</td>\n",
       "      <td>-0.042286</td>\n",
       "      <td>0.896479</td>\n",
       "      <td>0.000000</td>\n",
       "      <td>1.000000</td>\n",
       "      <td>0.000000</td>\n",
       "      <td>0.000000</td>\n",
       "      <td>1.000000</td>\n",
       "      <td>1.000000</td>\n",
       "      <td>1.000000</td>\n",
       "      <td>0.000000</td>\n",
       "      <td>0.062194</td>\n",
       "      <td>-0.236010</td>\n",
       "      <td>-0.097908</td>\n",
       "      <td>-0.540699</td>\n",
       "      <td>-0.226345</td>\n",
       "      <td>-0.399289</td>\n",
       "      <td>-0.213796</td>\n",
       "      <td>0.000000</td>\n",
       "      <td>0.000000</td>\n",
       "      <td>0.000000</td>\n",
       "      <td>0.000000</td>\n",
       "      <td>0.000000</td>\n",
       "      <td>1.000000</td>\n",
       "      <td>0.000000</td>\n",
       "      <td>0.0</td>\n",
       "      <td>0.000000</td>\n",
       "      <td>0.000000</td>\n",
       "      <td>0.00000</td>\n",
       "      <td>1.000000</td>\n",
       "      <td>0.000000</td>\n",
       "      <td>0.999261</td>\n",
       "    </tr>\n",
       "    <tr>\n",
       "      <th>75%</th>\n",
       "      <td>1.000000</td>\n",
       "      <td>1.000000</td>\n",
       "      <td>1.807713</td>\n",
       "      <td>1.00000</td>\n",
       "      <td>1.000000</td>\n",
       "      <td>1.000000</td>\n",
       "      <td>0.229234</td>\n",
       "      <td>0.440257</td>\n",
       "      <td>0.792251</td>\n",
       "      <td>-0.042286</td>\n",
       "      <td>2.242901</td>\n",
       "      <td>0.000000</td>\n",
       "      <td>1.000000</td>\n",
       "      <td>1.000000</td>\n",
       "      <td>1.000000</td>\n",
       "      <td>1.000000</td>\n",
       "      <td>1.000000</td>\n",
       "      <td>1.000000</td>\n",
       "      <td>1.000000</td>\n",
       "      <td>0.341361</td>\n",
       "      <td>0.766399</td>\n",
       "      <td>0.801479</td>\n",
       "      <td>0.583385</td>\n",
       "      <td>0.745461</td>\n",
       "      <td>1.041070</td>\n",
       "      <td>1.068583</td>\n",
       "      <td>0.000000</td>\n",
       "      <td>1.000000</td>\n",
       "      <td>1.000000</td>\n",
       "      <td>0.000000</td>\n",
       "      <td>0.000000</td>\n",
       "      <td>1.000000</td>\n",
       "      <td>1.000000</td>\n",
       "      <td>0.0</td>\n",
       "      <td>1.000000</td>\n",
       "      <td>0.000000</td>\n",
       "      <td>0.25000</td>\n",
       "      <td>1.000000</td>\n",
       "      <td>1.000000</td>\n",
       "      <td>0.999999</td>\n",
       "    </tr>\n",
       "    <tr>\n",
       "      <th>max</th>\n",
       "      <td>1.000000</td>\n",
       "      <td>1.000000</td>\n",
       "      <td>4.161713</td>\n",
       "      <td>1.00000</td>\n",
       "      <td>1.000000</td>\n",
       "      <td>1.000000</td>\n",
       "      <td>1.143856</td>\n",
       "      <td>1.360371</td>\n",
       "      <td>3.663251</td>\n",
       "      <td>2.343844</td>\n",
       "      <td>3.589323</td>\n",
       "      <td>1.000000</td>\n",
       "      <td>1.000000</td>\n",
       "      <td>1.000000</td>\n",
       "      <td>1.000000</td>\n",
       "      <td>1.000000</td>\n",
       "      <td>1.000000</td>\n",
       "      <td>1.000000</td>\n",
       "      <td>1.000000</td>\n",
       "      <td>1.178860</td>\n",
       "      <td>1.768808</td>\n",
       "      <td>1.700867</td>\n",
       "      <td>3.955638</td>\n",
       "      <td>2.105989</td>\n",
       "      <td>1.041070</td>\n",
       "      <td>8.669022</td>\n",
       "      <td>1.000000</td>\n",
       "      <td>1.000000</td>\n",
       "      <td>1.000000</td>\n",
       "      <td>1.000000</td>\n",
       "      <td>1.000000</td>\n",
       "      <td>1.000000</td>\n",
       "      <td>1.000000</td>\n",
       "      <td>0.0</td>\n",
       "      <td>1.000000</td>\n",
       "      <td>1.000000</td>\n",
       "      <td>1.00000</td>\n",
       "      <td>1.000000</td>\n",
       "      <td>1.000000</td>\n",
       "      <td>1.000000</td>\n",
       "    </tr>\n",
       "  </tbody>\n",
       "</table>\n",
       "</div>"
      ],
      "text/plain": [
       "          school        sex        age   address    famsize    Pstatus  \\\n",
       "count  76.000000  76.000000  76.000000  76.00000  76.000000  76.000000   \n",
       "mean    0.881579   0.407895   0.527467   0.75000   0.710526   0.907895   \n",
       "std     0.325253   0.494709   1.254434   0.43589   0.456532   0.291096   \n",
       "min     0.000000   0.000000  -1.330954   0.00000   0.000000   0.000000   \n",
       "25%     1.000000   0.000000  -0.546287   0.75000   0.000000   1.000000   \n",
       "50%     1.000000   0.000000   0.630713   1.00000   1.000000   1.000000   \n",
       "75%     1.000000   1.000000   1.807713   1.00000   1.000000   1.000000   \n",
       "max     1.000000   1.000000   4.161713   1.00000   1.000000   1.000000   \n",
       "\n",
       "            Medu       Fedu  traveltime  studytime   failures  schoolsup  \\\n",
       "count  76.000000  76.000000   76.000000  76.000000  76.000000  76.000000   \n",
       "mean   -0.553008  -0.540391    0.263382  -0.214966   1.427961   0.223684   \n",
       "std     0.892450   0.841094    1.120355   0.796266   1.443106   0.419482   \n",
       "min    -2.514630  -1.399970   -0.643249  -1.235351  -0.449944   0.000000   \n",
       "25%    -1.600009  -1.399970   -0.643249  -1.235351   0.896479   0.000000   \n",
       "50%    -0.685387  -0.479857   -0.643249  -0.042286   0.896479   0.000000   \n",
       "75%     0.229234   0.440257    0.792251  -0.042286   2.242901   0.000000   \n",
       "max     1.143856   1.360371    3.663251   2.343844   3.589323   1.000000   \n",
       "\n",
       "          famsup       paid  activities    nursery     higher   internet  \\\n",
       "count  76.000000  76.000000   76.000000  76.000000  76.000000  76.000000   \n",
       "mean    0.565789   0.276316    0.486842   0.697368   0.776316   0.776316   \n",
       "std     0.498946   0.450146    0.503148   0.462450   0.419482   0.419482   \n",
       "min     0.000000   0.000000    0.000000   0.000000   0.000000   0.000000   \n",
       "25%     0.000000   0.000000    0.000000   0.000000   1.000000   1.000000   \n",
       "50%     1.000000   0.000000    0.000000   1.000000   1.000000   1.000000   \n",
       "75%     1.000000   1.000000    1.000000   1.000000   1.000000   1.000000   \n",
       "max     1.000000   1.000000    1.000000   1.000000   1.000000   1.000000   \n",
       "\n",
       "        romantic     famrel   freetime      goout       Dalc       Walc  \\\n",
       "count  76.000000  76.000000  76.000000  76.000000  76.000000  76.000000   \n",
       "mean    0.434211  -0.025964   0.027782   0.174275   0.065715   0.111230   \n",
       "std     0.498946   1.011400   1.090351   1.099263   0.888729   1.064734   \n",
       "min     0.000000  -3.287804  -2.240828  -1.896683  -0.540699  -1.003789   \n",
       "25%     0.000000   0.062194  -0.236010  -0.997295  -0.540699  -1.003789   \n",
       "50%     0.000000   0.062194  -0.236010  -0.097908  -0.540699  -0.226345   \n",
       "75%     1.000000   0.341361   0.766399   0.801479   0.583385   0.745461   \n",
       "max     1.000000   1.178860   1.768808   1.700867   3.955638   2.105989   \n",
       "\n",
       "          health   absences  Mjob_health  Mjob_other  Mjob_services  \\\n",
       "count  76.000000  76.000000    76.000000   76.000000      76.000000   \n",
       "mean   -0.058152   0.502295     0.026316    0.486842       0.276316   \n",
       "std     0.944314   1.740257     0.161136    0.503148       0.450146   \n",
       "min    -1.839649  -0.714236     0.000000    0.000000       0.000000   \n",
       "25%    -0.579334  -0.714236     0.000000    0.000000       0.000000   \n",
       "50%    -0.399289  -0.213796     0.000000    0.000000       0.000000   \n",
       "75%     1.041070   1.068583     0.000000    1.000000       1.000000   \n",
       "max     1.041070   8.669022     1.000000    1.000000       1.000000   \n",
       "\n",
       "       Mjob_teacher  Fjob_health  Fjob_other  Fjob_services  Fjob_teacher  \\\n",
       "count     76.000000    76.000000   76.000000      76.000000          76.0   \n",
       "mean       0.013158     0.013158    0.644737       0.302632           0.0   \n",
       "std        0.114708     0.114708    0.481773       0.462450           0.0   \n",
       "min        0.000000     0.000000    0.000000       0.000000           0.0   \n",
       "25%        0.000000     0.000000    0.000000       0.000000           0.0   \n",
       "50%        0.000000     0.000000    1.000000       0.000000           0.0   \n",
       "75%        0.000000     0.000000    1.000000       1.000000           0.0   \n",
       "max        1.000000     1.000000    1.000000       1.000000           0.0   \n",
       "\n",
       "       reason_home  reason_other  reason_reputation  guardian_mother  \\\n",
       "count    76.000000     76.000000           76.00000        76.000000   \n",
       "mean      0.368421      0.052632            0.25000         0.526316   \n",
       "std       0.485582      0.224781            0.43589         0.502625   \n",
       "min       0.000000      0.000000            0.00000         0.000000   \n",
       "25%       0.000000      0.000000            0.00000         0.000000   \n",
       "50%       0.000000      0.000000            0.00000         1.000000   \n",
       "75%       1.000000      0.000000            0.25000         1.000000   \n",
       "max       1.000000      1.000000            1.00000         1.000000   \n",
       "\n",
       "       guardian_other       prob  \n",
       "count       76.000000  76.000000  \n",
       "mean         0.328947   0.963303  \n",
       "std          0.472953   0.057804  \n",
       "min          0.000000   0.803143  \n",
       "25%          0.000000   0.943630  \n",
       "50%          0.000000   0.999261  \n",
       "75%          1.000000   0.999999  \n",
       "max          1.000000   1.000000  "
      ]
     },
     "execution_count": 685,
     "metadata": {},
     "output_type": "execute_result"
    }
   ],
   "source": [
    "#looking at only students with over 80% probabilty in percition of them being in low group\n",
    "bla.loc[bla.prob > 0.8].describe()"
   ]
  },
  {
   "cell_type": "code",
   "execution_count": 686,
   "metadata": {},
   "outputs": [],
   "source": [
    "from sklearn.inspection import permutation_importance"
   ]
  },
  {
   "cell_type": "code",
   "execution_count": 696,
   "metadata": {},
   "outputs": [
    {
     "data": {
      "text/plain": [
       "{'importances_mean': array([-0.00405063,  0.00556962, -0.00253165, -0.00607595, -0.00405063,\n",
       "        -0.00658228, -0.00151899,  0.00101266, -0.00962025, -0.01468354,\n",
       "         0.04405063,  0.01873418, -0.00708861, -0.00151899, -0.00303797,\n",
       "        -0.01265823,  0.00556962,  0.00303797,  0.00253165, -0.00202532,\n",
       "        -0.00050633, -0.00860759, -0.00202532, -0.00455696, -0.00303797,\n",
       "        -0.01063291, -0.00506329, -0.0035443 ,  0.00101266,  0.00050633,\n",
       "        -0.00455696, -0.00202532, -0.00556962,  0.00050633, -0.00556962,\n",
       "        -0.00455696, -0.01265823,  0.00101266, -0.00253165]),\n",
       " 'importances_std': array([0.0085628 , 0.00563824, 0.00620124, 0.00914201, 0.00202532,\n",
       "        0.00411344, 0.00258178, 0.006118  , 0.00822687, 0.00101266,\n",
       "        0.01699034, 0.01007582, 0.00189451, 0.00258178, 0.00189451,\n",
       "        0.00358029, 0.00490904, 0.00628338, 0.00320231, 0.00295238,\n",
       "        0.00189451, 0.00303797, 0.0024805 , 0.00516356, 0.0024805 ,\n",
       "        0.01274904, 0.00392201, 0.00411344, 0.00496099, 0.00435561,\n",
       "        0.00516356, 0.00516356, 0.00335861, 0.00490904, 0.00435561,\n",
       "        0.00372074, 0.00531042, 0.00521298, 0.00392201]),\n",
       " 'importances': array([[ 0.        ,  0.        ,  0.00759494, -0.01518987, -0.01265823],\n",
       "        [ 0.01518987,  0.        ,  0.        ,  0.00506329,  0.00759494],\n",
       "        [ 0.        , -0.00253165, -0.00759494, -0.01012658,  0.00759494],\n",
       "        [ 0.00759494, -0.02025316, -0.01012658, -0.00253165, -0.00506329],\n",
       "        [-0.00253165, -0.00506329, -0.00253165, -0.00253165, -0.00759494],\n",
       "        [-0.00253165, -0.01265823, -0.01012658, -0.00253165, -0.00506329],\n",
       "        [-0.00253165,  0.00253165, -0.00506329, -0.00253165,  0.        ],\n",
       "        [ 0.00506329, -0.00506329,  0.00759494, -0.00759494,  0.00506329],\n",
       "        [-0.01265823,  0.00506329, -0.01012658, -0.02025316, -0.01012658],\n",
       "        [-0.01518987, -0.01518987, -0.01518987, -0.01265823, -0.01518987],\n",
       "        [ 0.04303797,  0.04810127,  0.01518987,  0.04556962,  0.06835443],\n",
       "        [ 0.        ,  0.02025316,  0.02025316,  0.03037975,  0.02278481],\n",
       "        [-0.00759494, -0.00759494, -0.01012658, -0.00506329, -0.00506329],\n",
       "        [-0.00253165,  0.        ,  0.00253165, -0.00253165, -0.00506329],\n",
       "        [-0.00253165,  0.        , -0.00253165, -0.00506329, -0.00506329],\n",
       "        [-0.01518987, -0.01772152, -0.00759494, -0.01012658, -0.01265823],\n",
       "        [ 0.        ,  0.00759494,  0.        ,  0.01265823,  0.00759494],\n",
       "        [ 0.01012658, -0.00253165, -0.00506329,  0.00253165,  0.01012658],\n",
       "        [ 0.        ,  0.00506329,  0.        ,  0.        ,  0.00759494],\n",
       "        [-0.00759494,  0.        ,  0.        , -0.00253165,  0.        ],\n",
       "        [ 0.00253165,  0.        , -0.00253165, -0.00253165,  0.        ],\n",
       "        [-0.01012658, -0.01265823, -0.01012658, -0.00506329, -0.00506329],\n",
       "        [-0.00253165,  0.00253165, -0.00253165, -0.00253165, -0.00506329],\n",
       "        [-0.01012658,  0.00506329, -0.00759494, -0.00506329, -0.00506329],\n",
       "        [ 0.        ,  0.        , -0.00506329, -0.00506329, -0.00506329],\n",
       "        [-0.03037975, -0.00506329, -0.00759494, -0.01772152,  0.00759494],\n",
       "        [-0.00506329, -0.00759494, -0.00759494, -0.00759494,  0.00253165],\n",
       "        [-0.00506329, -0.01012658,  0.00253165, -0.00253165, -0.00253165],\n",
       "        [ 0.00253165,  0.00759494, -0.00759494,  0.00253165,  0.        ],\n",
       "        [ 0.00253165,  0.        , -0.00506329, -0.00253165,  0.00759494],\n",
       "        [-0.01012658, -0.00506329,  0.00253165, -0.01012658,  0.        ],\n",
       "        [-0.00759494,  0.00506329,  0.00253165, -0.00759494, -0.00253165],\n",
       "        [-0.00506329,  0.        , -0.00506329, -0.01012658, -0.00759494],\n",
       "        [-0.00253165,  0.00506329, -0.00253165,  0.00759494, -0.00506329],\n",
       "        [-0.00253165, -0.01265823, -0.00506329, -0.00759494,  0.        ],\n",
       "        [-0.00253165,  0.        , -0.00253165, -0.01012658, -0.00759494],\n",
       "        [-0.00759494, -0.01772152, -0.01772152, -0.01518987, -0.00506329],\n",
       "        [-0.00759494,  0.        ,  0.00759494,  0.00506329,  0.        ],\n",
       "        [ 0.        ,  0.        , -0.01012658,  0.        , -0.00253165]])}"
      ]
     },
     "execution_count": 696,
     "metadata": {},
     "output_type": "execute_result"
    }
   ],
   "source": [
    "perm = permutation_importance(model, X, y_1)\n",
    "perm\n",
    "#looking at importances of different features. "
   ]
  },
  {
   "cell_type": "code",
   "execution_count": 717,
   "metadata": {},
   "outputs": [],
   "source": [
    "#getting only mean importance\n",
    "imp = [perm.importances_mean]\n",
    "imp = pd.DataFrame(imp).T"
   ]
  },
  {
   "cell_type": "code",
   "execution_count": 718,
   "metadata": {},
   "outputs": [],
   "source": [
    "#getting features\n",
    "col = [df.columns]\n",
    "col = pd.DataFrame(col).T"
   ]
  },
  {
   "cell_type": "code",
   "execution_count": 719,
   "metadata": {},
   "outputs": [],
   "source": [
    "#making importance column next to feature\n",
    "col['imp']=imp"
   ]
  },
  {
   "cell_type": "code",
   "execution_count": 720,
   "metadata": {},
   "outputs": [
    {
     "data": {
      "text/html": [
       "<div>\n",
       "<style scoped>\n",
       "    .dataframe tbody tr th:only-of-type {\n",
       "        vertical-align: middle;\n",
       "    }\n",
       "\n",
       "    .dataframe tbody tr th {\n",
       "        vertical-align: top;\n",
       "    }\n",
       "\n",
       "    .dataframe thead th {\n",
       "        text-align: right;\n",
       "    }\n",
       "</style>\n",
       "<table border=\"1\" class=\"dataframe\">\n",
       "  <thead>\n",
       "    <tr style=\"text-align: right;\">\n",
       "      <th></th>\n",
       "      <th>0</th>\n",
       "      <th>imp</th>\n",
       "    </tr>\n",
       "  </thead>\n",
       "  <tbody>\n",
       "    <tr>\n",
       "      <th>0</th>\n",
       "      <td>school</td>\n",
       "      <td>-0.004051</td>\n",
       "    </tr>\n",
       "    <tr>\n",
       "      <th>1</th>\n",
       "      <td>sex</td>\n",
       "      <td>0.005570</td>\n",
       "    </tr>\n",
       "    <tr>\n",
       "      <th>2</th>\n",
       "      <td>age</td>\n",
       "      <td>-0.002532</td>\n",
       "    </tr>\n",
       "    <tr>\n",
       "      <th>3</th>\n",
       "      <td>address</td>\n",
       "      <td>-0.006076</td>\n",
       "    </tr>\n",
       "    <tr>\n",
       "      <th>4</th>\n",
       "      <td>famsize</td>\n",
       "      <td>-0.004051</td>\n",
       "    </tr>\n",
       "    <tr>\n",
       "      <th>5</th>\n",
       "      <td>Pstatus</td>\n",
       "      <td>-0.006582</td>\n",
       "    </tr>\n",
       "    <tr>\n",
       "      <th>6</th>\n",
       "      <td>Medu</td>\n",
       "      <td>-0.001519</td>\n",
       "    </tr>\n",
       "    <tr>\n",
       "      <th>7</th>\n",
       "      <td>Fedu</td>\n",
       "      <td>0.001013</td>\n",
       "    </tr>\n",
       "    <tr>\n",
       "      <th>8</th>\n",
       "      <td>Mjob</td>\n",
       "      <td>-0.009620</td>\n",
       "    </tr>\n",
       "    <tr>\n",
       "      <th>9</th>\n",
       "      <td>Fjob</td>\n",
       "      <td>-0.014684</td>\n",
       "    </tr>\n",
       "    <tr>\n",
       "      <th>10</th>\n",
       "      <td>reason</td>\n",
       "      <td>0.044051</td>\n",
       "    </tr>\n",
       "    <tr>\n",
       "      <th>11</th>\n",
       "      <td>guardian</td>\n",
       "      <td>0.018734</td>\n",
       "    </tr>\n",
       "    <tr>\n",
       "      <th>12</th>\n",
       "      <td>traveltime</td>\n",
       "      <td>-0.007089</td>\n",
       "    </tr>\n",
       "    <tr>\n",
       "      <th>13</th>\n",
       "      <td>studytime</td>\n",
       "      <td>-0.001519</td>\n",
       "    </tr>\n",
       "    <tr>\n",
       "      <th>14</th>\n",
       "      <td>failures</td>\n",
       "      <td>-0.003038</td>\n",
       "    </tr>\n",
       "    <tr>\n",
       "      <th>15</th>\n",
       "      <td>schoolsup</td>\n",
       "      <td>-0.012658</td>\n",
       "    </tr>\n",
       "    <tr>\n",
       "      <th>16</th>\n",
       "      <td>famsup</td>\n",
       "      <td>0.005570</td>\n",
       "    </tr>\n",
       "    <tr>\n",
       "      <th>17</th>\n",
       "      <td>paid</td>\n",
       "      <td>0.003038</td>\n",
       "    </tr>\n",
       "    <tr>\n",
       "      <th>18</th>\n",
       "      <td>activities</td>\n",
       "      <td>0.002532</td>\n",
       "    </tr>\n",
       "    <tr>\n",
       "      <th>19</th>\n",
       "      <td>nursery</td>\n",
       "      <td>-0.002025</td>\n",
       "    </tr>\n",
       "    <tr>\n",
       "      <th>20</th>\n",
       "      <td>higher</td>\n",
       "      <td>-0.000506</td>\n",
       "    </tr>\n",
       "    <tr>\n",
       "      <th>21</th>\n",
       "      <td>internet</td>\n",
       "      <td>-0.008608</td>\n",
       "    </tr>\n",
       "    <tr>\n",
       "      <th>22</th>\n",
       "      <td>romantic</td>\n",
       "      <td>-0.002025</td>\n",
       "    </tr>\n",
       "    <tr>\n",
       "      <th>23</th>\n",
       "      <td>famrel</td>\n",
       "      <td>-0.004557</td>\n",
       "    </tr>\n",
       "    <tr>\n",
       "      <th>24</th>\n",
       "      <td>freetime</td>\n",
       "      <td>-0.003038</td>\n",
       "    </tr>\n",
       "    <tr>\n",
       "      <th>25</th>\n",
       "      <td>goout</td>\n",
       "      <td>-0.010633</td>\n",
       "    </tr>\n",
       "    <tr>\n",
       "      <th>26</th>\n",
       "      <td>Dalc</td>\n",
       "      <td>-0.005063</td>\n",
       "    </tr>\n",
       "    <tr>\n",
       "      <th>27</th>\n",
       "      <td>Walc</td>\n",
       "      <td>-0.003544</td>\n",
       "    </tr>\n",
       "    <tr>\n",
       "      <th>28</th>\n",
       "      <td>health</td>\n",
       "      <td>0.001013</td>\n",
       "    </tr>\n",
       "    <tr>\n",
       "      <th>29</th>\n",
       "      <td>absences</td>\n",
       "      <td>0.000506</td>\n",
       "    </tr>\n",
       "    <tr>\n",
       "      <th>30</th>\n",
       "      <td>G1</td>\n",
       "      <td>-0.004557</td>\n",
       "    </tr>\n",
       "    <tr>\n",
       "      <th>31</th>\n",
       "      <td>G2</td>\n",
       "      <td>-0.002025</td>\n",
       "    </tr>\n",
       "    <tr>\n",
       "      <th>32</th>\n",
       "      <td>G3</td>\n",
       "      <td>-0.005570</td>\n",
       "    </tr>\n",
       "  </tbody>\n",
       "</table>\n",
       "</div>"
      ],
      "text/plain": [
       "             0       imp\n",
       "0       school -0.004051\n",
       "1          sex  0.005570\n",
       "2          age -0.002532\n",
       "3      address -0.006076\n",
       "4      famsize -0.004051\n",
       "5      Pstatus -0.006582\n",
       "6         Medu -0.001519\n",
       "7         Fedu  0.001013\n",
       "8         Mjob -0.009620\n",
       "9         Fjob -0.014684\n",
       "10      reason  0.044051\n",
       "11    guardian  0.018734\n",
       "12  traveltime -0.007089\n",
       "13   studytime -0.001519\n",
       "14    failures -0.003038\n",
       "15   schoolsup -0.012658\n",
       "16      famsup  0.005570\n",
       "17        paid  0.003038\n",
       "18  activities  0.002532\n",
       "19     nursery -0.002025\n",
       "20      higher -0.000506\n",
       "21    internet -0.008608\n",
       "22    romantic -0.002025\n",
       "23      famrel -0.004557\n",
       "24    freetime -0.003038\n",
       "25       goout -0.010633\n",
       "26        Dalc -0.005063\n",
       "27        Walc -0.003544\n",
       "28      health  0.001013\n",
       "29    absences  0.000506\n",
       "30          G1 -0.004557\n",
       "31          G2 -0.002025\n",
       "32          G3 -0.005570"
      ]
     },
     "execution_count": 720,
     "metadata": {},
     "output_type": "execute_result"
    }
   ],
   "source": [
    "#mean importancce of each feature\n",
    "col"
   ]
  },
  {
   "cell_type": "code",
   "execution_count": null,
   "metadata": {},
   "outputs": [],
   "source": []
  }
 ],
 "metadata": {
  "kernelspec": {
   "display_name": "Python 3",
   "language": "python",
   "name": "python3"
  },
  "language_info": {
   "codemirror_mode": {
    "name": "ipython",
    "version": 3
   },
   "file_extension": ".py",
   "mimetype": "text/x-python",
   "name": "python",
   "nbconvert_exporter": "python",
   "pygments_lexer": "ipython3",
   "version": "3.8.3"
  }
 },
 "nbformat": 4,
 "nbformat_minor": 4
}
